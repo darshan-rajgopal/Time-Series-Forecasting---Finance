{
 "cells": [
  {
   "cell_type": "code",
   "execution_count": 1,
   "id": "c2ef9b47",
   "metadata": {
    "id": "c2ef9b47"
   },
   "outputs": [],
   "source": [
    "import numpy as np\n",
    "import pandas as pd\n",
    "from tensorflow.keras.models import Sequential\n",
    "from tensorflow.keras.layers import LSTM\n",
    "from tensorflow.keras.layers import Dense\n",
    "from tensorflow.keras.layers import Flatten\n",
    "import matplotlib.pyplot as plt\n",
    "import warnings\n",
    "warnings.filterwarnings('ignore')\n",
    "%matplotlib inline"
   ]
  },
  {
   "cell_type": "code",
   "execution_count": 2,
   "id": "iGQk9lcRmucZ",
   "metadata": {
    "colab": {
     "base_uri": "https://localhost:8080/"
    },
    "id": "iGQk9lcRmucZ",
    "outputId": "55173b69-a75e-4dfd-efe4-a63e428ede75"
   },
   "outputs": [
    {
     "name": "stdout",
     "output_type": "stream",
     "text": [
      "Mounted at /content/drive\n"
     ]
    }
   ],
   "source": [
    "from google.colab import drive\n",
    "drive.mount('/content/drive')"
   ]
  },
  {
   "cell_type": "code",
   "execution_count": null,
   "id": "BxDZtfokj6Da",
   "metadata": {
    "colab": {
     "base_uri": "https://localhost:8080/",
     "height": 35
    },
    "id": "BxDZtfokj6Da",
    "outputId": "b20dcdbd-c02a-48ad-a576-4ba9370acae1"
   },
   "outputs": [
    {
     "data": {
      "application/vnd.google.colaboratory.intrinsic+json": {
       "type": "string"
      },
      "text/plain": [
       "'/device:GPU:0'"
      ]
     },
     "execution_count": 5,
     "metadata": {},
     "output_type": "execute_result"
    }
   ],
   "source": [
    "import tensorflow as tf\n",
    "tf.test.gpu_device_name()"
   ]
  },
  {
   "cell_type": "code",
   "execution_count": null,
   "id": "UDt4KrAxj6JS",
   "metadata": {
    "colab": {
     "base_uri": "https://localhost:8080/"
    },
    "id": "UDt4KrAxj6JS",
    "outputId": "9d528187-3aea-4259-a635-0d1eddbc47d0"
   },
   "outputs": [
    {
     "data": {
      "text/plain": [
       "[name: \"/device:CPU:0\"\n",
       " device_type: \"CPU\"\n",
       " memory_limit: 268435456\n",
       " locality {\n",
       " }\n",
       " incarnation: 14494480343520806349\n",
       " xla_global_id: -1, name: \"/device:GPU:0\"\n",
       " device_type: \"GPU\"\n",
       " memory_limit: 11320098816\n",
       " locality {\n",
       "   bus_id: 1\n",
       "   links {\n",
       "   }\n",
       " }\n",
       " incarnation: 1229225032833911937\n",
       " physical_device_desc: \"device: 0, name: Tesla K80, pci bus id: 0000:00:04.0, compute capability: 3.7\"\n",
       " xla_global_id: 416903419]"
      ]
     },
     "execution_count": 6,
     "metadata": {},
     "output_type": "execute_result"
    }
   ],
   "source": [
    "from tensorflow.python.client import device_lib\n",
    "device_lib.list_local_devices()"
   ]
  },
  {
   "cell_type": "code",
   "execution_count": 3,
   "id": "30d066a0",
   "metadata": {
    "colab": {
     "base_uri": "https://localhost:8080/",
     "height": 206
    },
    "id": "30d066a0",
    "outputId": "e916c63c-d850-4c74-8f93-f561a0fd873a"
   },
   "outputs": [
    {
     "data": {
      "text/html": [
       "\n",
       "  <div id=\"df-106bb09b-649c-4ad5-8c66-996fd8bb49c1\">\n",
       "    <div class=\"colab-df-container\">\n",
       "      <div>\n",
       "<style scoped>\n",
       "    .dataframe tbody tr th:only-of-type {\n",
       "        vertical-align: middle;\n",
       "    }\n",
       "\n",
       "    .dataframe tbody tr th {\n",
       "        vertical-align: top;\n",
       "    }\n",
       "\n",
       "    .dataframe thead th {\n",
       "        text-align: right;\n",
       "    }\n",
       "</style>\n",
       "<table border=\"1\" class=\"dataframe\">\n",
       "  <thead>\n",
       "    <tr style=\"text-align: right;\">\n",
       "      <th></th>\n",
       "      <th>Brent crude oil spot price</th>\n",
       "      <th>Monthly (dollars per barrel)</th>\n",
       "    </tr>\n",
       "  </thead>\n",
       "  <tbody>\n",
       "    <tr>\n",
       "      <th>0</th>\n",
       "      <td>1990 01</td>\n",
       "      <td>21.251</td>\n",
       "    </tr>\n",
       "    <tr>\n",
       "      <th>1</th>\n",
       "      <td>1990 02</td>\n",
       "      <td>19.813</td>\n",
       "    </tr>\n",
       "    <tr>\n",
       "      <th>2</th>\n",
       "      <td>1990 03</td>\n",
       "      <td>18.387</td>\n",
       "    </tr>\n",
       "    <tr>\n",
       "      <th>3</th>\n",
       "      <td>1990 04</td>\n",
       "      <td>16.612</td>\n",
       "    </tr>\n",
       "    <tr>\n",
       "      <th>4</th>\n",
       "      <td>1990 05</td>\n",
       "      <td>16.352</td>\n",
       "    </tr>\n",
       "  </tbody>\n",
       "</table>\n",
       "</div>\n",
       "      <button class=\"colab-df-convert\" onclick=\"convertToInteractive('df-106bb09b-649c-4ad5-8c66-996fd8bb49c1')\"\n",
       "              title=\"Convert this dataframe to an interactive table.\"\n",
       "              style=\"display:none;\">\n",
       "        \n",
       "  <svg xmlns=\"http://www.w3.org/2000/svg\" height=\"24px\"viewBox=\"0 0 24 24\"\n",
       "       width=\"24px\">\n",
       "    <path d=\"M0 0h24v24H0V0z\" fill=\"none\"/>\n",
       "    <path d=\"M18.56 5.44l.94 2.06.94-2.06 2.06-.94-2.06-.94-.94-2.06-.94 2.06-2.06.94zm-11 1L8.5 8.5l.94-2.06 2.06-.94-2.06-.94L8.5 2.5l-.94 2.06-2.06.94zm10 10l.94 2.06.94-2.06 2.06-.94-2.06-.94-.94-2.06-.94 2.06-2.06.94z\"/><path d=\"M17.41 7.96l-1.37-1.37c-.4-.4-.92-.59-1.43-.59-.52 0-1.04.2-1.43.59L10.3 9.45l-7.72 7.72c-.78.78-.78 2.05 0 2.83L4 21.41c.39.39.9.59 1.41.59.51 0 1.02-.2 1.41-.59l7.78-7.78 2.81-2.81c.8-.78.8-2.07 0-2.86zM5.41 20L4 18.59l7.72-7.72 1.47 1.35L5.41 20z\"/>\n",
       "  </svg>\n",
       "      </button>\n",
       "      \n",
       "  <style>\n",
       "    .colab-df-container {\n",
       "      display:flex;\n",
       "      flex-wrap:wrap;\n",
       "      gap: 12px;\n",
       "    }\n",
       "\n",
       "    .colab-df-convert {\n",
       "      background-color: #E8F0FE;\n",
       "      border: none;\n",
       "      border-radius: 50%;\n",
       "      cursor: pointer;\n",
       "      display: none;\n",
       "      fill: #1967D2;\n",
       "      height: 32px;\n",
       "      padding: 0 0 0 0;\n",
       "      width: 32px;\n",
       "    }\n",
       "\n",
       "    .colab-df-convert:hover {\n",
       "      background-color: #E2EBFA;\n",
       "      box-shadow: 0px 1px 2px rgba(60, 64, 67, 0.3), 0px 1px 3px 1px rgba(60, 64, 67, 0.15);\n",
       "      fill: #174EA6;\n",
       "    }\n",
       "\n",
       "    [theme=dark] .colab-df-convert {\n",
       "      background-color: #3B4455;\n",
       "      fill: #D2E3FC;\n",
       "    }\n",
       "\n",
       "    [theme=dark] .colab-df-convert:hover {\n",
       "      background-color: #434B5C;\n",
       "      box-shadow: 0px 1px 3px 1px rgba(0, 0, 0, 0.15);\n",
       "      filter: drop-shadow(0px 1px 2px rgba(0, 0, 0, 0.3));\n",
       "      fill: #FFFFFF;\n",
       "    }\n",
       "  </style>\n",
       "\n",
       "      <script>\n",
       "        const buttonEl =\n",
       "          document.querySelector('#df-106bb09b-649c-4ad5-8c66-996fd8bb49c1 button.colab-df-convert');\n",
       "        buttonEl.style.display =\n",
       "          google.colab.kernel.accessAllowed ? 'block' : 'none';\n",
       "\n",
       "        async function convertToInteractive(key) {\n",
       "          const element = document.querySelector('#df-106bb09b-649c-4ad5-8c66-996fd8bb49c1');\n",
       "          const dataTable =\n",
       "            await google.colab.kernel.invokeFunction('convertToInteractive',\n",
       "                                                     [key], {});\n",
       "          if (!dataTable) return;\n",
       "\n",
       "          const docLinkHtml = 'Like what you see? Visit the ' +\n",
       "            '<a target=\"_blank\" href=https://colab.research.google.com/notebooks/data_table.ipynb>data table notebook</a>'\n",
       "            + ' to learn more about interactive tables.';\n",
       "          element.innerHTML = '';\n",
       "          dataTable['output_type'] = 'display_data';\n",
       "          await google.colab.output.renderOutput(dataTable, element);\n",
       "          const docLink = document.createElement('div');\n",
       "          docLink.innerHTML = docLinkHtml;\n",
       "          element.appendChild(docLink);\n",
       "        }\n",
       "      </script>\n",
       "    </div>\n",
       "  </div>\n",
       "  "
      ],
      "text/plain": [
       "  Brent crude oil spot price   Monthly (dollars per barrel)\n",
       "0                   1990 01                          21.251\n",
       "1                   1990 02                          19.813\n",
       "2                   1990 03                          18.387\n",
       "3                   1990 04                          16.612\n",
       "4                   1990 05                          16.352"
      ]
     },
     "execution_count": 3,
     "metadata": {},
     "output_type": "execute_result"
    }
   ],
   "source": [
    "df = pd.read_csv('/content/drive/MyDrive/Colab Notebooks/Financial/Brent monthly crude oil spot price.csv')\n",
    "df.head()"
   ]
  },
  {
   "cell_type": "code",
   "execution_count": 4,
   "id": "e2663bb4",
   "metadata": {
    "colab": {
     "base_uri": "https://localhost:8080/",
     "height": 206
    },
    "id": "e2663bb4",
    "outputId": "8090032b-48d3-413b-8e49-50d76eef4f70"
   },
   "outputs": [
    {
     "data": {
      "text/html": [
       "\n",
       "  <div id=\"df-4b8c1771-25cb-4a42-bcc9-79ca1014c7d7\">\n",
       "    <div class=\"colab-df-container\">\n",
       "      <div>\n",
       "<style scoped>\n",
       "    .dataframe tbody tr th:only-of-type {\n",
       "        vertical-align: middle;\n",
       "    }\n",
       "\n",
       "    .dataframe tbody tr th {\n",
       "        vertical-align: top;\n",
       "    }\n",
       "\n",
       "    .dataframe thead th {\n",
       "        text-align: right;\n",
       "    }\n",
       "</style>\n",
       "<table border=\"1\" class=\"dataframe\">\n",
       "  <thead>\n",
       "    <tr style=\"text-align: right;\">\n",
       "      <th></th>\n",
       "      <th>Brent crude oil spot price</th>\n",
       "      <th>Monthly (dollars per barrel)</th>\n",
       "    </tr>\n",
       "  </thead>\n",
       "  <tbody>\n",
       "    <tr>\n",
       "      <th>391</th>\n",
       "      <td>2022 08</td>\n",
       "      <td>60.0</td>\n",
       "    </tr>\n",
       "    <tr>\n",
       "      <th>392</th>\n",
       "      <td>2022 09</td>\n",
       "      <td>60.0</td>\n",
       "    </tr>\n",
       "    <tr>\n",
       "      <th>393</th>\n",
       "      <td>2022 10</td>\n",
       "      <td>61.0</td>\n",
       "    </tr>\n",
       "    <tr>\n",
       "      <th>394</th>\n",
       "      <td>2022 11</td>\n",
       "      <td>61.0</td>\n",
       "    </tr>\n",
       "    <tr>\n",
       "      <th>395</th>\n",
       "      <td>2022 12</td>\n",
       "      <td>61.0</td>\n",
       "    </tr>\n",
       "  </tbody>\n",
       "</table>\n",
       "</div>\n",
       "      <button class=\"colab-df-convert\" onclick=\"convertToInteractive('df-4b8c1771-25cb-4a42-bcc9-79ca1014c7d7')\"\n",
       "              title=\"Convert this dataframe to an interactive table.\"\n",
       "              style=\"display:none;\">\n",
       "        \n",
       "  <svg xmlns=\"http://www.w3.org/2000/svg\" height=\"24px\"viewBox=\"0 0 24 24\"\n",
       "       width=\"24px\">\n",
       "    <path d=\"M0 0h24v24H0V0z\" fill=\"none\"/>\n",
       "    <path d=\"M18.56 5.44l.94 2.06.94-2.06 2.06-.94-2.06-.94-.94-2.06-.94 2.06-2.06.94zm-11 1L8.5 8.5l.94-2.06 2.06-.94-2.06-.94L8.5 2.5l-.94 2.06-2.06.94zm10 10l.94 2.06.94-2.06 2.06-.94-2.06-.94-.94-2.06-.94 2.06-2.06.94z\"/><path d=\"M17.41 7.96l-1.37-1.37c-.4-.4-.92-.59-1.43-.59-.52 0-1.04.2-1.43.59L10.3 9.45l-7.72 7.72c-.78.78-.78 2.05 0 2.83L4 21.41c.39.39.9.59 1.41.59.51 0 1.02-.2 1.41-.59l7.78-7.78 2.81-2.81c.8-.78.8-2.07 0-2.86zM5.41 20L4 18.59l7.72-7.72 1.47 1.35L5.41 20z\"/>\n",
       "  </svg>\n",
       "      </button>\n",
       "      \n",
       "  <style>\n",
       "    .colab-df-container {\n",
       "      display:flex;\n",
       "      flex-wrap:wrap;\n",
       "      gap: 12px;\n",
       "    }\n",
       "\n",
       "    .colab-df-convert {\n",
       "      background-color: #E8F0FE;\n",
       "      border: none;\n",
       "      border-radius: 50%;\n",
       "      cursor: pointer;\n",
       "      display: none;\n",
       "      fill: #1967D2;\n",
       "      height: 32px;\n",
       "      padding: 0 0 0 0;\n",
       "      width: 32px;\n",
       "    }\n",
       "\n",
       "    .colab-df-convert:hover {\n",
       "      background-color: #E2EBFA;\n",
       "      box-shadow: 0px 1px 2px rgba(60, 64, 67, 0.3), 0px 1px 3px 1px rgba(60, 64, 67, 0.15);\n",
       "      fill: #174EA6;\n",
       "    }\n",
       "\n",
       "    [theme=dark] .colab-df-convert {\n",
       "      background-color: #3B4455;\n",
       "      fill: #D2E3FC;\n",
       "    }\n",
       "\n",
       "    [theme=dark] .colab-df-convert:hover {\n",
       "      background-color: #434B5C;\n",
       "      box-shadow: 0px 1px 3px 1px rgba(0, 0, 0, 0.15);\n",
       "      filter: drop-shadow(0px 1px 2px rgba(0, 0, 0, 0.3));\n",
       "      fill: #FFFFFF;\n",
       "    }\n",
       "  </style>\n",
       "\n",
       "      <script>\n",
       "        const buttonEl =\n",
       "          document.querySelector('#df-4b8c1771-25cb-4a42-bcc9-79ca1014c7d7 button.colab-df-convert');\n",
       "        buttonEl.style.display =\n",
       "          google.colab.kernel.accessAllowed ? 'block' : 'none';\n",
       "\n",
       "        async function convertToInteractive(key) {\n",
       "          const element = document.querySelector('#df-4b8c1771-25cb-4a42-bcc9-79ca1014c7d7');\n",
       "          const dataTable =\n",
       "            await google.colab.kernel.invokeFunction('convertToInteractive',\n",
       "                                                     [key], {});\n",
       "          if (!dataTable) return;\n",
       "\n",
       "          const docLinkHtml = 'Like what you see? Visit the ' +\n",
       "            '<a target=\"_blank\" href=https://colab.research.google.com/notebooks/data_table.ipynb>data table notebook</a>'\n",
       "            + ' to learn more about interactive tables.';\n",
       "          element.innerHTML = '';\n",
       "          dataTable['output_type'] = 'display_data';\n",
       "          await google.colab.output.renderOutput(dataTable, element);\n",
       "          const docLink = document.createElement('div');\n",
       "          docLink.innerHTML = docLinkHtml;\n",
       "          element.appendChild(docLink);\n",
       "        }\n",
       "      </script>\n",
       "    </div>\n",
       "  </div>\n",
       "  "
      ],
      "text/plain": [
       "    Brent crude oil spot price   Monthly (dollars per barrel)\n",
       "391                   2022 08                            60.0\n",
       "392                   2022 09                            60.0\n",
       "393                   2022 10                            61.0\n",
       "394                   2022 11                            61.0\n",
       "395                   2022 12                            61.0"
      ]
     },
     "execution_count": 4,
     "metadata": {},
     "output_type": "execute_result"
    }
   ],
   "source": [
    "df.tail()"
   ]
  },
  {
   "cell_type": "code",
   "execution_count": 5,
   "id": "0482272d",
   "metadata": {
    "colab": {
     "base_uri": "https://localhost:8080/"
    },
    "id": "0482272d",
    "outputId": "edeadc23-aef8-4c36-c75c-fd174a918ec7"
   },
   "outputs": [
    {
     "data": {
      "text/plain": [
       "(396, 2)"
      ]
     },
     "execution_count": 5,
     "metadata": {},
     "output_type": "execute_result"
    }
   ],
   "source": [
    "df.shape"
   ]
  },
  {
   "cell_type": "code",
   "execution_count": 6,
   "id": "076f1ad3",
   "metadata": {
    "colab": {
     "base_uri": "https://localhost:8080/"
    },
    "id": "076f1ad3",
    "outputId": "eea739f7-1e8e-4f9c-a6ea-786d3e37fcb5"
   },
   "outputs": [
    {
     "name": "stdout",
     "output_type": "stream",
     "text": [
      "<class 'pandas.core.frame.DataFrame'>\n",
      "RangeIndex: 396 entries, 0 to 395\n",
      "Data columns (total 2 columns):\n",
      " #   Column                         Non-Null Count  Dtype  \n",
      "---  ------                         --------------  -----  \n",
      " 0   Brent crude oil spot price     396 non-null    object \n",
      " 1    Monthly (dollars per barrel)  396 non-null    float64\n",
      "dtypes: float64(1), object(1)\n",
      "memory usage: 6.3+ KB\n"
     ]
    }
   ],
   "source": [
    "df.info()"
   ]
  },
  {
   "cell_type": "code",
   "execution_count": 7,
   "id": "ZXaa0RR6_Uo3",
   "metadata": {
    "id": "ZXaa0RR6_Uo3"
   },
   "outputs": [],
   "source": [
    "time = pd.date_range(start='1/1/1990',periods=396,freq='M')\n",
    "df['time_stamp'] = pd.DataFrame(time)\n",
    "df.drop(['Brent crude oil spot price'],axis=1,inplace=True)\n",
    "df = df.set_index('time_stamp')"
   ]
  },
  {
   "cell_type": "code",
   "execution_count": 8,
   "id": "JEYPKNG6_SkI",
   "metadata": {
    "id": "JEYPKNG6_SkI"
   },
   "outputs": [],
   "source": [
    "df.columns=['dollars_per_barrel']"
   ]
  },
  {
   "cell_type": "code",
   "execution_count": 9,
   "id": "oYAsh_OytrPi",
   "metadata": {
    "colab": {
     "base_uri": "https://localhost:8080/",
     "height": 238
    },
    "id": "oYAsh_OytrPi",
    "outputId": "ba5e91b5-5fef-429e-8128-378b13ac96d1"
   },
   "outputs": [
    {
     "data": {
      "text/html": [
       "\n",
       "  <div id=\"df-df91fbac-8460-45d4-be29-16840bf184ee\">\n",
       "    <div class=\"colab-df-container\">\n",
       "      <div>\n",
       "<style scoped>\n",
       "    .dataframe tbody tr th:only-of-type {\n",
       "        vertical-align: middle;\n",
       "    }\n",
       "\n",
       "    .dataframe tbody tr th {\n",
       "        vertical-align: top;\n",
       "    }\n",
       "\n",
       "    .dataframe thead th {\n",
       "        text-align: right;\n",
       "    }\n",
       "</style>\n",
       "<table border=\"1\" class=\"dataframe\">\n",
       "  <thead>\n",
       "    <tr style=\"text-align: right;\">\n",
       "      <th></th>\n",
       "      <th>dollars_per_barrel</th>\n",
       "    </tr>\n",
       "    <tr>\n",
       "      <th>time_stamp</th>\n",
       "      <th></th>\n",
       "    </tr>\n",
       "  </thead>\n",
       "  <tbody>\n",
       "    <tr>\n",
       "      <th>1990-01-31</th>\n",
       "      <td>21.251</td>\n",
       "    </tr>\n",
       "    <tr>\n",
       "      <th>1990-02-28</th>\n",
       "      <td>19.813</td>\n",
       "    </tr>\n",
       "    <tr>\n",
       "      <th>1990-03-31</th>\n",
       "      <td>18.387</td>\n",
       "    </tr>\n",
       "    <tr>\n",
       "      <th>1990-04-30</th>\n",
       "      <td>16.612</td>\n",
       "    </tr>\n",
       "    <tr>\n",
       "      <th>1990-05-31</th>\n",
       "      <td>16.352</td>\n",
       "    </tr>\n",
       "  </tbody>\n",
       "</table>\n",
       "</div>\n",
       "      <button class=\"colab-df-convert\" onclick=\"convertToInteractive('df-df91fbac-8460-45d4-be29-16840bf184ee')\"\n",
       "              title=\"Convert this dataframe to an interactive table.\"\n",
       "              style=\"display:none;\">\n",
       "        \n",
       "  <svg xmlns=\"http://www.w3.org/2000/svg\" height=\"24px\"viewBox=\"0 0 24 24\"\n",
       "       width=\"24px\">\n",
       "    <path d=\"M0 0h24v24H0V0z\" fill=\"none\"/>\n",
       "    <path d=\"M18.56 5.44l.94 2.06.94-2.06 2.06-.94-2.06-.94-.94-2.06-.94 2.06-2.06.94zm-11 1L8.5 8.5l.94-2.06 2.06-.94-2.06-.94L8.5 2.5l-.94 2.06-2.06.94zm10 10l.94 2.06.94-2.06 2.06-.94-2.06-.94-.94-2.06-.94 2.06-2.06.94z\"/><path d=\"M17.41 7.96l-1.37-1.37c-.4-.4-.92-.59-1.43-.59-.52 0-1.04.2-1.43.59L10.3 9.45l-7.72 7.72c-.78.78-.78 2.05 0 2.83L4 21.41c.39.39.9.59 1.41.59.51 0 1.02-.2 1.41-.59l7.78-7.78 2.81-2.81c.8-.78.8-2.07 0-2.86zM5.41 20L4 18.59l7.72-7.72 1.47 1.35L5.41 20z\"/>\n",
       "  </svg>\n",
       "      </button>\n",
       "      \n",
       "  <style>\n",
       "    .colab-df-container {\n",
       "      display:flex;\n",
       "      flex-wrap:wrap;\n",
       "      gap: 12px;\n",
       "    }\n",
       "\n",
       "    .colab-df-convert {\n",
       "      background-color: #E8F0FE;\n",
       "      border: none;\n",
       "      border-radius: 50%;\n",
       "      cursor: pointer;\n",
       "      display: none;\n",
       "      fill: #1967D2;\n",
       "      height: 32px;\n",
       "      padding: 0 0 0 0;\n",
       "      width: 32px;\n",
       "    }\n",
       "\n",
       "    .colab-df-convert:hover {\n",
       "      background-color: #E2EBFA;\n",
       "      box-shadow: 0px 1px 2px rgba(60, 64, 67, 0.3), 0px 1px 3px 1px rgba(60, 64, 67, 0.15);\n",
       "      fill: #174EA6;\n",
       "    }\n",
       "\n",
       "    [theme=dark] .colab-df-convert {\n",
       "      background-color: #3B4455;\n",
       "      fill: #D2E3FC;\n",
       "    }\n",
       "\n",
       "    [theme=dark] .colab-df-convert:hover {\n",
       "      background-color: #434B5C;\n",
       "      box-shadow: 0px 1px 3px 1px rgba(0, 0, 0, 0.15);\n",
       "      filter: drop-shadow(0px 1px 2px rgba(0, 0, 0, 0.3));\n",
       "      fill: #FFFFFF;\n",
       "    }\n",
       "  </style>\n",
       "\n",
       "      <script>\n",
       "        const buttonEl =\n",
       "          document.querySelector('#df-df91fbac-8460-45d4-be29-16840bf184ee button.colab-df-convert');\n",
       "        buttonEl.style.display =\n",
       "          google.colab.kernel.accessAllowed ? 'block' : 'none';\n",
       "\n",
       "        async function convertToInteractive(key) {\n",
       "          const element = document.querySelector('#df-df91fbac-8460-45d4-be29-16840bf184ee');\n",
       "          const dataTable =\n",
       "            await google.colab.kernel.invokeFunction('convertToInteractive',\n",
       "                                                     [key], {});\n",
       "          if (!dataTable) return;\n",
       "\n",
       "          const docLinkHtml = 'Like what you see? Visit the ' +\n",
       "            '<a target=\"_blank\" href=https://colab.research.google.com/notebooks/data_table.ipynb>data table notebook</a>'\n",
       "            + ' to learn more about interactive tables.';\n",
       "          element.innerHTML = '';\n",
       "          dataTable['output_type'] = 'display_data';\n",
       "          await google.colab.output.renderOutput(dataTable, element);\n",
       "          const docLink = document.createElement('div');\n",
       "          docLink.innerHTML = docLinkHtml;\n",
       "          element.appendChild(docLink);\n",
       "        }\n",
       "      </script>\n",
       "    </div>\n",
       "  </div>\n",
       "  "
      ],
      "text/plain": [
       "            dollars_per_barrel\n",
       "time_stamp                    \n",
       "1990-01-31              21.251\n",
       "1990-02-28              19.813\n",
       "1990-03-31              18.387\n",
       "1990-04-30              16.612\n",
       "1990-05-31              16.352"
      ]
     },
     "execution_count": 9,
     "metadata": {},
     "output_type": "execute_result"
    }
   ],
   "source": [
    "df.head()"
   ]
  },
  {
   "cell_type": "code",
   "execution_count": 10,
   "id": "PVfreeEkE1aG",
   "metadata": {
    "colab": {
     "base_uri": "https://localhost:8080/",
     "height": 238
    },
    "id": "PVfreeEkE1aG",
    "outputId": "c93310ef-0037-45a7-b291-d17f4cddc74e"
   },
   "outputs": [
    {
     "data": {
      "text/html": [
       "\n",
       "  <div id=\"df-8ba55f39-949c-431f-bd0c-2710d422c99e\">\n",
       "    <div class=\"colab-df-container\">\n",
       "      <div>\n",
       "<style scoped>\n",
       "    .dataframe tbody tr th:only-of-type {\n",
       "        vertical-align: middle;\n",
       "    }\n",
       "\n",
       "    .dataframe tbody tr th {\n",
       "        vertical-align: top;\n",
       "    }\n",
       "\n",
       "    .dataframe thead th {\n",
       "        text-align: right;\n",
       "    }\n",
       "</style>\n",
       "<table border=\"1\" class=\"dataframe\">\n",
       "  <thead>\n",
       "    <tr style=\"text-align: right;\">\n",
       "      <th></th>\n",
       "      <th>dollars_per_barrel</th>\n",
       "    </tr>\n",
       "    <tr>\n",
       "      <th>time_stamp</th>\n",
       "      <th></th>\n",
       "    </tr>\n",
       "  </thead>\n",
       "  <tbody>\n",
       "    <tr>\n",
       "      <th>2022-08-31</th>\n",
       "      <td>60.0</td>\n",
       "    </tr>\n",
       "    <tr>\n",
       "      <th>2022-09-30</th>\n",
       "      <td>60.0</td>\n",
       "    </tr>\n",
       "    <tr>\n",
       "      <th>2022-10-31</th>\n",
       "      <td>61.0</td>\n",
       "    </tr>\n",
       "    <tr>\n",
       "      <th>2022-11-30</th>\n",
       "      <td>61.0</td>\n",
       "    </tr>\n",
       "    <tr>\n",
       "      <th>2022-12-31</th>\n",
       "      <td>61.0</td>\n",
       "    </tr>\n",
       "  </tbody>\n",
       "</table>\n",
       "</div>\n",
       "      <button class=\"colab-df-convert\" onclick=\"convertToInteractive('df-8ba55f39-949c-431f-bd0c-2710d422c99e')\"\n",
       "              title=\"Convert this dataframe to an interactive table.\"\n",
       "              style=\"display:none;\">\n",
       "        \n",
       "  <svg xmlns=\"http://www.w3.org/2000/svg\" height=\"24px\"viewBox=\"0 0 24 24\"\n",
       "       width=\"24px\">\n",
       "    <path d=\"M0 0h24v24H0V0z\" fill=\"none\"/>\n",
       "    <path d=\"M18.56 5.44l.94 2.06.94-2.06 2.06-.94-2.06-.94-.94-2.06-.94 2.06-2.06.94zm-11 1L8.5 8.5l.94-2.06 2.06-.94-2.06-.94L8.5 2.5l-.94 2.06-2.06.94zm10 10l.94 2.06.94-2.06 2.06-.94-2.06-.94-.94-2.06-.94 2.06-2.06.94z\"/><path d=\"M17.41 7.96l-1.37-1.37c-.4-.4-.92-.59-1.43-.59-.52 0-1.04.2-1.43.59L10.3 9.45l-7.72 7.72c-.78.78-.78 2.05 0 2.83L4 21.41c.39.39.9.59 1.41.59.51 0 1.02-.2 1.41-.59l7.78-7.78 2.81-2.81c.8-.78.8-2.07 0-2.86zM5.41 20L4 18.59l7.72-7.72 1.47 1.35L5.41 20z\"/>\n",
       "  </svg>\n",
       "      </button>\n",
       "      \n",
       "  <style>\n",
       "    .colab-df-container {\n",
       "      display:flex;\n",
       "      flex-wrap:wrap;\n",
       "      gap: 12px;\n",
       "    }\n",
       "\n",
       "    .colab-df-convert {\n",
       "      background-color: #E8F0FE;\n",
       "      border: none;\n",
       "      border-radius: 50%;\n",
       "      cursor: pointer;\n",
       "      display: none;\n",
       "      fill: #1967D2;\n",
       "      height: 32px;\n",
       "      padding: 0 0 0 0;\n",
       "      width: 32px;\n",
       "    }\n",
       "\n",
       "    .colab-df-convert:hover {\n",
       "      background-color: #E2EBFA;\n",
       "      box-shadow: 0px 1px 2px rgba(60, 64, 67, 0.3), 0px 1px 3px 1px rgba(60, 64, 67, 0.15);\n",
       "      fill: #174EA6;\n",
       "    }\n",
       "\n",
       "    [theme=dark] .colab-df-convert {\n",
       "      background-color: #3B4455;\n",
       "      fill: #D2E3FC;\n",
       "    }\n",
       "\n",
       "    [theme=dark] .colab-df-convert:hover {\n",
       "      background-color: #434B5C;\n",
       "      box-shadow: 0px 1px 3px 1px rgba(0, 0, 0, 0.15);\n",
       "      filter: drop-shadow(0px 1px 2px rgba(0, 0, 0, 0.3));\n",
       "      fill: #FFFFFF;\n",
       "    }\n",
       "  </style>\n",
       "\n",
       "      <script>\n",
       "        const buttonEl =\n",
       "          document.querySelector('#df-8ba55f39-949c-431f-bd0c-2710d422c99e button.colab-df-convert');\n",
       "        buttonEl.style.display =\n",
       "          google.colab.kernel.accessAllowed ? 'block' : 'none';\n",
       "\n",
       "        async function convertToInteractive(key) {\n",
       "          const element = document.querySelector('#df-8ba55f39-949c-431f-bd0c-2710d422c99e');\n",
       "          const dataTable =\n",
       "            await google.colab.kernel.invokeFunction('convertToInteractive',\n",
       "                                                     [key], {});\n",
       "          if (!dataTable) return;\n",
       "\n",
       "          const docLinkHtml = 'Like what you see? Visit the ' +\n",
       "            '<a target=\"_blank\" href=https://colab.research.google.com/notebooks/data_table.ipynb>data table notebook</a>'\n",
       "            + ' to learn more about interactive tables.';\n",
       "          element.innerHTML = '';\n",
       "          dataTable['output_type'] = 'display_data';\n",
       "          await google.colab.output.renderOutput(dataTable, element);\n",
       "          const docLink = document.createElement('div');\n",
       "          docLink.innerHTML = docLinkHtml;\n",
       "          element.appendChild(docLink);\n",
       "        }\n",
       "      </script>\n",
       "    </div>\n",
       "  </div>\n",
       "  "
      ],
      "text/plain": [
       "            dollars_per_barrel\n",
       "time_stamp                    \n",
       "2022-08-31                60.0\n",
       "2022-09-30                60.0\n",
       "2022-10-31                61.0\n",
       "2022-11-30                61.0\n",
       "2022-12-31                61.0"
      ]
     },
     "execution_count": 10,
     "metadata": {},
     "output_type": "execute_result"
    }
   ],
   "source": [
    "df.tail()"
   ]
  },
  {
   "cell_type": "code",
   "execution_count": 11,
   "id": "yBDUaFhPzMMb",
   "metadata": {
    "id": "yBDUaFhPzMMb"
   },
   "outputs": [],
   "source": [
    "plt.rcParams['figure.figsize'] = [15,8]"
   ]
  },
  {
   "cell_type": "code",
   "execution_count": 12,
   "id": "cIgSM89EzBTw",
   "metadata": {
    "colab": {
     "base_uri": "https://localhost:8080/",
     "height": 523
    },
    "id": "cIgSM89EzBTw",
    "outputId": "fa2b27c3-94a6-4845-9088-8e4be3cfaf63"
   },
   "outputs": [
    {
     "data": {
      "image/png": "[encoded data removed]",
      "text/plain": [
       "<Figure size 1080x576 with 1 Axes>"
      ]
     },
     "metadata": {
      "needs_background": "light"
     },
     "output_type": "display_data"
    }
   ],
   "source": [
    "plt.plot(df,color='orange')\n",
    "plt.title('Brent Monthly Crude Oil Spot Price',fontsize=20)\n",
    "plt.xlabel('Date',fontsize=15)\n",
    "plt.ylabel('Units',fontsize=15)\n",
    "plt.show()"
   ]
  },
  {
   "cell_type": "code",
   "execution_count": 13,
   "id": "bf59d3e0",
   "metadata": {
    "id": "bf59d3e0"
   },
   "outputs": [],
   "source": [
    "def convert2matrix(data_arr, look_back):\n",
    "    X, Y =[], []\n",
    "    for i in range(len(data_arr)-look_back):\n",
    "        d=i+look_back  \n",
    "        X.append(data_arr[i:d,0])\n",
    "        Y.append(data_arr[d,0])\n",
    "    return np.array(X), np.array(Y)"
   ]
  },
  {
   "cell_type": "code",
   "execution_count": 16,
   "id": "5CBL1GHqurmE",
   "metadata": {
    "id": "5CBL1GHqurmE"
   },
   "outputs": [],
   "source": [
    "from sklearn.preprocessing import MinMaxScaler\n",
    "#create numpy.ndarray \n",
    "df['dollars_per_barrel'] = df['dollars_per_barrel'].astype(np.float32)\n",
    "df_arr = df.values\n",
    "df_arr = np.reshape(df_arr, (-1, 1))\n",
    "scaler = MinMaxScaler(feature_range=(0.1, 1))\n",
    "df_arr = scaler.fit_transform(df_arr)"
   ]
  },
  {
   "cell_type": "code",
   "execution_count": 17,
   "id": "1cea6c5f",
   "metadata": {
    "id": "1cea6c5f"
   },
   "outputs": [],
   "source": [
    "#Split data set into testing dataset and train dataset\n",
    "train_size = 345\n",
    "train, test =df_arr[0:train_size,:], df_arr[train_size:len(df_arr),:]\n",
    "# setup look_back window \n",
    "look_back = 4\n",
    "#convert dataset into right shape in order to input into the DNN\n",
    "trainX, trainY = convert2matrix(train, look_back)\n",
    "testX, testY = convert2matrix(test, look_back)\n",
    "trainX = np.reshape(trainX, (trainX.shape[0], 1, trainX.shape[1]))\n",
    "testX = np.reshape(testX, (testX.shape[0], 1, testX.shape[1]))"
   ]
  },
  {
   "cell_type": "code",
   "execution_count": 18,
   "id": "c7d46c39",
   "metadata": {
    "colab": {
     "base_uri": "https://localhost:8080/"
    },
    "id": "c7d46c39",
    "outputId": "facc960b-ef1b-4a34-e03e-b596f8e2dbe4"
   },
   "outputs": [
    {
     "name": "stdout",
     "output_type": "stream",
     "text": [
      "(341, 1, 4)\n",
      "(341,)\n",
      "(47, 1, 4)\n",
      "(47,)\n"
     ]
    }
   ],
   "source": [
    "print(trainX.shape)\n",
    "print(trainY.shape)\n",
    "print(testX.shape)\n",
    "print(testY.shape)"
   ]
  },
  {
   "cell_type": "code",
   "execution_count": 19,
   "id": "GIc1nRcCuP3G",
   "metadata": {
    "colab": {
     "base_uri": "https://localhost:8080/"
    },
    "id": "GIc1nRcCuP3G",
    "outputId": "3a7c2497-4bec-4d46-f682-f861f6435fc1"
   },
   "outputs": [
    {
     "name": "stdout",
     "output_type": "stream",
     "text": [
      "\u001b[?25l\r",
      "\u001b[K     |███▍                            | 10 kB 20.6 MB/s eta 0:00:01\r",
      "\u001b[K     |██████▊                         | 20 kB 22.5 MB/s eta 0:00:01\r",
      "\u001b[K     |██████████                      | 30 kB 14.1 MB/s eta 0:00:01\r",
      "\u001b[K     |█████████████▍                  | 40 kB 10.8 MB/s eta 0:00:01\r",
      "\u001b[K     |████████████████▊               | 51 kB 6.3 MB/s eta 0:00:01\r",
      "\u001b[K     |████████████████████            | 61 kB 6.4 MB/s eta 0:00:01\r",
      "\u001b[K     |███████████████████████▍        | 71 kB 5.9 MB/s eta 0:00:01\r",
      "\u001b[K     |██████████████████████████▊     | 81 kB 6.6 MB/s eta 0:00:01\r",
      "\u001b[K     |██████████████████████████████  | 92 kB 5.2 MB/s eta 0:00:01\r",
      "\u001b[K     |████████████████████████████████| 98 kB 2.9 MB/s \n",
      "\u001b[?25h"
     ]
    }
   ],
   "source": [
    "!pip install -q -U keras-tuner"
   ]
  },
  {
   "cell_type": "code",
   "execution_count": 23,
   "id": "M5te5ih0uP6u",
   "metadata": {
    "id": "M5te5ih0uP6u"
   },
   "outputs": [],
   "source": [
    "import pandas as pd\n",
    "from tensorflow import keras\n",
    "from tensorflow.keras import layers\n",
    "from keras_tuner.tuners import RandomSearch\n",
    "from tensorflow.keras.models import Sequential\n",
    "from tensorflow.keras.layers import LSTM\n",
    "from tensorflow.keras.layers import Dense,Dropout,SimpleRNN\n",
    "from tensorflow.keras.layers import Flatten\n",
    "import matplotlib.pyplot as plt"
   ]
  },
  {
   "cell_type": "code",
   "execution_count": 24,
   "id": "rYiJC5hXuP_e",
   "metadata": {
    "id": "rYiJC5hXuP_e"
   },
   "outputs": [],
   "source": [
    "def build_model(hp):\n",
    "    model = keras.Sequential()\n",
    "    model.add(SimpleRNN(hp.Int('rnn_layer',min_value=4,max_value=128,step=4), activation=\"relu\",input_shape=(1,look_back),recurrent_dropout = hp.Choice(\"first_recurrent_dropout\",[0.2,0.4,0.6],default=0.2)))\n",
    "    model.add(Dense(hp.Int('dense_layer',min_value=4,max_value=128,step=4),activation=\"relu\"))\n",
    "    model.add(Dropout(hp.Float('Dropout_rate',min_value=0,max_value=0.5,step=0.1)))\n",
    "    model.add(layers.Dense(1, activation='linear'))\n",
    "    model.compile(\n",
    "        optimizer=keras.optimizers.Adam(\n",
    "             hp.Float('learning_rate', min_value=1e-4, max_value=1e-1, sampling=\"log\")),\n",
    "        loss='mape',\n",
    "        metrics=['mape'])\n",
    "    return model"
   ]
  },
  {
   "cell_type": "code",
   "execution_count": 25,
   "id": "2h_gRerjuQCT",
   "metadata": {
    "id": "2h_gRerjuQCT"
   },
   "outputs": [],
   "source": [
    "tuner = RandomSearch(\n",
    "    build_model,\n",
    "    objective='val_mape',\n",
    "    max_trials=10,\n",
    "    executions_per_trial=1,\n",
    "    directory='project',\n",
    "    project_name='loa_em_1')"
   ]
  },
  {
   "cell_type": "code",
   "execution_count": 26,
   "id": "Dg5AHN3guQFu",
   "metadata": {
    "colab": {
     "base_uri": "https://localhost:8080/"
    },
    "id": "Dg5AHN3guQFu",
    "outputId": "440801dc-60ab-4774-9d45-a96b530015c4"
   },
   "outputs": [
    {
     "name": "stdout",
     "output_type": "stream",
     "text": [
      "Search space summary\n",
      "Default search space size: 5\n",
      "rnn_layer (Int)\n",
      "{'default': None, 'conditions': [], 'min_value': 4, 'max_value': 128, 'step': 4, 'sampling': None}\n",
      "first_recurrent_dropout (Choice)\n",
      "{'default': 0.2, 'conditions': [], 'values': [0.2, 0.4, 0.6], 'ordered': True}\n",
      "dense_layer (Int)\n",
      "{'default': None, 'conditions': [], 'min_value': 4, 'max_value': 128, 'step': 4, 'sampling': None}\n",
      "Dropout_rate (Float)\n",
      "{'default': 0.0, 'conditions': [], 'min_value': 0.0, 'max_value': 0.5, 'step': 0.1, 'sampling': None}\n",
      "learning_rate (Float)\n",
      "{'default': 0.0001, 'conditions': [], 'min_value': 0.0001, 'max_value': 0.1, 'step': None, 'sampling': 'log'}\n"
     ]
    }
   ],
   "source": [
    "tuner.search_space_summary()"
   ]
  },
  {
   "cell_type": "code",
   "execution_count": 27,
   "id": "TiBXdF0K8Gpr",
   "metadata": {
    "colab": {
     "base_uri": "https://localhost:8080/"
    },
    "id": "TiBXdF0K8Gpr",
    "outputId": "ab56855e-fb4c-47ad-f097-af4765f4d973"
   },
   "outputs": [
    {
     "name": "stdout",
     "output_type": "stream",
     "text": [
      "Trial 10 Complete [00h 00m 17s]\n",
      "val_mape: 7.806757926940918\n",
      "\n",
      "Best val_mape So Far: 6.216630458831787\n",
      "Total elapsed time: 00h 03m 24s\n",
      "INFO:tensorflow:Oracle triggered exit\n"
     ]
    }
   ],
   "source": [
    "tuner.search(trainX, trainY,\n",
    "             epochs=200,\n",
    "             batch_size=33,\n",
    "             validation_data=(testX, testY))"
   ]
  },
  {
   "cell_type": "code",
   "execution_count": 28,
   "id": "VXXGH_RK8GsD",
   "metadata": {
    "colab": {
     "base_uri": "https://localhost:8080/"
    },
    "id": "VXXGH_RK8GsD",
    "outputId": "d2c1c46f-23a5-41a3-e2b7-fbedd8cd4702"
   },
   "outputs": [
    {
     "name": "stdout",
     "output_type": "stream",
     "text": [
      "Results summary\n",
      "Results in project/loa_em_1\n",
      "Showing 10 best trials\n",
      "Objective(name='val_mape', direction='min')\n",
      "Trial summary\n",
      "Hyperparameters:\n",
      "rnn_layer: 64\n",
      "first_recurrent_dropout: 0.6\n",
      "dense_layer: 64\n",
      "Dropout_rate: 0.1\n",
      "learning_rate: 0.00026473598774390603\n",
      "Score: 6.216630458831787\n",
      "Trial summary\n",
      "Hyperparameters:\n",
      "rnn_layer: 96\n",
      "first_recurrent_dropout: 0.4\n",
      "dense_layer: 68\n",
      "Dropout_rate: 0.2\n",
      "learning_rate: 0.000450080141753511\n",
      "Score: 6.336846351623535\n",
      "Trial summary\n",
      "Hyperparameters:\n",
      "rnn_layer: 80\n",
      "first_recurrent_dropout: 0.4\n",
      "dense_layer: 60\n",
      "Dropout_rate: 0.4\n",
      "learning_rate: 0.0010061045916086992\n",
      "Score: 6.542453765869141\n",
      "Trial summary\n",
      "Hyperparameters:\n",
      "rnn_layer: 52\n",
      "first_recurrent_dropout: 0.4\n",
      "dense_layer: 76\n",
      "Dropout_rate: 0.0\n",
      "learning_rate: 0.002870126353775899\n",
      "Score: 6.709636211395264\n",
      "Trial summary\n",
      "Hyperparameters:\n",
      "rnn_layer: 88\n",
      "first_recurrent_dropout: 0.6\n",
      "dense_layer: 68\n",
      "Dropout_rate: 0.30000000000000004\n",
      "learning_rate: 0.03991559593101927\n",
      "Score: 6.795345306396484\n",
      "Trial summary\n",
      "Hyperparameters:\n",
      "rnn_layer: 76\n",
      "first_recurrent_dropout: 0.6\n",
      "dense_layer: 88\n",
      "Dropout_rate: 0.4\n",
      "learning_rate: 0.00013179456160919493\n",
      "Score: 7.806757926940918\n",
      "Trial summary\n",
      "Hyperparameters:\n",
      "rnn_layer: 56\n",
      "first_recurrent_dropout: 0.2\n",
      "dense_layer: 40\n",
      "Dropout_rate: 0.5\n",
      "learning_rate: 0.09083742757877782\n",
      "Score: 7.846306324005127\n",
      "Trial summary\n",
      "Hyperparameters:\n",
      "rnn_layer: 120\n",
      "first_recurrent_dropout: 0.6\n",
      "dense_layer: 20\n",
      "Dropout_rate: 0.4\n",
      "learning_rate: 0.00038814776451689845\n",
      "Score: 7.893537998199463\n",
      "Trial summary\n",
      "Hyperparameters:\n",
      "rnn_layer: 4\n",
      "first_recurrent_dropout: 0.4\n",
      "dense_layer: 24\n",
      "Dropout_rate: 0.1\n",
      "learning_rate: 0.000407908785927043\n",
      "Score: 9.123918533325195\n",
      "Trial summary\n",
      "Hyperparameters:\n",
      "rnn_layer: 72\n",
      "first_recurrent_dropout: 0.6\n",
      "dense_layer: 36\n",
      "Dropout_rate: 0.5\n",
      "learning_rate: 0.0001095979842575848\n",
      "Score: 12.488264083862305\n"
     ]
    }
   ],
   "source": [
    "tuner.results_summary()"
   ]
  },
  {
   "cell_type": "code",
   "execution_count": 29,
   "id": "FBpLenJ_DZMX",
   "metadata": {
    "id": "FBpLenJ_DZMX"
   },
   "outputs": [],
   "source": [
    "from warnings import filterwarnings\n",
    "filterwarnings('ignore')"
   ]
  },
  {
   "cell_type": "code",
   "execution_count": 30,
   "id": "eL-a8rAv8Gvg",
   "metadata": {
    "colab": {
     "base_uri": "https://localhost:8080/"
    },
    "id": "eL-a8rAv8Gvg",
    "outputId": "e6648595-f055-4a49-98be-9bea37026030"
   },
   "outputs": [
    {
     "name": "stdout",
     "output_type": "stream",
     "text": [
      "Model: \"sequential\"\n",
      "_________________________________________________________________\n",
      " Layer (type)                Output Shape              Param #   \n",
      "=================================================================\n",
      " simple_rnn (SimpleRNN)      (None, 64)                4416      \n",
      "                                                                 \n",
      " dense (Dense)               (None, 64)                4160      \n",
      "                                                                 \n",
      " dropout (Dropout)           (None, 64)                0         \n",
      "                                                                 \n",
      " dense_1 (Dense)             (None, 1)                 65        \n",
      "                                                                 \n",
      "=================================================================\n",
      "Total params: 8,641\n",
      "Trainable params: 8,641\n",
      "Non-trainable params: 0\n",
      "_________________________________________________________________\n"
     ]
    }
   ],
   "source": [
    "models = tuner.get_best_models(num_models=2)\n",
    "best_model = models[0]\n",
    "# Build the model.\n",
    "# Needed for `Sequential` without specified `input_shape`.\n",
    "best_model.build(input_shape=(None, 26))\n",
    "best_model.summary()"
   ]
  },
  {
   "cell_type": "code",
   "execution_count": 31,
   "id": "ovKDjDHZEmLV",
   "metadata": {
    "id": "ovKDjDHZEmLV"
   },
   "outputs": [],
   "source": [
    "from tensorflow.keras import optimizers\n",
    "from tensorflow.keras.callbacks import EarlyStopping"
   ]
  },
  {
   "cell_type": "code",
   "execution_count": 33,
   "id": "9NTj0UnjLqZa",
   "metadata": {
    "colab": {
     "base_uri": "https://localhost:8080/"
    },
    "id": "9NTj0UnjLqZa",
    "outputId": "0b5c49f2-3eb2-4288-ad8e-7b7a3ebdd5a6"
   },
   "outputs": [
    {
     "name": "stdout",
     "output_type": "stream",
     "text": [
      "Epoch 1/200\n",
      "11/11 [==============================] - 4s 81ms/step - loss: 60.1700 - mape: 60.1700 - val_loss: 46.0003 - val_mape: 46.0003\n",
      "Epoch 2/200\n",
      "11/11 [==============================] - 0s 12ms/step - loss: 29.8074 - mape: 29.8074 - val_loss: 23.8393 - val_mape: 23.8393\n",
      "Epoch 3/200\n",
      "11/11 [==============================] - 0s 11ms/step - loss: 16.3951 - mape: 16.3951 - val_loss: 12.6769 - val_mape: 12.6769\n",
      "Epoch 4/200\n",
      "11/11 [==============================] - 0s 8ms/step - loss: 16.3579 - mape: 16.3579 - val_loss: 13.5124 - val_mape: 13.5124\n",
      "Epoch 5/200\n",
      "11/11 [==============================] - 0s 12ms/step - loss: 14.2003 - mape: 14.2003 - val_loss: 14.9104 - val_mape: 14.9104\n",
      "Epoch 6/200\n",
      "11/11 [==============================] - 0s 11ms/step - loss: 13.1531 - mape: 13.1531 - val_loss: 14.2260 - val_mape: 14.2260\n",
      "Epoch 7/200\n",
      "11/11 [==============================] - 0s 13ms/step - loss: 12.9142 - mape: 12.9142 - val_loss: 10.8700 - val_mape: 10.8700\n",
      "Epoch 8/200\n",
      "11/11 [==============================] - 0s 11ms/step - loss: 11.0757 - mape: 11.0757 - val_loss: 11.0781 - val_mape: 11.0781\n",
      "Epoch 9/200\n",
      "11/11 [==============================] - 0s 11ms/step - loss: 10.7688 - mape: 10.7688 - val_loss: 9.9964 - val_mape: 9.9964\n",
      "Epoch 10/200\n",
      "11/11 [==============================] - 0s 8ms/step - loss: 10.4338 - mape: 10.4338 - val_loss: 9.6698 - val_mape: 9.6698\n",
      "Epoch 11/200\n",
      "11/11 [==============================] - 0s 9ms/step - loss: 10.2479 - mape: 10.2479 - val_loss: 9.3902 - val_mape: 9.3902\n",
      "Epoch 12/200\n",
      "11/11 [==============================] - 0s 11ms/step - loss: 9.8894 - mape: 9.8894 - val_loss: 9.1817 - val_mape: 9.1817\n",
      "Epoch 13/200\n",
      "11/11 [==============================] - 0s 20ms/step - loss: 10.1748 - mape: 10.1748 - val_loss: 8.8878 - val_mape: 8.8878\n",
      "Epoch 14/200\n",
      "11/11 [==============================] - 0s 19ms/step - loss: 9.9249 - mape: 9.9249 - val_loss: 8.8188 - val_mape: 8.8188\n",
      "Epoch 15/200\n",
      "11/11 [==============================] - 0s 23ms/step - loss: 10.3434 - mape: 10.3434 - val_loss: 8.5720 - val_mape: 8.5720\n",
      "Epoch 16/200\n",
      "11/11 [==============================] - 0s 10ms/step - loss: 9.8447 - mape: 9.8447 - val_loss: 8.5318 - val_mape: 8.5318\n",
      "Epoch 17/200\n",
      "11/11 [==============================] - 0s 9ms/step - loss: 9.2305 - mape: 9.2305 - val_loss: 9.0245 - val_mape: 9.0245\n",
      "Epoch 18/200\n",
      "11/11 [==============================] - 0s 6ms/step - loss: 9.0820 - mape: 9.0820 - val_loss: 8.4978 - val_mape: 8.4978\n",
      "Epoch 19/200\n",
      "11/11 [==============================] - 0s 6ms/step - loss: 9.8114 - mape: 9.8114 - val_loss: 8.4093 - val_mape: 8.4093\n",
      "Epoch 20/200\n",
      "11/11 [==============================] - 0s 5ms/step - loss: 9.6369 - mape: 9.6369 - val_loss: 8.4368 - val_mape: 8.4368\n",
      "Epoch 21/200\n",
      "11/11 [==============================] - 0s 6ms/step - loss: 9.3654 - mape: 9.3654 - val_loss: 8.5835 - val_mape: 8.5835\n",
      "Epoch 22/200\n",
      "11/11 [==============================] - 0s 6ms/step - loss: 9.0397 - mape: 9.0397 - val_loss: 8.3605 - val_mape: 8.3605\n",
      "Epoch 23/200\n",
      "11/11 [==============================] - 0s 5ms/step - loss: 8.5900 - mape: 8.5900 - val_loss: 8.1999 - val_mape: 8.1999\n",
      "Epoch 24/200\n",
      "11/11 [==============================] - 0s 5ms/step - loss: 9.1407 - mape: 9.1407 - val_loss: 8.1324 - val_mape: 8.1324\n",
      "Epoch 25/200\n",
      "11/11 [==============================] - 0s 5ms/step - loss: 9.5143 - mape: 9.5143 - val_loss: 8.5512 - val_mape: 8.5512\n",
      "Epoch 26/200\n",
      "11/11 [==============================] - 0s 6ms/step - loss: 9.1588 - mape: 9.1588 - val_loss: 8.1387 - val_mape: 8.1387\n",
      "Epoch 27/200\n",
      "11/11 [==============================] - 0s 6ms/step - loss: 8.7087 - mape: 8.7087 - val_loss: 8.1241 - val_mape: 8.1241\n",
      "Epoch 28/200\n",
      "11/11 [==============================] - 0s 6ms/step - loss: 8.3960 - mape: 8.3960 - val_loss: 8.0663 - val_mape: 8.0663\n",
      "Epoch 29/200\n",
      "11/11 [==============================] - 0s 5ms/step - loss: 8.4139 - mape: 8.4139 - val_loss: 7.9893 - val_mape: 7.9893\n",
      "Epoch 30/200\n",
      "11/11 [==============================] - 0s 6ms/step - loss: 8.6235 - mape: 8.6235 - val_loss: 8.8221 - val_mape: 8.8221\n",
      "Epoch 31/200\n",
      "11/11 [==============================] - 0s 5ms/step - loss: 8.9206 - mape: 8.9206 - val_loss: 7.9944 - val_mape: 7.9944\n",
      "Epoch 32/200\n",
      "11/11 [==============================] - 0s 5ms/step - loss: 8.5383 - mape: 8.5383 - val_loss: 7.9187 - val_mape: 7.9187\n",
      "Epoch 33/200\n",
      "11/11 [==============================] - 0s 6ms/step - loss: 8.7024 - mape: 8.7024 - val_loss: 7.9221 - val_mape: 7.9221\n",
      "Epoch 34/200\n",
      "11/11 [==============================] - 0s 5ms/step - loss: 8.6465 - mape: 8.6465 - val_loss: 7.9673 - val_mape: 7.9673\n",
      "Epoch 35/200\n",
      "11/11 [==============================] - 0s 5ms/step - loss: 8.3463 - mape: 8.3463 - val_loss: 7.9777 - val_mape: 7.9777\n",
      "Epoch 36/200\n",
      "11/11 [==============================] - 0s 5ms/step - loss: 8.3745 - mape: 8.3745 - val_loss: 8.0802 - val_mape: 8.0802\n",
      "Epoch 37/200\n",
      "11/11 [==============================] - 0s 6ms/step - loss: 8.5191 - mape: 8.5191 - val_loss: 7.8722 - val_mape: 7.8722\n",
      "Epoch 38/200\n",
      "11/11 [==============================] - 0s 6ms/step - loss: 8.9004 - mape: 8.9004 - val_loss: 7.8446 - val_mape: 7.8446\n",
      "Epoch 39/200\n",
      "11/11 [==============================] - 0s 6ms/step - loss: 8.7813 - mape: 8.7813 - val_loss: 8.0912 - val_mape: 8.0912\n",
      "Epoch 40/200\n",
      "11/11 [==============================] - 0s 5ms/step - loss: 8.4155 - mape: 8.4155 - val_loss: 7.7236 - val_mape: 7.7236\n",
      "Epoch 41/200\n",
      "11/11 [==============================] - 0s 6ms/step - loss: 8.1287 - mape: 8.1287 - val_loss: 7.8623 - val_mape: 7.8623\n",
      "Epoch 42/200\n",
      "11/11 [==============================] - 0s 5ms/step - loss: 8.4763 - mape: 8.4763 - val_loss: 7.8178 - val_mape: 7.8178\n",
      "Epoch 43/200\n",
      "11/11 [==============================] - 0s 7ms/step - loss: 8.5583 - mape: 8.5583 - val_loss: 8.0068 - val_mape: 8.0068\n",
      "Epoch 44/200\n",
      "11/11 [==============================] - 0s 5ms/step - loss: 8.8890 - mape: 8.8890 - val_loss: 7.7603 - val_mape: 7.7603\n",
      "Epoch 45/200\n",
      "11/11 [==============================] - 0s 5ms/step - loss: 8.6778 - mape: 8.6778 - val_loss: 7.6793 - val_mape: 7.6793\n",
      "Epoch 46/200\n",
      "11/11 [==============================] - 0s 5ms/step - loss: 8.6893 - mape: 8.6893 - val_loss: 7.8200 - val_mape: 7.8200\n",
      "Epoch 47/200\n",
      "11/11 [==============================] - 0s 6ms/step - loss: 8.4861 - mape: 8.4861 - val_loss: 7.5397 - val_mape: 7.5397\n",
      "Epoch 48/200\n",
      "11/11 [==============================] - 0s 5ms/step - loss: 8.1733 - mape: 8.1733 - val_loss: 7.6903 - val_mape: 7.6903\n",
      "Epoch 49/200\n",
      "11/11 [==============================] - 0s 5ms/step - loss: 8.6726 - mape: 8.6726 - val_loss: 8.3989 - val_mape: 8.3989\n",
      "Epoch 50/200\n",
      "11/11 [==============================] - 0s 5ms/step - loss: 8.4704 - mape: 8.4704 - val_loss: 7.8958 - val_mape: 7.8958\n",
      "Epoch 51/200\n",
      "11/11 [==============================] - 0s 6ms/step - loss: 8.6906 - mape: 8.6906 - val_loss: 7.7114 - val_mape: 7.7114\n",
      "Epoch 52/200\n",
      "11/11 [==============================] - 0s 5ms/step - loss: 8.3265 - mape: 8.3265 - val_loss: 7.8798 - val_mape: 7.8798\n",
      "Epoch 53/200\n",
      "11/11 [==============================] - 0s 5ms/step - loss: 8.0597 - mape: 8.0597 - val_loss: 7.5383 - val_mape: 7.5383\n",
      "Epoch 54/200\n",
      "11/11 [==============================] - 0s 5ms/step - loss: 7.8630 - mape: 7.8630 - val_loss: 7.5405 - val_mape: 7.5405\n",
      "Epoch 55/200\n",
      "11/11 [==============================] - 0s 6ms/step - loss: 7.9292 - mape: 7.9292 - val_loss: 7.5759 - val_mape: 7.5759\n",
      "Epoch 56/200\n",
      "11/11 [==============================] - 0s 6ms/step - loss: 7.9634 - mape: 7.9634 - val_loss: 7.9569 - val_mape: 7.9569\n",
      "Epoch 57/200\n",
      "11/11 [==============================] - 0s 6ms/step - loss: 8.3112 - mape: 8.3112 - val_loss: 7.4488 - val_mape: 7.4488\n",
      "Epoch 58/200\n",
      "11/11 [==============================] - 0s 7ms/step - loss: 8.0941 - mape: 8.0941 - val_loss: 7.4125 - val_mape: 7.4125\n",
      "Epoch 59/200\n",
      "11/11 [==============================] - 0s 5ms/step - loss: 8.1404 - mape: 8.1404 - val_loss: 7.6292 - val_mape: 7.6292\n",
      "Epoch 60/200\n",
      "11/11 [==============================] - 0s 5ms/step - loss: 8.3129 - mape: 8.3129 - val_loss: 7.5703 - val_mape: 7.5703\n",
      "Epoch 61/200\n",
      "11/11 [==============================] - 0s 6ms/step - loss: 7.7798 - mape: 7.7798 - val_loss: 7.3697 - val_mape: 7.3697\n",
      "Epoch 62/200\n",
      "11/11 [==============================] - 0s 5ms/step - loss: 7.9007 - mape: 7.9007 - val_loss: 7.5049 - val_mape: 7.5049\n",
      "Epoch 63/200\n",
      "11/11 [==============================] - 0s 5ms/step - loss: 8.1168 - mape: 8.1168 - val_loss: 8.1977 - val_mape: 8.1977\n",
      "Epoch 64/200\n",
      "11/11 [==============================] - 0s 6ms/step - loss: 8.1618 - mape: 8.1618 - val_loss: 7.8734 - val_mape: 7.8734\n",
      "Epoch 65/200\n",
      "11/11 [==============================] - 0s 6ms/step - loss: 8.3514 - mape: 8.3514 - val_loss: 7.4320 - val_mape: 7.4320\n",
      "Epoch 66/200\n",
      "11/11 [==============================] - 0s 5ms/step - loss: 7.7128 - mape: 7.7128 - val_loss: 7.4096 - val_mape: 7.4096\n",
      "Epoch 67/200\n",
      "11/11 [==============================] - 0s 6ms/step - loss: 8.4038 - mape: 8.4038 - val_loss: 7.5220 - val_mape: 7.5220\n",
      "Epoch 68/200\n",
      "11/11 [==============================] - 0s 5ms/step - loss: 8.4555 - mape: 8.4555 - val_loss: 7.4878 - val_mape: 7.4878\n",
      "Epoch 69/200\n",
      "11/11 [==============================] - 0s 5ms/step - loss: 7.8241 - mape: 7.8241 - val_loss: 7.2886 - val_mape: 7.2886\n",
      "Epoch 70/200\n",
      "11/11 [==============================] - 0s 6ms/step - loss: 7.6149 - mape: 7.6149 - val_loss: 7.2760 - val_mape: 7.2760\n",
      "Epoch 71/200\n",
      "11/11 [==============================] - 0s 6ms/step - loss: 8.0374 - mape: 8.0374 - val_loss: 7.2221 - val_mape: 7.2221\n",
      "Epoch 72/200\n",
      "11/11 [==============================] - 0s 5ms/step - loss: 8.4679 - mape: 8.4679 - val_loss: 7.1762 - val_mape: 7.1762\n",
      "Epoch 73/200\n",
      "11/11 [==============================] - 0s 7ms/step - loss: 7.7870 - mape: 7.7870 - val_loss: 7.5667 - val_mape: 7.5667\n",
      "Epoch 74/200\n",
      "11/11 [==============================] - 0s 5ms/step - loss: 7.9560 - mape: 7.9560 - val_loss: 7.4180 - val_mape: 7.4180\n",
      "Epoch 75/200\n",
      "11/11 [==============================] - 0s 6ms/step - loss: 7.9442 - mape: 7.9442 - val_loss: 7.3402 - val_mape: 7.3402\n",
      "Epoch 76/200\n",
      "11/11 [==============================] - 0s 5ms/step - loss: 7.8523 - mape: 7.8523 - val_loss: 7.1889 - val_mape: 7.1889\n",
      "Epoch 77/200\n",
      "11/11 [==============================] - 0s 5ms/step - loss: 7.5013 - mape: 7.5013 - val_loss: 7.2844 - val_mape: 7.2844\n",
      "Epoch 78/200\n",
      "11/11 [==============================] - 0s 5ms/step - loss: 8.1659 - mape: 8.1659 - val_loss: 7.1658 - val_mape: 7.1658\n",
      "Epoch 79/200\n",
      "11/11 [==============================] - 0s 6ms/step - loss: 8.0697 - mape: 8.0697 - val_loss: 8.0862 - val_mape: 8.0862\n",
      "Epoch 80/200\n",
      "11/11 [==============================] - 0s 6ms/step - loss: 8.9948 - mape: 8.9948 - val_loss: 7.1793 - val_mape: 7.1793\n",
      "Epoch 81/200\n",
      "11/11 [==============================] - 0s 6ms/step - loss: 7.7420 - mape: 7.7420 - val_loss: 7.0796 - val_mape: 7.0796\n",
      "Epoch 82/200\n",
      "11/11 [==============================] - 0s 6ms/step - loss: 8.4107 - mape: 8.4107 - val_loss: 7.0527 - val_mape: 7.0527\n",
      "Epoch 83/200\n",
      "11/11 [==============================] - 0s 5ms/step - loss: 8.3901 - mape: 8.3901 - val_loss: 7.2418 - val_mape: 7.2418\n",
      "Epoch 84/200\n",
      "11/11 [==============================] - 0s 6ms/step - loss: 8.1488 - mape: 8.1488 - val_loss: 7.4218 - val_mape: 7.4218\n",
      "Epoch 85/200\n",
      "11/11 [==============================] - 0s 6ms/step - loss: 7.9479 - mape: 7.9479 - val_loss: 7.1927 - val_mape: 7.1927\n",
      "Epoch 86/200\n",
      "11/11 [==============================] - 0s 5ms/step - loss: 7.6914 - mape: 7.6914 - val_loss: 7.0140 - val_mape: 7.0140\n",
      "Epoch 87/200\n",
      "11/11 [==============================] - 0s 5ms/step - loss: 8.0594 - mape: 8.0594 - val_loss: 7.1985 - val_mape: 7.1985\n",
      "Epoch 88/200\n",
      "11/11 [==============================] - 0s 6ms/step - loss: 8.0400 - mape: 8.0400 - val_loss: 7.0932 - val_mape: 7.0932\n",
      "Epoch 89/200\n",
      "11/11 [==============================] - 0s 5ms/step - loss: 7.9593 - mape: 7.9593 - val_loss: 7.0901 - val_mape: 7.0901\n",
      "Epoch 90/200\n",
      "11/11 [==============================] - 0s 6ms/step - loss: 7.9316 - mape: 7.9316 - val_loss: 7.2946 - val_mape: 7.2946\n",
      "Epoch 91/200\n",
      "11/11 [==============================] - 0s 6ms/step - loss: 8.2055 - mape: 8.2055 - val_loss: 6.9934 - val_mape: 6.9934\n",
      "Epoch 92/200\n",
      "11/11 [==============================] - 0s 5ms/step - loss: 7.6681 - mape: 7.6681 - val_loss: 7.2964 - val_mape: 7.2964\n",
      "Epoch 93/200\n",
      "11/11 [==============================] - 0s 6ms/step - loss: 8.6035 - mape: 8.6035 - val_loss: 7.0264 - val_mape: 7.0264\n",
      "Epoch 94/200\n",
      "11/11 [==============================] - 0s 5ms/step - loss: 7.1671 - mape: 7.1671 - val_loss: 7.2424 - val_mape: 7.2424\n",
      "Epoch 95/200\n",
      "11/11 [==============================] - 0s 5ms/step - loss: 7.7826 - mape: 7.7826 - val_loss: 7.0362 - val_mape: 7.0362\n",
      "Epoch 96/200\n",
      "11/11 [==============================] - 0s 6ms/step - loss: 8.2355 - mape: 8.2355 - val_loss: 7.1837 - val_mape: 7.1837\n",
      "Epoch 97/200\n",
      "11/11 [==============================] - 0s 5ms/step - loss: 7.9829 - mape: 7.9829 - val_loss: 6.9265 - val_mape: 6.9265\n",
      "Epoch 98/200\n",
      "11/11 [==============================] - 0s 5ms/step - loss: 7.7249 - mape: 7.7249 - val_loss: 7.0060 - val_mape: 7.0060\n",
      "Epoch 99/200\n",
      "11/11 [==============================] - 0s 6ms/step - loss: 7.9460 - mape: 7.9460 - val_loss: 6.9577 - val_mape: 6.9577\n",
      "Epoch 100/200\n",
      "11/11 [==============================] - 0s 5ms/step - loss: 7.7213 - mape: 7.7213 - val_loss: 6.9669 - val_mape: 6.9669\n",
      "Epoch 101/200\n",
      "11/11 [==============================] - 0s 8ms/step - loss: 7.6417 - mape: 7.6417 - val_loss: 7.1889 - val_mape: 7.1889\n",
      "Epoch 102/200\n",
      "11/11 [==============================] - 0s 6ms/step - loss: 7.5147 - mape: 7.5147 - val_loss: 6.8768 - val_mape: 6.8768\n",
      "Epoch 103/200\n",
      "11/11 [==============================] - 0s 5ms/step - loss: 7.4265 - mape: 7.4265 - val_loss: 7.1483 - val_mape: 7.1483\n",
      "Epoch 104/200\n",
      "11/11 [==============================] - 0s 5ms/step - loss: 7.9755 - mape: 7.9755 - val_loss: 7.4703 - val_mape: 7.4703\n",
      "Epoch 105/200\n",
      "11/11 [==============================] - 0s 5ms/step - loss: 8.0479 - mape: 8.0479 - val_loss: 7.0856 - val_mape: 7.0856\n",
      "Epoch 106/200\n",
      "11/11 [==============================] - 0s 5ms/step - loss: 7.8050 - mape: 7.8050 - val_loss: 7.1603 - val_mape: 7.1603\n",
      "Epoch 107/200\n",
      "11/11 [==============================] - 0s 6ms/step - loss: 8.3986 - mape: 8.3986 - val_loss: 7.6477 - val_mape: 7.6477\n",
      "Epoch 108/200\n",
      "11/11 [==============================] - 0s 5ms/step - loss: 8.1043 - mape: 8.1043 - val_loss: 7.2639 - val_mape: 7.2639\n",
      "Epoch 109/200\n",
      "11/11 [==============================] - 0s 5ms/step - loss: 7.9516 - mape: 7.9516 - val_loss: 8.4046 - val_mape: 8.4046\n",
      "Epoch 110/200\n",
      "11/11 [==============================] - 0s 6ms/step - loss: 8.2296 - mape: 8.2296 - val_loss: 7.2621 - val_mape: 7.2621\n",
      "Epoch 111/200\n",
      "11/11 [==============================] - 0s 5ms/step - loss: 8.0130 - mape: 8.0130 - val_loss: 8.1183 - val_mape: 8.1183\n",
      "Epoch 112/200\n",
      "11/11 [==============================] - 0s 5ms/step - loss: 7.7558 - mape: 7.7558 - val_loss: 7.1480 - val_mape: 7.1480\n",
      "Epoch 113/200\n",
      "11/11 [==============================] - 0s 6ms/step - loss: 8.0824 - mape: 8.0824 - val_loss: 7.0538 - val_mape: 7.0538\n",
      "Epoch 114/200\n",
      "11/11 [==============================] - 0s 5ms/step - loss: 7.3694 - mape: 7.3694 - val_loss: 6.9495 - val_mape: 6.9495\n",
      "Epoch 115/200\n",
      "11/11 [==============================] - 0s 5ms/step - loss: 7.7333 - mape: 7.7333 - val_loss: 7.4735 - val_mape: 7.4735\n",
      "Epoch 116/200\n",
      "11/11 [==============================] - 0s 7ms/step - loss: 7.4355 - mape: 7.4355 - val_loss: 6.8584 - val_mape: 6.8584\n",
      "Epoch 117/200\n",
      "11/11 [==============================] - 0s 6ms/step - loss: 7.6635 - mape: 7.6635 - val_loss: 6.8322 - val_mape: 6.8322\n",
      "Epoch 118/200\n",
      "11/11 [==============================] - 0s 5ms/step - loss: 7.6750 - mape: 7.6750 - val_loss: 6.7479 - val_mape: 6.7479\n",
      "Epoch 119/200\n",
      "11/11 [==============================] - 0s 5ms/step - loss: 7.8484 - mape: 7.8484 - val_loss: 6.7209 - val_mape: 6.7209\n",
      "Epoch 120/200\n",
      "11/11 [==============================] - 0s 5ms/step - loss: 7.8524 - mape: 7.8524 - val_loss: 7.5262 - val_mape: 7.5262\n",
      "Epoch 121/200\n",
      "11/11 [==============================] - 0s 5ms/step - loss: 7.9620 - mape: 7.9620 - val_loss: 7.1933 - val_mape: 7.1933\n",
      "Epoch 122/200\n",
      "11/11 [==============================] - 0s 5ms/step - loss: 7.4415 - mape: 7.4415 - val_loss: 7.7670 - val_mape: 7.7670\n",
      "Epoch 123/200\n",
      "11/11 [==============================] - 0s 6ms/step - loss: 7.4623 - mape: 7.4623 - val_loss: 6.7334 - val_mape: 6.7334\n",
      "Epoch 124/200\n",
      "11/11 [==============================] - 0s 6ms/step - loss: 7.1074 - mape: 7.1074 - val_loss: 6.7972 - val_mape: 6.7972\n",
      "Epoch 125/200\n",
      "11/11 [==============================] - 0s 6ms/step - loss: 7.5918 - mape: 7.5918 - val_loss: 6.8577 - val_mape: 6.8577\n",
      "Epoch 126/200\n",
      "11/11 [==============================] - 0s 6ms/step - loss: 7.6573 - mape: 7.6573 - val_loss: 6.7325 - val_mape: 6.7325\n",
      "Epoch 127/200\n",
      "11/11 [==============================] - 0s 6ms/step - loss: 7.0767 - mape: 7.0767 - val_loss: 6.7583 - val_mape: 6.7583\n",
      "Epoch 128/200\n",
      "11/11 [==============================] - 0s 5ms/step - loss: 7.4807 - mape: 7.4807 - val_loss: 6.9924 - val_mape: 6.9924\n",
      "Epoch 129/200\n",
      "11/11 [==============================] - 0s 6ms/step - loss: 7.5710 - mape: 7.5710 - val_loss: 6.7668 - val_mape: 6.7668\n",
      "Epoch 130/200\n",
      "11/11 [==============================] - 0s 5ms/step - loss: 7.3668 - mape: 7.3668 - val_loss: 6.7552 - val_mape: 6.7552\n",
      "Epoch 131/200\n",
      "11/11 [==============================] - 0s 6ms/step - loss: 7.4809 - mape: 7.4809 - val_loss: 6.6358 - val_mape: 6.6358\n",
      "Epoch 132/200\n",
      "11/11 [==============================] - 0s 6ms/step - loss: 7.3751 - mape: 7.3751 - val_loss: 6.8678 - val_mape: 6.8678\n",
      "Epoch 133/200\n",
      "11/11 [==============================] - 0s 5ms/step - loss: 7.7510 - mape: 7.7510 - val_loss: 7.2867 - val_mape: 7.2867\n",
      "Epoch 134/200\n",
      "11/11 [==============================] - 0s 5ms/step - loss: 8.0659 - mape: 8.0659 - val_loss: 7.0698 - val_mape: 7.0698\n",
      "Epoch 135/200\n",
      "11/11 [==============================] - 0s 5ms/step - loss: 7.6899 - mape: 7.6899 - val_loss: 6.8960 - val_mape: 6.8960\n",
      "Epoch 136/200\n",
      "11/11 [==============================] - 0s 5ms/step - loss: 7.2563 - mape: 7.2563 - val_loss: 7.3269 - val_mape: 7.3269\n",
      "Epoch 137/200\n",
      "11/11 [==============================] - 0s 5ms/step - loss: 8.0541 - mape: 8.0541 - val_loss: 6.8311 - val_mape: 6.8311\n",
      "Epoch 138/200\n",
      "11/11 [==============================] - 0s 5ms/step - loss: 7.3568 - mape: 7.3568 - val_loss: 6.7779 - val_mape: 6.7779\n",
      "Epoch 139/200\n",
      "11/11 [==============================] - 0s 5ms/step - loss: 7.3943 - mape: 7.3943 - val_loss: 6.7601 - val_mape: 6.7601\n",
      "Epoch 140/200\n",
      "11/11 [==============================] - 0s 6ms/step - loss: 8.0997 - mape: 8.0997 - val_loss: 6.7347 - val_mape: 6.7347\n",
      "Epoch 141/200\n",
      "11/11 [==============================] - 0s 6ms/step - loss: 7.7026 - mape: 7.7026 - val_loss: 6.8794 - val_mape: 6.8794\n",
      "Epoch 142/200\n",
      "11/11 [==============================] - 0s 6ms/step - loss: 7.5769 - mape: 7.5769 - val_loss: 7.2934 - val_mape: 7.2934\n",
      "Epoch 143/200\n",
      "11/11 [==============================] - 0s 7ms/step - loss: 7.4207 - mape: 7.4207 - val_loss: 6.6985 - val_mape: 6.6985\n",
      "Epoch 144/200\n",
      "11/11 [==============================] - 0s 6ms/step - loss: 7.1986 - mape: 7.1986 - val_loss: 6.9175 - val_mape: 6.9175\n",
      "Epoch 145/200\n",
      "11/11 [==============================] - 0s 6ms/step - loss: 7.2624 - mape: 7.2624 - val_loss: 6.6866 - val_mape: 6.6866\n",
      "Epoch 146/200\n",
      "11/11 [==============================] - 0s 6ms/step - loss: 7.0150 - mape: 7.0150 - val_loss: 6.7994 - val_mape: 6.7994\n",
      "Epoch 147/200\n",
      "11/11 [==============================] - 0s 5ms/step - loss: 7.1840 - mape: 7.1840 - val_loss: 6.7323 - val_mape: 6.7323\n",
      "Epoch 148/200\n",
      "11/11 [==============================] - 0s 5ms/step - loss: 7.2583 - mape: 7.2583 - val_loss: 6.6538 - val_mape: 6.6538\n",
      "Epoch 149/200\n",
      "11/11 [==============================] - 0s 6ms/step - loss: 7.6289 - mape: 7.6289 - val_loss: 7.0645 - val_mape: 7.0645\n",
      "Epoch 150/200\n",
      "11/11 [==============================] - 0s 6ms/step - loss: 7.8949 - mape: 7.8949 - val_loss: 7.0075 - val_mape: 7.0075\n",
      "Epoch 151/200\n",
      "11/11 [==============================] - 0s 6ms/step - loss: 7.4891 - mape: 7.4891 - val_loss: 6.8156 - val_mape: 6.8156\n",
      "Epoch 152/200\n",
      "11/11 [==============================] - 0s 5ms/step - loss: 7.6101 - mape: 7.6101 - val_loss: 6.8371 - val_mape: 6.8371\n",
      "Epoch 153/200\n",
      "11/11 [==============================] - 0s 5ms/step - loss: 7.6843 - mape: 7.6843 - val_loss: 6.7226 - val_mape: 6.7226\n",
      "Epoch 154/200\n",
      "11/11 [==============================] - 0s 6ms/step - loss: 7.4582 - mape: 7.4582 - val_loss: 6.6161 - val_mape: 6.6161\n",
      "Epoch 155/200\n",
      "11/11 [==============================] - 0s 5ms/step - loss: 7.5447 - mape: 7.5447 - val_loss: 7.0718 - val_mape: 7.0718\n",
      "Epoch 156/200\n",
      "11/11 [==============================] - 0s 6ms/step - loss: 7.7252 - mape: 7.7252 - val_loss: 6.6245 - val_mape: 6.6245\n",
      "Epoch 157/200\n",
      "11/11 [==============================] - 0s 6ms/step - loss: 7.3870 - mape: 7.3870 - val_loss: 6.7310 - val_mape: 6.7310\n",
      "Epoch 158/200\n",
      "11/11 [==============================] - 0s 5ms/step - loss: 7.7347 - mape: 7.7347 - val_loss: 6.9469 - val_mape: 6.9469\n",
      "Epoch 159/200\n",
      "11/11 [==============================] - 0s 5ms/step - loss: 7.9298 - mape: 7.9298 - val_loss: 6.8158 - val_mape: 6.8158\n",
      "Epoch 160/200\n",
      "11/11 [==============================] - 0s 7ms/step - loss: 7.6987 - mape: 7.6987 - val_loss: 7.1833 - val_mape: 7.1833\n",
      "Epoch 161/200\n",
      "11/11 [==============================] - 0s 5ms/step - loss: 6.7597 - mape: 6.7597 - val_loss: 6.6719 - val_mape: 6.6719\n",
      "Epoch 162/200\n",
      "11/11 [==============================] - 0s 6ms/step - loss: 7.6303 - mape: 7.6303 - val_loss: 6.6348 - val_mape: 6.6348\n",
      "Epoch 163/200\n",
      "11/11 [==============================] - 0s 6ms/step - loss: 7.2665 - mape: 7.2665 - val_loss: 6.6441 - val_mape: 6.6441\n",
      "Epoch 164/200\n",
      "11/11 [==============================] - 0s 5ms/step - loss: 7.3867 - mape: 7.3867 - val_loss: 6.8518 - val_mape: 6.8518\n",
      "Epoch 165/200\n",
      "11/11 [==============================] - 0s 5ms/step - loss: 7.6042 - mape: 7.6042 - val_loss: 6.9040 - val_mape: 6.9040\n",
      "Epoch 166/200\n",
      "11/11 [==============================] - 0s 5ms/step - loss: 7.9814 - mape: 7.9814 - val_loss: 8.0385 - val_mape: 8.0385\n",
      "Epoch 167/200\n",
      "11/11 [==============================] - 0s 6ms/step - loss: 8.1100 - mape: 8.1100 - val_loss: 7.1964 - val_mape: 7.1964\n",
      "Epoch 168/200\n",
      "11/11 [==============================] - 0s 6ms/step - loss: 7.7009 - mape: 7.7009 - val_loss: 6.7212 - val_mape: 6.7212\n",
      "Epoch 169/200\n",
      "11/11 [==============================] - 0s 6ms/step - loss: 7.6637 - mape: 7.6637 - val_loss: 6.9761 - val_mape: 6.9761\n",
      "Epoch 170/200\n",
      "11/11 [==============================] - 0s 6ms/step - loss: 7.6087 - mape: 7.6087 - val_loss: 7.3468 - val_mape: 7.3468\n",
      "Epoch 171/200\n",
      "11/11 [==============================] - 0s 5ms/step - loss: 8.2858 - mape: 8.2858 - val_loss: 7.4142 - val_mape: 7.4142\n",
      "Epoch 172/200\n",
      "11/11 [==============================] - 0s 6ms/step - loss: 8.0221 - mape: 8.0221 - val_loss: 7.0784 - val_mape: 7.0784\n",
      "Epoch 173/200\n",
      "11/11 [==============================] - 0s 6ms/step - loss: 7.2803 - mape: 7.2803 - val_loss: 6.8996 - val_mape: 6.8996\n",
      "Epoch 174/200\n",
      "11/11 [==============================] - 0s 6ms/step - loss: 7.1640 - mape: 7.1640 - val_loss: 6.6136 - val_mape: 6.6136\n",
      "Epoch 175/200\n",
      "11/11 [==============================] - 0s 6ms/step - loss: 7.5825 - mape: 7.5825 - val_loss: 6.7923 - val_mape: 6.7923\n",
      "Epoch 176/200\n",
      "11/11 [==============================] - 0s 5ms/step - loss: 7.5103 - mape: 7.5103 - val_loss: 6.6416 - val_mape: 6.6416\n",
      "Epoch 177/200\n",
      "11/11 [==============================] - 0s 6ms/step - loss: 7.0864 - mape: 7.0864 - val_loss: 7.6983 - val_mape: 7.6983\n",
      "Epoch 178/200\n",
      "11/11 [==============================] - 0s 6ms/step - loss: 7.5061 - mape: 7.5061 - val_loss: 6.5438 - val_mape: 6.5438\n",
      "Epoch 179/200\n",
      "11/11 [==============================] - 0s 6ms/step - loss: 7.0344 - mape: 7.0344 - val_loss: 6.5328 - val_mape: 6.5328\n",
      "Epoch 180/200\n",
      "11/11 [==============================] - 0s 6ms/step - loss: 7.4880 - mape: 7.4880 - val_loss: 6.6641 - val_mape: 6.6641\n",
      "Epoch 181/200\n",
      "11/11 [==============================] - 0s 5ms/step - loss: 7.3377 - mape: 7.3377 - val_loss: 6.5000 - val_mape: 6.5000\n",
      "Epoch 182/200\n",
      "11/11 [==============================] - 0s 5ms/step - loss: 7.1700 - mape: 7.1700 - val_loss: 6.5254 - val_mape: 6.5254\n",
      "Epoch 183/200\n",
      "11/11 [==============================] - 0s 5ms/step - loss: 7.3514 - mape: 7.3514 - val_loss: 6.6462 - val_mape: 6.6462\n",
      "Epoch 184/200\n",
      "11/11 [==============================] - 0s 6ms/step - loss: 7.6019 - mape: 7.6019 - val_loss: 6.4986 - val_mape: 6.4986\n",
      "Epoch 185/200\n",
      "11/11 [==============================] - 0s 6ms/step - loss: 7.2523 - mape: 7.2523 - val_loss: 6.4569 - val_mape: 6.4569\n",
      "Epoch 186/200\n",
      "11/11 [==============================] - 0s 6ms/step - loss: 7.0569 - mape: 7.0569 - val_loss: 6.5571 - val_mape: 6.5571\n",
      "Epoch 187/200\n",
      "11/11 [==============================] - 0s 6ms/step - loss: 7.4585 - mape: 7.4585 - val_loss: 6.5518 - val_mape: 6.5518\n",
      "Epoch 188/200\n",
      "11/11 [==============================] - 0s 6ms/step - loss: 7.1260 - mape: 7.1260 - val_loss: 6.5880 - val_mape: 6.5880\n",
      "Epoch 189/200\n",
      "11/11 [==============================] - 0s 6ms/step - loss: 7.5125 - mape: 7.5125 - val_loss: 6.5287 - val_mape: 6.5287\n",
      "Epoch 190/200\n",
      "11/11 [==============================] - 0s 6ms/step - loss: 6.7338 - mape: 6.7338 - val_loss: 6.6837 - val_mape: 6.6837\n",
      "Epoch 191/200\n",
      "11/11 [==============================] - 0s 6ms/step - loss: 7.4766 - mape: 7.4766 - val_loss: 6.5520 - val_mape: 6.5520\n",
      "Epoch 192/200\n",
      "11/11 [==============================] - 0s 5ms/step - loss: 7.2014 - mape: 7.2014 - val_loss: 6.4771 - val_mape: 6.4771\n",
      "Epoch 193/200\n",
      "11/11 [==============================] - 0s 6ms/step - loss: 7.4146 - mape: 7.4146 - val_loss: 6.7673 - val_mape: 6.7673\n",
      "Epoch 194/200\n",
      "11/11 [==============================] - 0s 5ms/step - loss: 7.3587 - mape: 7.3587 - val_loss: 6.7086 - val_mape: 6.7086\n",
      "Epoch 195/200\n",
      "11/11 [==============================] - 0s 5ms/step - loss: 7.1671 - mape: 7.1671 - val_loss: 6.6674 - val_mape: 6.6674\n",
      "Epoch 196/200\n",
      "11/11 [==============================] - 0s 6ms/step - loss: 7.1562 - mape: 7.1562 - val_loss: 6.6989 - val_mape: 6.6989\n",
      "Epoch 197/200\n",
      "11/11 [==============================] - 0s 6ms/step - loss: 7.5581 - mape: 7.5581 - val_loss: 6.5689 - val_mape: 6.5689\n",
      "Epoch 198/200\n",
      "11/11 [==============================] - 0s 5ms/step - loss: 7.7100 - mape: 7.7100 - val_loss: 6.9950 - val_mape: 6.9950\n",
      "Epoch 199/200\n",
      "11/11 [==============================] - 0s 6ms/step - loss: 7.2531 - mape: 7.2531 - val_loss: 6.6066 - val_mape: 6.6066\n",
      "Epoch 200/200\n",
      "11/11 [==============================] - 0s 6ms/step - loss: 7.1094 - mape: 7.1094 - val_loss: 6.5787 - val_mape: 6.5787\n"
     ]
    }
   ],
   "source": [
    "model = Sequential()\n",
    "model.add(SimpleRNN(64,activation='relu',input_dim = 4,recurrent_dropout=0.2))\n",
    "model.add(Dense(64,activation='relu'))\n",
    "model.add(Dropout(0.1))\n",
    "model.add(Dense(1,activation='linear'))\n",
    "ad=optimizers.Adam(learning_rate = 0.00026473598774390603)\n",
    "model.compile(optimizer = ad, loss = 'mape', metrics = ['mape'])\n",
    "model_history=model.fit(trainX, trainY,validation_data=(testX,testY), batch_size = 33, epochs = 200,callbacks=[EarlyStopping(monitor='val_loss', patience=50)])"
   ]
  },
  {
   "cell_type": "code",
   "execution_count": 34,
   "id": "77c05906",
   "metadata": {
    "id": "77c05906"
   },
   "outputs": [],
   "source": [
    "def model_loss(history):\n",
    "    plt.figure(figsize=(8,4))\n",
    "    plt.plot(history.history['loss'], label='Train Loss')\n",
    "    plt.plot(history.history['val_loss'], label='Test Loss')\n",
    "    plt.title('model loss')\n",
    "    plt.ylabel('loss')\n",
    "    plt.xlabel('epochs')\n",
    "    plt.legend(loc='upper right')\n",
    "    plt.show();"
   ]
  },
  {
   "cell_type": "code",
   "execution_count": 35,
   "id": "6vZ-AXOUurmJ",
   "metadata": {
    "id": "6vZ-AXOUurmJ"
   },
   "outputs": [],
   "source": [
    "train_score = model.evaluate(trainX, trainY,verbose=0)\n",
    "test_score = model.evaluate(testX, testY,verbose=0)"
   ]
  },
  {
   "cell_type": "code",
   "execution_count": 36,
   "id": "45a22c27",
   "metadata": {
    "colab": {
     "base_uri": "https://localhost:8080/",
     "height": 329
    },
    "id": "45a22c27",
    "outputId": "4eae2bc0-9fe5-429d-e3c4-2246d51410db"
   },
   "outputs": [
    {
     "name": "stdout",
     "output_type": "stream",
     "text": [
      "Train MAPE : 5.97 \n",
      "Test MAPE : 6.58 \n"
     ]
    },
    {
     "data": {
      "image/png": "[encoded data removed]",
      "text/plain": [
       "<Figure size 576x288 with 1 Axes>"
      ]
     },
     "metadata": {
      "needs_background": "light"
     },
     "output_type": "display_data"
    }
   ],
   "source": [
    "train_predict = model.predict(trainX)\n",
    "test_predict = model.predict(testX)\n",
    "\n",
    "# invert predictions\n",
    "train_predict = scaler.inverse_transform(train_predict)\n",
    "trainY = scaler.inverse_transform([trainY])\n",
    "test_predict = scaler.inverse_transform(test_predict)\n",
    "testY = scaler.inverse_transform([testY])\n",
    "print('Train MAPE : %.2f ' % (train_score[1]))\n",
    "print('Test MAPE : %.2f ' % (test_score[1]))\n",
    "model_loss(model_history)"
   ]
  },
  {
   "cell_type": "code",
   "execution_count": 41,
   "id": "dc942f74",
   "metadata": {
    "id": "dc942f74"
   },
   "outputs": [],
   "source": [
    "import seaborn as sns"
   ]
  },
  {
   "cell_type": "code",
   "execution_count": 42,
   "id": "dee9bab8",
   "metadata": {
    "id": "dee9bab8"
   },
   "outputs": [],
   "source": [
    "def prediction_plot(testY, test_predict,look_back):\n",
    "    len_prediction=[x for x in range(341,388)]\n",
    "    plt.plot(trainY.reshape(-1,))\n",
    "    plt.plot(len_prediction, testY.reshape(-1,), marker='.', label='actual')\n",
    "    plt.plot(len_prediction, test_predict, 'g', label=\"prediction\")\n",
    "    plt.tight_layout()\n",
    "    sns.despine(top=True)\n",
    "    plt.subplots_adjust(left=0.07)\n",
    "    plt.ylabel('Units', size=15)\n",
    "    plt.xlabel('Time step', size=15)\n",
    "    plt.legend(fontsize=15)\n",
    "    plt.show()"
   ]
  },
  {
   "cell_type": "code",
   "execution_count": 43,
   "id": "363040b5",
   "metadata": {
    "colab": {
     "base_uri": "https://localhost:8080/",
     "height": 604
    },
    "id": "363040b5",
    "outputId": "5b996b5e-f35a-4057-fc91-ab5757973534"
   },
   "outputs": [
    {
     "data": {
      "image/png": "[encoded data removed]",
      "text/plain": [
       "<Figure size 1080x576 with 1 Axes>"
      ]
     },
     "metadata": {
      "needs_background": "light"
     },
     "output_type": "display_data"
    }
   ],
   "source": [
    "test_predict = model.predict(testX)\n",
    "test_predict = scaler.inverse_transform(test_predict)\n",
    "prediction_plot(testY, test_predict,look_back)"
   ]
  },
  {
   "cell_type": "code",
   "execution_count": null,
   "id": "f8a7708c",
   "metadata": {
    "id": "f8a7708c"
   },
   "outputs": [],
   "source": []
  }
 ],
 "metadata": {
  "colab": {
   "collapsed_sections": [],
   "name": "crude_oil_HPT_RNN.ipynb",
   "provenance": []
  },
  "kernelspec": {
   "display_name": "Python 3",
   "language": "python",
   "name": "python3"
  },
  "language_info": {
   "codemirror_mode": {
    "name": "ipython",
    "version": 3
   },
   "file_extension": ".py",
   "mimetype": "text/x-python",
   "name": "python",
   "nbconvert_exporter": "python",
   "pygments_lexer": "ipython3",
   "version": "3.8.8"
  }
 },
 "nbformat": 4,
 "nbformat_minor": 5
}
