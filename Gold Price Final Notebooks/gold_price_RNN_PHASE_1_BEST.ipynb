{
 "cells": [
  {
   "cell_type": "code",
   "execution_count": 1,
   "id": "c2ef9b47",
   "metadata": {
    "id": "c2ef9b47"
   },
   "outputs": [],
   "source": [
    "import numpy as np\n",
    "import pandas as pd\n",
    "from tensorflow.keras.models import Sequential\n",
    "from tensorflow.keras.layers import LSTM\n",
    "from tensorflow.keras.layers import Dense\n",
    "from tensorflow.keras.layers import Flatten\n",
    "import matplotlib.pyplot as plt\n",
    "import warnings\n",
    "warnings.filterwarnings('ignore')\n",
    "%matplotlib inline\n",
    "from sklearn.metrics import mean_absolute_error as mae\n",
    "from pandas.tseries.offsets import BDay"
   ]
  },
  {
   "cell_type": "code",
   "execution_count": 2,
   "id": "iGQk9lcRmucZ",
   "metadata": {
    "colab": {
     "base_uri": "https://localhost:8080/"
    },
    "id": "iGQk9lcRmucZ",
    "outputId": "3f13e692-49d8-4d59-a3e8-9b5b865db5ca"
   },
   "outputs": [
    {
     "name": "stdout",
     "output_type": "stream",
     "text": [
      "Mounted at /content/drive\n"
     ]
    }
   ],
   "source": [
    "from google.colab import drive\n",
    "drive.mount('/content/drive')"
   ]
  },
  {
   "cell_type": "code",
   "execution_count": null,
   "id": "BxDZtfokj6Da",
   "metadata": {
    "colab": {
     "base_uri": "https://localhost:8080/",
     "height": 35
    },
    "id": "BxDZtfokj6Da",
    "outputId": "b20dcdbd-c02a-48ad-a576-4ba9370acae1"
   },
   "outputs": [
    {
     "data": {
      "application/vnd.google.colaboratory.intrinsic+json": {
       "type": "string"
      },
      "text/plain": [
       "'/device:GPU:0'"
      ]
     },
     "execution_count": 5,
     "metadata": {},
     "output_type": "execute_result"
    }
   ],
   "source": [
    "import tensorflow as tf\n",
    "tf.test.gpu_device_name()"
   ]
  },
  {
   "cell_type": "code",
   "execution_count": null,
   "id": "UDt4KrAxj6JS",
   "metadata": {
    "colab": {
     "base_uri": "https://localhost:8080/"
    },
    "id": "UDt4KrAxj6JS",
    "outputId": "9d528187-3aea-4259-a635-0d1eddbc47d0"
   },
   "outputs": [
    {
     "data": {
      "text/plain": [
       "[name: \"/device:CPU:0\"\n",
       " device_type: \"CPU\"\n",
       " memory_limit: 268435456\n",
       " locality {\n",
       " }\n",
       " incarnation: 14494480343520806349\n",
       " xla_global_id: -1, name: \"/device:GPU:0\"\n",
       " device_type: \"GPU\"\n",
       " memory_limit: 11320098816\n",
       " locality {\n",
       "   bus_id: 1\n",
       "   links {\n",
       "   }\n",
       " }\n",
       " incarnation: 1229225032833911937\n",
       " physical_device_desc: \"device: 0, name: Tesla K80, pci bus id: 0000:00:04.0, compute capability: 3.7\"\n",
       " xla_global_id: 416903419]"
      ]
     },
     "execution_count": 6,
     "metadata": {},
     "output_type": "execute_result"
    }
   ],
   "source": [
    "from tensorflow.python.client import device_lib\n",
    "device_lib.list_local_devices()"
   ]
  },
  {
   "cell_type": "code",
   "execution_count": 3,
   "id": "30d066a0",
   "metadata": {
    "colab": {
     "base_uri": "https://localhost:8080/",
     "height": 478
    },
    "id": "30d066a0",
    "outputId": "3d17d9ef-de4e-41f5-9728-f3e616cb0fd6"
   },
   "outputs": [
    {
     "data": {
      "text/html": [
       "\n",
       "  <div id=\"df-9ca3ebd3-153b-43c6-a14a-0bf801fc35b6\">\n",
       "    <div class=\"colab-df-container\">\n",
       "      <div>\n",
       "<style scoped>\n",
       "    .dataframe tbody tr th:only-of-type {\n",
       "        vertical-align: middle;\n",
       "    }\n",
       "\n",
       "    .dataframe tbody tr th {\n",
       "        vertical-align: top;\n",
       "    }\n",
       "\n",
       "    .dataframe thead th {\n",
       "        text-align: right;\n",
       "    }\n",
       "</style>\n",
       "<table border=\"1\" class=\"dataframe\">\n",
       "  <thead>\n",
       "    <tr style=\"text-align: right;\">\n",
       "      <th></th>\n",
       "      <th>Name</th>\n",
       "      <th>US dollar</th>\n",
       "      <th>Euro</th>\n",
       "      <th>Japanese yen</th>\n",
       "      <th>Pound sterling</th>\n",
       "      <th>Canadian dollar</th>\n",
       "      <th>Swiss franc</th>\n",
       "      <th>Indian rupee</th>\n",
       "      <th>Chinese renmimbi</th>\n",
       "      <th>US dollar.1</th>\n",
       "      <th>Turkish lira</th>\n",
       "      <th>Saudi riyal</th>\n",
       "      <th>Indonesian rupiah</th>\n",
       "      <th>UAE dirham</th>\n",
       "      <th>Thai baht</th>\n",
       "      <th>Vietnamese dong</th>\n",
       "      <th>Egyptian pound</th>\n",
       "      <th>Korean won</th>\n",
       "      <th>Euro.1</th>\n",
       "      <th>Russian ruble</th>\n",
       "      <th>US dollar.2</th>\n",
       "      <th>South African rand</th>\n",
       "      <th>Chinese renmimbi.1</th>\n",
       "      <th>Canadian dollar.1</th>\n",
       "      <th>Australian dollar</th>\n",
       "    </tr>\n",
       "  </thead>\n",
       "  <tbody>\n",
       "    <tr>\n",
       "      <th>0</th>\n",
       "      <td>29-12-1978</td>\n",
       "      <td>226.0</td>\n",
       "      <td>137.1</td>\n",
       "      <td>NaN</td>\n",
       "      <td>110.7</td>\n",
       "      <td>NaN</td>\n",
       "      <td>NaN</td>\n",
       "      <td>NaN</td>\n",
       "      <td>NaN</td>\n",
       "      <td>226.0</td>\n",
       "      <td>NaN</td>\n",
       "      <td>NaN</td>\n",
       "      <td>NaN</td>\n",
       "      <td>NaN</td>\n",
       "      <td>NaN</td>\n",
       "      <td>NaN</td>\n",
       "      <td>NaN</td>\n",
       "      <td>NaN</td>\n",
       "      <td>137.1</td>\n",
       "      <td>NaN</td>\n",
       "      <td>226.0</td>\n",
       "      <td>NaN</td>\n",
       "      <td>NaN</td>\n",
       "      <td>NaN</td>\n",
       "      <td>NaN</td>\n",
       "    </tr>\n",
       "    <tr>\n",
       "      <th>1</th>\n",
       "      <td>01-01-1979</td>\n",
       "      <td>226.0</td>\n",
       "      <td>137.1</td>\n",
       "      <td>NaN</td>\n",
       "      <td>110.7</td>\n",
       "      <td>NaN</td>\n",
       "      <td>NaN</td>\n",
       "      <td>NaN</td>\n",
       "      <td>NaN</td>\n",
       "      <td>226.0</td>\n",
       "      <td>NaN</td>\n",
       "      <td>NaN</td>\n",
       "      <td>NaN</td>\n",
       "      <td>NaN</td>\n",
       "      <td>NaN</td>\n",
       "      <td>NaN</td>\n",
       "      <td>NaN</td>\n",
       "      <td>NaN</td>\n",
       "      <td>137.1</td>\n",
       "      <td>NaN</td>\n",
       "      <td>226.0</td>\n",
       "      <td>NaN</td>\n",
       "      <td>NaN</td>\n",
       "      <td>NaN</td>\n",
       "      <td>NaN</td>\n",
       "    </tr>\n",
       "    <tr>\n",
       "      <th>2</th>\n",
       "      <td>02-01-1979</td>\n",
       "      <td>226.8</td>\n",
       "      <td>137.3</td>\n",
       "      <td>43164.9</td>\n",
       "      <td>111.5</td>\n",
       "      <td>263.7</td>\n",
       "      <td>359.6</td>\n",
       "      <td>1792.9</td>\n",
       "      <td>NaN</td>\n",
       "      <td>226.8</td>\n",
       "      <td>NaN</td>\n",
       "      <td>735.6</td>\n",
       "      <td>138160.5</td>\n",
       "      <td>851.3</td>\n",
       "      <td>4454.6</td>\n",
       "      <td>NaN</td>\n",
       "      <td>NaN</td>\n",
       "      <td>107470.0</td>\n",
       "      <td>137.3</td>\n",
       "      <td>NaN</td>\n",
       "      <td>226.8</td>\n",
       "      <td>194.6</td>\n",
       "      <td>NaN</td>\n",
       "      <td>263.7</td>\n",
       "      <td>193.6</td>\n",
       "    </tr>\n",
       "    <tr>\n",
       "      <th>3</th>\n",
       "      <td>03-01-1979</td>\n",
       "      <td>218.6</td>\n",
       "      <td>134.0</td>\n",
       "      <td>43717.9</td>\n",
       "      <td>108.0</td>\n",
       "      <td>264.4</td>\n",
       "      <td>365.9</td>\n",
       "      <td>1802.2</td>\n",
       "      <td>NaN</td>\n",
       "      <td>218.6</td>\n",
       "      <td>NaN</td>\n",
       "      <td>739.4</td>\n",
       "      <td>138877.0</td>\n",
       "      <td>855.7</td>\n",
       "      <td>4477.7</td>\n",
       "      <td>NaN</td>\n",
       "      <td>NaN</td>\n",
       "      <td>108027.4</td>\n",
       "      <td>134.0</td>\n",
       "      <td>NaN</td>\n",
       "      <td>218.6</td>\n",
       "      <td>192.2</td>\n",
       "      <td>NaN</td>\n",
       "      <td>264.4</td>\n",
       "      <td>193.0</td>\n",
       "    </tr>\n",
       "    <tr>\n",
       "      <th>4</th>\n",
       "      <td>04-01-1979</td>\n",
       "      <td>223.2</td>\n",
       "      <td>136.8</td>\n",
       "      <td>43674.9</td>\n",
       "      <td>110.7</td>\n",
       "      <td>264.1</td>\n",
       "      <td>366.4</td>\n",
       "      <td>1811.7</td>\n",
       "      <td>NaN</td>\n",
       "      <td>223.2</td>\n",
       "      <td>NaN</td>\n",
       "      <td>743.4</td>\n",
       "      <td>139616.3</td>\n",
       "      <td>860.3</td>\n",
       "      <td>4501.5</td>\n",
       "      <td>NaN</td>\n",
       "      <td>NaN</td>\n",
       "      <td>108602.5</td>\n",
       "      <td>136.8</td>\n",
       "      <td>NaN</td>\n",
       "      <td>223.2</td>\n",
       "      <td>193.0</td>\n",
       "      <td>NaN</td>\n",
       "      <td>264.1</td>\n",
       "      <td>194.6</td>\n",
       "    </tr>\n",
       "  </tbody>\n",
       "</table>\n",
       "</div>\n",
       "      <button class=\"colab-df-convert\" onclick=\"convertToInteractive('df-9ca3ebd3-153b-43c6-a14a-0bf801fc35b6')\"\n",
       "              title=\"Convert this dataframe to an interactive table.\"\n",
       "              style=\"display:none;\">\n",
       "        \n",
       "  <svg xmlns=\"http://www.w3.org/2000/svg\" height=\"24px\"viewBox=\"0 0 24 24\"\n",
       "       width=\"24px\">\n",
       "    <path d=\"M0 0h24v24H0V0z\" fill=\"none\"/>\n",
       "    <path d=\"M18.56 5.44l.94 2.06.94-2.06 2.06-.94-2.06-.94-.94-2.06-.94 2.06-2.06.94zm-11 1L8.5 8.5l.94-2.06 2.06-.94-2.06-.94L8.5 2.5l-.94 2.06-2.06.94zm10 10l.94 2.06.94-2.06 2.06-.94-2.06-.94-.94-2.06-.94 2.06-2.06.94z\"/><path d=\"M17.41 7.96l-1.37-1.37c-.4-.4-.92-.59-1.43-.59-.52 0-1.04.2-1.43.59L10.3 9.45l-7.72 7.72c-.78.78-.78 2.05 0 2.83L4 21.41c.39.39.9.59 1.41.59.51 0 1.02-.2 1.41-.59l7.78-7.78 2.81-2.81c.8-.78.8-2.07 0-2.86zM5.41 20L4 18.59l7.72-7.72 1.47 1.35L5.41 20z\"/>\n",
       "  </svg>\n",
       "      </button>\n",
       "      \n",
       "  <style>\n",
       "    .colab-df-container {\n",
       "      display:flex;\n",
       "      flex-wrap:wrap;\n",
       "      gap: 12px;\n",
       "    }\n",
       "\n",
       "    .colab-df-convert {\n",
       "      background-color: #E8F0FE;\n",
       "      border: none;\n",
       "      border-radius: 50%;\n",
       "      cursor: pointer;\n",
       "      display: none;\n",
       "      fill: #1967D2;\n",
       "      height: 32px;\n",
       "      padding: 0 0 0 0;\n",
       "      width: 32px;\n",
       "    }\n",
       "\n",
       "    .colab-df-convert:hover {\n",
       "      background-color: #E2EBFA;\n",
       "      box-shadow: 0px 1px 2px rgba(60, 64, 67, 0.3), 0px 1px 3px 1px rgba(60, 64, 67, 0.15);\n",
       "      fill: #174EA6;\n",
       "    }\n",
       "\n",
       "    [theme=dark] .colab-df-convert {\n",
       "      background-color: #3B4455;\n",
       "      fill: #D2E3FC;\n",
       "    }\n",
       "\n",
       "    [theme=dark] .colab-df-convert:hover {\n",
       "      background-color: #434B5C;\n",
       "      box-shadow: 0px 1px 3px 1px rgba(0, 0, 0, 0.15);\n",
       "      filter: drop-shadow(0px 1px 2px rgba(0, 0, 0, 0.3));\n",
       "      fill: #FFFFFF;\n",
       "    }\n",
       "  </style>\n",
       "\n",
       "      <script>\n",
       "        const buttonEl =\n",
       "          document.querySelector('#df-9ca3ebd3-153b-43c6-a14a-0bf801fc35b6 button.colab-df-convert');\n",
       "        buttonEl.style.display =\n",
       "          google.colab.kernel.accessAllowed ? 'block' : 'none';\n",
       "\n",
       "        async function convertToInteractive(key) {\n",
       "          const element = document.querySelector('#df-9ca3ebd3-153b-43c6-a14a-0bf801fc35b6');\n",
       "          const dataTable =\n",
       "            await google.colab.kernel.invokeFunction('convertToInteractive',\n",
       "                                                     [key], {});\n",
       "          if (!dataTable) return;\n",
       "\n",
       "          const docLinkHtml = 'Like what you see? Visit the ' +\n",
       "            '<a target=\"_blank\" href=https://colab.research.google.com/notebooks/data_table.ipynb>data table notebook</a>'\n",
       "            + ' to learn more about interactive tables.';\n",
       "          element.innerHTML = '';\n",
       "          dataTable['output_type'] = 'display_data';\n",
       "          await google.colab.output.renderOutput(dataTable, element);\n",
       "          const docLink = document.createElement('div');\n",
       "          docLink.innerHTML = docLinkHtml;\n",
       "          element.appendChild(docLink);\n",
       "        }\n",
       "      </script>\n",
       "    </div>\n",
       "  </div>\n",
       "  "
      ],
      "text/plain": [
       "         Name  US dollar  ...  Canadian dollar.1  Australian dollar\n",
       "0  29-12-1978      226.0  ...                NaN                NaN\n",
       "1  01-01-1979      226.0  ...                NaN                NaN\n",
       "2  02-01-1979      226.8  ...              263.7              193.6\n",
       "3  03-01-1979      218.6  ...              264.4              193.0\n",
       "4  04-01-1979      223.2  ...              264.1              194.6\n",
       "\n",
       "[5 rows x 25 columns]"
      ]
     },
     "execution_count": 3,
     "metadata": {},
     "output_type": "execute_result"
    }
   ],
   "source": [
    "df_main = pd.read_csv('/content/drive/MyDrive/Colab Notebooks/Financial/Gold_Price_Dataset.csv')\n",
    "df_main.head()"
   ]
  },
  {
   "cell_type": "code",
   "execution_count": 4,
   "id": "0482272d",
   "metadata": {
    "colab": {
     "base_uri": "https://localhost:8080/"
    },
    "id": "0482272d",
    "outputId": "be2f3af2-7643-405a-b755-36601d8b02fc"
   },
   "outputs": [
    {
     "data": {
      "text/plain": [
       "(10901, 25)"
      ]
     },
     "execution_count": 4,
     "metadata": {},
     "output_type": "execute_result"
    }
   ],
   "source": [
    "df_main.shape"
   ]
  },
  {
   "cell_type": "code",
   "execution_count": 5,
   "id": "076f1ad3",
   "metadata": {
    "colab": {
     "base_uri": "https://localhost:8080/"
    },
    "id": "076f1ad3",
    "outputId": "4cbf6c0f-aeaa-4c3f-ecdf-05dbcc9a8aca"
   },
   "outputs": [
    {
     "name": "stdout",
     "output_type": "stream",
     "text": [
      "<class 'pandas.core.frame.DataFrame'>\n",
      "RangeIndex: 10901 entries, 0 to 10900\n",
      "Data columns (total 25 columns):\n",
      " #   Column              Non-Null Count  Dtype  \n",
      "---  ------              --------------  -----  \n",
      " 0   Name                10901 non-null  object \n",
      " 1   US dollar           10901 non-null  float64\n",
      " 2   Euro                10901 non-null  float64\n",
      " 3   Japanese yen        10899 non-null  float64\n",
      " 4   Pound sterling      10901 non-null  float64\n",
      " 5   Canadian dollar     10899 non-null  float64\n",
      " 6   Swiss franc         10899 non-null  float64\n",
      " 7   Indian rupee        10899 non-null  float64\n",
      " 8   Chinese renmimbi    9330 non-null   float64\n",
      " 9   US dollar.1         10901 non-null  float64\n",
      " 10  Turkish lira        9856 non-null   float64\n",
      " 11  Saudi riyal         10899 non-null  float64\n",
      " 12  Indonesian rupiah   10899 non-null  float64\n",
      " 13  UAE dirham          10899 non-null  float64\n",
      " 14  Thai baht           10899 non-null  float64\n",
      " 15  Vietnamese dong     8050 non-null   float64\n",
      " 16  Egyptian pound      8310 non-null   float64\n",
      " 17  Korean won          10899 non-null  float64\n",
      " 18  Euro.1              10901 non-null  float64\n",
      " 19  Russian ruble       7240 non-null   float64\n",
      " 20  US dollar.2         10901 non-null  float64\n",
      " 21  South African rand  10899 non-null  float64\n",
      " 22  Chinese renmimbi.1  9330 non-null   float64\n",
      " 23  Canadian dollar.1   10899 non-null  float64\n",
      " 24  Australian dollar   10899 non-null  float64\n",
      "dtypes: float64(24), object(1)\n",
      "memory usage: 2.1+ MB\n"
     ]
    }
   ],
   "source": [
    "df_main.info()"
   ]
  },
  {
   "cell_type": "code",
   "execution_count": 6,
   "id": "299Ffir6CYSN",
   "metadata": {
    "id": "299Ffir6CYSN"
   },
   "outputs": [],
   "source": [
    "time = pd.date_range(start='12/29/1978',periods=10901,freq=BDay())\n",
    "df_main['time_stamp'] = pd.DataFrame(time)\n",
    "df_main.drop(['Name'],axis=1,inplace=True)\n",
    "df_main = df_main.set_index('time_stamp')"
   ]
  },
  {
   "cell_type": "code",
   "execution_count": 7,
   "id": "1CZBnYRqChDE",
   "metadata": {
    "id": "1CZBnYRqChDE"
   },
   "outputs": [],
   "source": [
    "df = df_main[['US dollar']]"
   ]
  },
  {
   "cell_type": "code",
   "execution_count": 8,
   "id": "s8v0QApu_eHS",
   "metadata": {
    "colab": {
     "base_uri": "https://localhost:8080/"
    },
    "id": "s8v0QApu_eHS",
    "outputId": "2e39fd2d-ceca-403d-8f02-c3f5847e44ed"
   },
   "outputs": [
    {
     "data": {
      "text/plain": [
       "(10901, 1)"
      ]
     },
     "execution_count": 8,
     "metadata": {},
     "output_type": "execute_result"
    }
   ],
   "source": [
    "df.shape"
   ]
  },
  {
   "cell_type": "code",
   "execution_count": 9,
   "id": "-8gUQbCI7Sow",
   "metadata": {
    "colab": {
     "base_uri": "https://localhost:8080/"
    },
    "id": "-8gUQbCI7Sow",
    "outputId": "f1c1db1a-7ba9-456a-8c67-fda6782341b3"
   },
   "outputs": [
    {
     "data": {
      "text/plain": [
       "US dollar    0\n",
       "dtype: int64"
      ]
     },
     "execution_count": 9,
     "metadata": {},
     "output_type": "execute_result"
    }
   ],
   "source": [
    "df.isnull().sum()"
   ]
  },
  {
   "cell_type": "code",
   "execution_count": 10,
   "id": "CqvBttFi7SsL",
   "metadata": {
    "id": "CqvBttFi7SsL"
   },
   "outputs": [],
   "source": [
    "df.columns=['USD']"
   ]
  },
  {
   "cell_type": "code",
   "execution_count": 11,
   "id": "oYAsh_OytrPi",
   "metadata": {
    "colab": {
     "base_uri": "https://localhost:8080/",
     "height": 238
    },
    "id": "oYAsh_OytrPi",
    "outputId": "35812ad1-308d-4be4-b552-fbc65e80ebfb"
   },
   "outputs": [
    {
     "data": {
      "text/html": [
       "\n",
       "  <div id=\"df-68046f15-2af0-4ad1-a0ab-ecedc7a5492c\">\n",
       "    <div class=\"colab-df-container\">\n",
       "      <div>\n",
       "<style scoped>\n",
       "    .dataframe tbody tr th:only-of-type {\n",
       "        vertical-align: middle;\n",
       "    }\n",
       "\n",
       "    .dataframe tbody tr th {\n",
       "        vertical-align: top;\n",
       "    }\n",
       "\n",
       "    .dataframe thead th {\n",
       "        text-align: right;\n",
       "    }\n",
       "</style>\n",
       "<table border=\"1\" class=\"dataframe\">\n",
       "  <thead>\n",
       "    <tr style=\"text-align: right;\">\n",
       "      <th></th>\n",
       "      <th>USD</th>\n",
       "    </tr>\n",
       "    <tr>\n",
       "      <th>time_stamp</th>\n",
       "      <th></th>\n",
       "    </tr>\n",
       "  </thead>\n",
       "  <tbody>\n",
       "    <tr>\n",
       "      <th>1978-12-29</th>\n",
       "      <td>226.0</td>\n",
       "    </tr>\n",
       "    <tr>\n",
       "      <th>1979-01-01</th>\n",
       "      <td>226.0</td>\n",
       "    </tr>\n",
       "    <tr>\n",
       "      <th>1979-01-02</th>\n",
       "      <td>226.8</td>\n",
       "    </tr>\n",
       "    <tr>\n",
       "      <th>1979-01-03</th>\n",
       "      <td>218.6</td>\n",
       "    </tr>\n",
       "    <tr>\n",
       "      <th>1979-01-04</th>\n",
       "      <td>223.2</td>\n",
       "    </tr>\n",
       "  </tbody>\n",
       "</table>\n",
       "</div>\n",
       "      <button class=\"colab-df-convert\" onclick=\"convertToInteractive('df-68046f15-2af0-4ad1-a0ab-ecedc7a5492c')\"\n",
       "              title=\"Convert this dataframe to an interactive table.\"\n",
       "              style=\"display:none;\">\n",
       "        \n",
       "  <svg xmlns=\"http://www.w3.org/2000/svg\" height=\"24px\"viewBox=\"0 0 24 24\"\n",
       "       width=\"24px\">\n",
       "    <path d=\"M0 0h24v24H0V0z\" fill=\"none\"/>\n",
       "    <path d=\"M18.56 5.44l.94 2.06.94-2.06 2.06-.94-2.06-.94-.94-2.06-.94 2.06-2.06.94zm-11 1L8.5 8.5l.94-2.06 2.06-.94-2.06-.94L8.5 2.5l-.94 2.06-2.06.94zm10 10l.94 2.06.94-2.06 2.06-.94-2.06-.94-.94-2.06-.94 2.06-2.06.94z\"/><path d=\"M17.41 7.96l-1.37-1.37c-.4-.4-.92-.59-1.43-.59-.52 0-1.04.2-1.43.59L10.3 9.45l-7.72 7.72c-.78.78-.78 2.05 0 2.83L4 21.41c.39.39.9.59 1.41.59.51 0 1.02-.2 1.41-.59l7.78-7.78 2.81-2.81c.8-.78.8-2.07 0-2.86zM5.41 20L4 18.59l7.72-7.72 1.47 1.35L5.41 20z\"/>\n",
       "  </svg>\n",
       "      </button>\n",
       "      \n",
       "  <style>\n",
       "    .colab-df-container {\n",
       "      display:flex;\n",
       "      flex-wrap:wrap;\n",
       "      gap: 12px;\n",
       "    }\n",
       "\n",
       "    .colab-df-convert {\n",
       "      background-color: #E8F0FE;\n",
       "      border: none;\n",
       "      border-radius: 50%;\n",
       "      cursor: pointer;\n",
       "      display: none;\n",
       "      fill: #1967D2;\n",
       "      height: 32px;\n",
       "      padding: 0 0 0 0;\n",
       "      width: 32px;\n",
       "    }\n",
       "\n",
       "    .colab-df-convert:hover {\n",
       "      background-color: #E2EBFA;\n",
       "      box-shadow: 0px 1px 2px rgba(60, 64, 67, 0.3), 0px 1px 3px 1px rgba(60, 64, 67, 0.15);\n",
       "      fill: #174EA6;\n",
       "    }\n",
       "\n",
       "    [theme=dark] .colab-df-convert {\n",
       "      background-color: #3B4455;\n",
       "      fill: #D2E3FC;\n",
       "    }\n",
       "\n",
       "    [theme=dark] .colab-df-convert:hover {\n",
       "      background-color: #434B5C;\n",
       "      box-shadow: 0px 1px 3px 1px rgba(0, 0, 0, 0.15);\n",
       "      filter: drop-shadow(0px 1px 2px rgba(0, 0, 0, 0.3));\n",
       "      fill: #FFFFFF;\n",
       "    }\n",
       "  </style>\n",
       "\n",
       "      <script>\n",
       "        const buttonEl =\n",
       "          document.querySelector('#df-68046f15-2af0-4ad1-a0ab-ecedc7a5492c button.colab-df-convert');\n",
       "        buttonEl.style.display =\n",
       "          google.colab.kernel.accessAllowed ? 'block' : 'none';\n",
       "\n",
       "        async function convertToInteractive(key) {\n",
       "          const element = document.querySelector('#df-68046f15-2af0-4ad1-a0ab-ecedc7a5492c');\n",
       "          const dataTable =\n",
       "            await google.colab.kernel.invokeFunction('convertToInteractive',\n",
       "                                                     [key], {});\n",
       "          if (!dataTable) return;\n",
       "\n",
       "          const docLinkHtml = 'Like what you see? Visit the ' +\n",
       "            '<a target=\"_blank\" href=https://colab.research.google.com/notebooks/data_table.ipynb>data table notebook</a>'\n",
       "            + ' to learn more about interactive tables.';\n",
       "          element.innerHTML = '';\n",
       "          dataTable['output_type'] = 'display_data';\n",
       "          await google.colab.output.renderOutput(dataTable, element);\n",
       "          const docLink = document.createElement('div');\n",
       "          docLink.innerHTML = docLinkHtml;\n",
       "          element.appendChild(docLink);\n",
       "        }\n",
       "      </script>\n",
       "    </div>\n",
       "  </div>\n",
       "  "
      ],
      "text/plain": [
       "              USD\n",
       "time_stamp       \n",
       "1978-12-29  226.0\n",
       "1979-01-01  226.0\n",
       "1979-01-02  226.8\n",
       "1979-01-03  218.6\n",
       "1979-01-04  223.2"
      ]
     },
     "execution_count": 11,
     "metadata": {},
     "output_type": "execute_result"
    }
   ],
   "source": [
    "df.head()"
   ]
  },
  {
   "cell_type": "code",
   "execution_count": 12,
   "id": "PVfreeEkE1aG",
   "metadata": {
    "colab": {
     "base_uri": "https://localhost:8080/",
     "height": 238
    },
    "id": "PVfreeEkE1aG",
    "outputId": "c77c5732-2b6e-43d0-a8b7-2af1804b56ea"
   },
   "outputs": [
    {
     "data": {
      "text/html": [
       "\n",
       "  <div id=\"df-b3a439c5-fd4d-4db4-926d-cb9dcbde0f4f\">\n",
       "    <div class=\"colab-df-container\">\n",
       "      <div>\n",
       "<style scoped>\n",
       "    .dataframe tbody tr th:only-of-type {\n",
       "        vertical-align: middle;\n",
       "    }\n",
       "\n",
       "    .dataframe tbody tr th {\n",
       "        vertical-align: top;\n",
       "    }\n",
       "\n",
       "    .dataframe thead th {\n",
       "        text-align: right;\n",
       "    }\n",
       "</style>\n",
       "<table border=\"1\" class=\"dataframe\">\n",
       "  <thead>\n",
       "    <tr style=\"text-align: right;\">\n",
       "      <th></th>\n",
       "      <th>USD</th>\n",
       "    </tr>\n",
       "    <tr>\n",
       "      <th>time_stamp</th>\n",
       "      <th></th>\n",
       "    </tr>\n",
       "  </thead>\n",
       "  <tbody>\n",
       "    <tr>\n",
       "      <th>2020-10-05</th>\n",
       "      <td>1909.6</td>\n",
       "    </tr>\n",
       "    <tr>\n",
       "      <th>2020-10-06</th>\n",
       "      <td>1913.4</td>\n",
       "    </tr>\n",
       "    <tr>\n",
       "      <th>2020-10-07</th>\n",
       "      <td>1884.5</td>\n",
       "    </tr>\n",
       "    <tr>\n",
       "      <th>2020-10-08</th>\n",
       "      <td>1887.5</td>\n",
       "    </tr>\n",
       "    <tr>\n",
       "      <th>2020-10-09</th>\n",
       "      <td>1923.3</td>\n",
       "    </tr>\n",
       "  </tbody>\n",
       "</table>\n",
       "</div>\n",
       "      <button class=\"colab-df-convert\" onclick=\"convertToInteractive('df-b3a439c5-fd4d-4db4-926d-cb9dcbde0f4f')\"\n",
       "              title=\"Convert this dataframe to an interactive table.\"\n",
       "              style=\"display:none;\">\n",
       "        \n",
       "  <svg xmlns=\"http://www.w3.org/2000/svg\" height=\"24px\"viewBox=\"0 0 24 24\"\n",
       "       width=\"24px\">\n",
       "    <path d=\"M0 0h24v24H0V0z\" fill=\"none\"/>\n",
       "    <path d=\"M18.56 5.44l.94 2.06.94-2.06 2.06-.94-2.06-.94-.94-2.06-.94 2.06-2.06.94zm-11 1L8.5 8.5l.94-2.06 2.06-.94-2.06-.94L8.5 2.5l-.94 2.06-2.06.94zm10 10l.94 2.06.94-2.06 2.06-.94-2.06-.94-.94-2.06-.94 2.06-2.06.94z\"/><path d=\"M17.41 7.96l-1.37-1.37c-.4-.4-.92-.59-1.43-.59-.52 0-1.04.2-1.43.59L10.3 9.45l-7.72 7.72c-.78.78-.78 2.05 0 2.83L4 21.41c.39.39.9.59 1.41.59.51 0 1.02-.2 1.41-.59l7.78-7.78 2.81-2.81c.8-.78.8-2.07 0-2.86zM5.41 20L4 18.59l7.72-7.72 1.47 1.35L5.41 20z\"/>\n",
       "  </svg>\n",
       "      </button>\n",
       "      \n",
       "  <style>\n",
       "    .colab-df-container {\n",
       "      display:flex;\n",
       "      flex-wrap:wrap;\n",
       "      gap: 12px;\n",
       "    }\n",
       "\n",
       "    .colab-df-convert {\n",
       "      background-color: #E8F0FE;\n",
       "      border: none;\n",
       "      border-radius: 50%;\n",
       "      cursor: pointer;\n",
       "      display: none;\n",
       "      fill: #1967D2;\n",
       "      height: 32px;\n",
       "      padding: 0 0 0 0;\n",
       "      width: 32px;\n",
       "    }\n",
       "\n",
       "    .colab-df-convert:hover {\n",
       "      background-color: #E2EBFA;\n",
       "      box-shadow: 0px 1px 2px rgba(60, 64, 67, 0.3), 0px 1px 3px 1px rgba(60, 64, 67, 0.15);\n",
       "      fill: #174EA6;\n",
       "    }\n",
       "\n",
       "    [theme=dark] .colab-df-convert {\n",
       "      background-color: #3B4455;\n",
       "      fill: #D2E3FC;\n",
       "    }\n",
       "\n",
       "    [theme=dark] .colab-df-convert:hover {\n",
       "      background-color: #434B5C;\n",
       "      box-shadow: 0px 1px 3px 1px rgba(0, 0, 0, 0.15);\n",
       "      filter: drop-shadow(0px 1px 2px rgba(0, 0, 0, 0.3));\n",
       "      fill: #FFFFFF;\n",
       "    }\n",
       "  </style>\n",
       "\n",
       "      <script>\n",
       "        const buttonEl =\n",
       "          document.querySelector('#df-b3a439c5-fd4d-4db4-926d-cb9dcbde0f4f button.colab-df-convert');\n",
       "        buttonEl.style.display =\n",
       "          google.colab.kernel.accessAllowed ? 'block' : 'none';\n",
       "\n",
       "        async function convertToInteractive(key) {\n",
       "          const element = document.querySelector('#df-b3a439c5-fd4d-4db4-926d-cb9dcbde0f4f');\n",
       "          const dataTable =\n",
       "            await google.colab.kernel.invokeFunction('convertToInteractive',\n",
       "                                                     [key], {});\n",
       "          if (!dataTable) return;\n",
       "\n",
       "          const docLinkHtml = 'Like what you see? Visit the ' +\n",
       "            '<a target=\"_blank\" href=https://colab.research.google.com/notebooks/data_table.ipynb>data table notebook</a>'\n",
       "            + ' to learn more about interactive tables.';\n",
       "          element.innerHTML = '';\n",
       "          dataTable['output_type'] = 'display_data';\n",
       "          await google.colab.output.renderOutput(dataTable, element);\n",
       "          const docLink = document.createElement('div');\n",
       "          docLink.innerHTML = docLinkHtml;\n",
       "          element.appendChild(docLink);\n",
       "        }\n",
       "      </script>\n",
       "    </div>\n",
       "  </div>\n",
       "  "
      ],
      "text/plain": [
       "               USD\n",
       "time_stamp        \n",
       "2020-10-05  1909.6\n",
       "2020-10-06  1913.4\n",
       "2020-10-07  1884.5\n",
       "2020-10-08  1887.5\n",
       "2020-10-09  1923.3"
      ]
     },
     "execution_count": 12,
     "metadata": {},
     "output_type": "execute_result"
    }
   ],
   "source": [
    "df.tail()"
   ]
  },
  {
   "cell_type": "code",
   "execution_count": 13,
   "id": "yBDUaFhPzMMb",
   "metadata": {
    "id": "yBDUaFhPzMMb"
   },
   "outputs": [],
   "source": [
    "plt.rcParams['figure.figsize'] = [15,8]"
   ]
  },
  {
   "cell_type": "code",
   "execution_count": 14,
   "id": "cIgSM89EzBTw",
   "metadata": {
    "colab": {
     "base_uri": "https://localhost:8080/",
     "height": 523
    },
    "id": "cIgSM89EzBTw",
    "outputId": "2a6994df-6693-4c00-c9ef-812979abf3b4"
   },
   "outputs": [
    {
     "data": {
      "image/png": "[encoded data removed]",
      "text/plain": [
       "<Figure size 1080x576 with 1 Axes>"
      ]
     },
     "metadata": {
      "needs_background": "light"
     },
     "output_type": "display_data"
    }
   ],
   "source": [
    "plt.plot(df,color='orange')\n",
    "plt.title('Daily Gold Price',fontsize=20)\n",
    "plt.xlabel('Date',fontsize=15)\n",
    "plt.ylabel('Units',fontsize=15)\n",
    "plt.show()"
   ]
  },
  {
   "cell_type": "code",
   "execution_count": 15,
   "id": "bf59d3e0",
   "metadata": {
    "id": "bf59d3e0"
   },
   "outputs": [],
   "source": [
    "def convert2matrix(data_arr, look_back):\n",
    "    X, Y =[], []\n",
    "    for i in range(len(data_arr)-look_back):\n",
    "        d=i+look_back  \n",
    "        X.append(data_arr[i:d,0])\n",
    "        Y.append(data_arr[d,0])\n",
    "    return np.array(X), np.array(Y)"
   ]
  },
  {
   "cell_type": "code",
   "execution_count": 44,
   "id": "5CBL1GHqurmE",
   "metadata": {
    "id": "5CBL1GHqurmE"
   },
   "outputs": [],
   "source": [
    "from sklearn.preprocessing import MinMaxScaler\n",
    "#create numpy.ndarray \n",
    "df['USD'] = df['USD'].astype(np.float32)\n",
    "df_arr = df.values\n",
    "df_arr = np.reshape(df_arr, (-1, 1))\n",
    "scaler = MinMaxScaler(feature_range=(0.1, 1))\n",
    "df_arr = scaler.fit_transform(df_arr)"
   ]
  },
  {
   "cell_type": "code",
   "execution_count": 45,
   "id": "1cea6c5f",
   "metadata": {
    "id": "1cea6c5f"
   },
   "outputs": [],
   "source": [
    "#Split data set into testing dataset and train dataset\n",
    "train_size = 9801\n",
    "train, test =df_arr[0:train_size,:], df_arr[train_size:len(df_arr),:]\n",
    "# setup look_back window \n",
    "look_back = 4\n",
    "#convert dataset into right shape in order to input into the DNN\n",
    "trainX, trainY = convert2matrix(train, look_back)\n",
    "testX, testY = convert2matrix(test, look_back)\n",
    "trainX = np.reshape(trainX, (trainX.shape[0], 1, trainX.shape[1]))\n",
    "testX = np.reshape(testX, (testX.shape[0], 1, testX.shape[1]))"
   ]
  },
  {
   "cell_type": "code",
   "execution_count": 18,
   "id": "c7d46c39",
   "metadata": {
    "colab": {
     "base_uri": "https://localhost:8080/"
    },
    "id": "c7d46c39",
    "outputId": "3bc7ed66-4cf9-47ae-9ce7-f4577e511bc8"
   },
   "outputs": [
    {
     "name": "stdout",
     "output_type": "stream",
     "text": [
      "(9797, 1, 4)\n",
      "(9797,)\n",
      "(1096, 1, 4)\n",
      "(1096,)\n"
     ]
    }
   ],
   "source": [
    "print(trainX.shape)\n",
    "print(trainY.shape)\n",
    "print(testX.shape)\n",
    "print(testY.shape)"
   ]
  },
  {
   "cell_type": "code",
   "execution_count": 19,
   "id": "GIc1nRcCuP3G",
   "metadata": {
    "colab": {
     "base_uri": "https://localhost:8080/"
    },
    "id": "GIc1nRcCuP3G",
    "outputId": "18f06d83-0bfa-4e4d-8fa6-c3ed913cadfb"
   },
   "outputs": [
    {
     "name": "stdout",
     "output_type": "stream",
     "text": [
      "\u001b[?25l\r",
      "\u001b[K     |███▍                            | 10 kB 18.2 MB/s eta 0:00:01\r",
      "\u001b[K     |██████▊                         | 20 kB 21.6 MB/s eta 0:00:01\r",
      "\u001b[K     |██████████                      | 30 kB 17.5 MB/s eta 0:00:01\r",
      "\u001b[K     |█████████████▍                  | 40 kB 10.3 MB/s eta 0:00:01\r",
      "\u001b[K     |████████████████▊               | 51 kB 4.1 MB/s eta 0:00:01\r",
      "\u001b[K     |████████████████████            | 61 kB 4.8 MB/s eta 0:00:01\r",
      "\u001b[K     |███████████████████████▍        | 71 kB 4.8 MB/s eta 0:00:01\r",
      "\u001b[K     |██████████████████████████▊     | 81 kB 4.6 MB/s eta 0:00:01\r",
      "\u001b[K     |██████████████████████████████  | 92 kB 5.1 MB/s eta 0:00:01\r",
      "\u001b[K     |████████████████████████████████| 98 kB 3.0 MB/s \n",
      "\u001b[?25h"
     ]
    }
   ],
   "source": [
    "!pip install -q -U keras-tuner"
   ]
  },
  {
   "cell_type": "code",
   "execution_count": 22,
   "id": "M5te5ih0uP6u",
   "metadata": {
    "id": "M5te5ih0uP6u"
   },
   "outputs": [],
   "source": [
    "import pandas as pd\n",
    "from tensorflow import keras\n",
    "from tensorflow.keras import layers\n",
    "from keras_tuner.tuners import RandomSearch\n",
    "from tensorflow.keras.models import Sequential\n",
    "from tensorflow.keras.layers import LSTM\n",
    "from tensorflow.keras.layers import Dense,Dropout,SimpleRNN\n",
    "from tensorflow.keras.layers import Flatten\n",
    "import matplotlib.pyplot as plt"
   ]
  },
  {
   "cell_type": "code",
   "execution_count": 23,
   "id": "rYiJC5hXuP_e",
   "metadata": {
    "id": "rYiJC5hXuP_e"
   },
   "outputs": [],
   "source": [
    "def build_model(hp):\n",
    "    model = keras.Sequential()\n",
    "    model.add(SimpleRNN(hp.Int('rnn_layer',min_value=8,max_value=256,step=8), activation=\"relu\",input_shape=(1,look_back),recurrent_dropout = hp.Choice(\"first_recurrent_dropout\",[0.2,0.3,0.4],default=0.2)))\n",
    "    model.add(Dense(hp.Int('dense_layer',min_value=8,max_value=256,step=8),activation=\"relu\"))\n",
    "    model.add(Dropout(hp.Float('Dropout_rate',min_value=0,max_value=0.5,step=0.1)))\n",
    "    model.add(layers.Dense(1, activation='linear'))\n",
    "    model.compile(\n",
    "        optimizer=keras.optimizers.Adam(\n",
    "             hp.Float('learning_rate', min_value=1e-4, max_value=1e-1, sampling=\"log\")),\n",
    "        loss='mape',\n",
    "        metrics=['mape'])\n",
    "    return model"
   ]
  },
  {
   "cell_type": "code",
   "execution_count": 30,
   "id": "2h_gRerjuQCT",
   "metadata": {
    "id": "2h_gRerjuQCT"
   },
   "outputs": [],
   "source": [
    "tuner = RandomSearch(\n",
    "    build_model,\n",
    "    objective='val_mape',\n",
    "    max_trials=10,\n",
    "    executions_per_trial=1,\n",
    "    directory='project',\n",
    "    project_name='loa_em_3')"
   ]
  },
  {
   "cell_type": "code",
   "execution_count": 31,
   "id": "Dg5AHN3guQFu",
   "metadata": {
    "colab": {
     "base_uri": "https://localhost:8080/"
    },
    "id": "Dg5AHN3guQFu",
    "outputId": "c555d992-a27e-474a-87f4-7417bad785f3"
   },
   "outputs": [
    {
     "name": "stdout",
     "output_type": "stream",
     "text": [
      "Search space summary\n",
      "Default search space size: 5\n",
      "rnn_layer (Int)\n",
      "{'default': None, 'conditions': [], 'min_value': 8, 'max_value': 256, 'step': 8, 'sampling': None}\n",
      "first_recurrent_dropout (Choice)\n",
      "{'default': 0.2, 'conditions': [], 'values': [0.2, 0.3, 0.4], 'ordered': True}\n",
      "dense_layer (Int)\n",
      "{'default': None, 'conditions': [], 'min_value': 8, 'max_value': 256, 'step': 8, 'sampling': None}\n",
      "Dropout_rate (Float)\n",
      "{'default': 0.0, 'conditions': [], 'min_value': 0.0, 'max_value': 0.5, 'step': 0.1, 'sampling': None}\n",
      "learning_rate (Float)\n",
      "{'default': 0.0001, 'conditions': [], 'min_value': 0.0001, 'max_value': 0.1, 'step': None, 'sampling': 'log'}\n"
     ]
    }
   ],
   "source": [
    "tuner.search_space_summary()"
   ]
  },
  {
   "cell_type": "code",
   "execution_count": 32,
   "id": "TiBXdF0K8Gpr",
   "metadata": {
    "colab": {
     "base_uri": "https://localhost:8080/"
    },
    "id": "TiBXdF0K8Gpr",
    "outputId": "037a76f9-1238-4055-9f8c-ef80cde883f0"
   },
   "outputs": [
    {
     "name": "stdout",
     "output_type": "stream",
     "text": [
      "Trial 10 Complete [00h 05m 23s]\n",
      "val_mape: 0.6051326990127563\n",
      "\n",
      "Best val_mape So Far: 0.5875175595283508\n",
      "Total elapsed time: 00h 50m 48s\n",
      "INFO:tensorflow:Oracle triggered exit\n"
     ]
    }
   ],
   "source": [
    "tuner.search(trainX, trainY,\n",
    "             epochs=200,\n",
    "             batch_size=32,\n",
    "             validation_data=(testX, testY))"
   ]
  },
  {
   "cell_type": "code",
   "execution_count": 33,
   "id": "VXXGH_RK8GsD",
   "metadata": {
    "colab": {
     "base_uri": "https://localhost:8080/"
    },
    "id": "VXXGH_RK8GsD",
    "outputId": "e170252d-b459-472f-cc35-60364132ee2c"
   },
   "outputs": [
    {
     "name": "stdout",
     "output_type": "stream",
     "text": [
      "Results summary\n",
      "Results in project/loa_em_3\n",
      "Showing 10 best trials\n",
      "Objective(name='val_mape', direction='min')\n",
      "Trial summary\n",
      "Hyperparameters:\n",
      "rnn_layer: 40\n",
      "first_recurrent_dropout: 0.2\n",
      "dense_layer: 128\n",
      "Dropout_rate: 0.1\n",
      "learning_rate: 0.00041262424129007364\n",
      "Score: 0.5875175595283508\n",
      "Trial summary\n",
      "Hyperparameters:\n",
      "rnn_layer: 128\n",
      "first_recurrent_dropout: 0.2\n",
      "dense_layer: 152\n",
      "Dropout_rate: 0.0\n",
      "learning_rate: 0.002016731956984042\n",
      "Score: 0.5889031291007996\n",
      "Trial summary\n",
      "Hyperparameters:\n",
      "rnn_layer: 184\n",
      "first_recurrent_dropout: 0.3\n",
      "dense_layer: 8\n",
      "Dropout_rate: 0.0\n",
      "learning_rate: 0.015629230639366914\n",
      "Score: 0.5985832214355469\n",
      "Trial summary\n",
      "Hyperparameters:\n",
      "rnn_layer: 160\n",
      "first_recurrent_dropout: 0.4\n",
      "dense_layer: 176\n",
      "Dropout_rate: 0.30000000000000004\n",
      "learning_rate: 0.0004587913177291949\n",
      "Score: 0.6015581488609314\n",
      "Trial summary\n",
      "Hyperparameters:\n",
      "rnn_layer: 192\n",
      "first_recurrent_dropout: 0.3\n",
      "dense_layer: 120\n",
      "Dropout_rate: 0.1\n",
      "learning_rate: 0.0031676192175181784\n",
      "Score: 0.6051326990127563\n",
      "Trial summary\n",
      "Hyperparameters:\n",
      "rnn_layer: 120\n",
      "first_recurrent_dropout: 0.3\n",
      "dense_layer: 168\n",
      "Dropout_rate: 0.1\n",
      "learning_rate: 0.0030148996787940593\n",
      "Score: 0.6095269918441772\n",
      "Trial summary\n",
      "Hyperparameters:\n",
      "rnn_layer: 184\n",
      "first_recurrent_dropout: 0.2\n",
      "dense_layer: 80\n",
      "Dropout_rate: 0.2\n",
      "learning_rate: 0.0002509751954178131\n",
      "Score: 0.6134439706802368\n",
      "Trial summary\n",
      "Hyperparameters:\n",
      "rnn_layer: 160\n",
      "first_recurrent_dropout: 0.3\n",
      "dense_layer: 144\n",
      "Dropout_rate: 0.30000000000000004\n",
      "learning_rate: 0.003649928369878731\n",
      "Score: 0.6226463317871094\n",
      "Trial summary\n",
      "Hyperparameters:\n",
      "rnn_layer: 232\n",
      "first_recurrent_dropout: 0.3\n",
      "dense_layer: 48\n",
      "Dropout_rate: 0.30000000000000004\n",
      "learning_rate: 0.005519407974838786\n",
      "Score: 0.6547484993934631\n",
      "Trial summary\n",
      "Hyperparameters:\n",
      "rnn_layer: 248\n",
      "first_recurrent_dropout: 0.2\n",
      "dense_layer: 8\n",
      "Dropout_rate: 0.4\n",
      "learning_rate: 0.006385055252405681\n",
      "Score: 26.92906379699707\n"
     ]
    }
   ],
   "source": [
    "tuner.results_summary()"
   ]
  },
  {
   "cell_type": "code",
   "execution_count": 34,
   "id": "FBpLenJ_DZMX",
   "metadata": {
    "id": "FBpLenJ_DZMX"
   },
   "outputs": [],
   "source": [
    "from warnings import filterwarnings\n",
    "filterwarnings('ignore')"
   ]
  },
  {
   "cell_type": "code",
   "execution_count": 35,
   "id": "eL-a8rAv8Gvg",
   "metadata": {
    "colab": {
     "base_uri": "https://localhost:8080/"
    },
    "id": "eL-a8rAv8Gvg",
    "outputId": "af0508a6-6e15-4d41-cae2-a53091c5dfec"
   },
   "outputs": [
    {
     "name": "stdout",
     "output_type": "stream",
     "text": [
      "Model: \"sequential\"\n",
      "_________________________________________________________________\n",
      " Layer (type)                Output Shape              Param #   \n",
      "=================================================================\n",
      " simple_rnn (SimpleRNN)      (None, 40)                1800      \n",
      "                                                                 \n",
      " dense (Dense)               (None, 128)               5248      \n",
      "                                                                 \n",
      " dropout (Dropout)           (None, 128)               0         \n",
      "                                                                 \n",
      " dense_1 (Dense)             (None, 1)                 129       \n",
      "                                                                 \n",
      "=================================================================\n",
      "Total params: 7,177\n",
      "Trainable params: 7,177\n",
      "Non-trainable params: 0\n",
      "_________________________________________________________________\n"
     ]
    }
   ],
   "source": [
    "models = tuner.get_best_models(num_models=2)\n",
    "best_model = models[0]\n",
    "# Build the model.\n",
    "# Needed for `Sequential` without specified `input_shape`.\n",
    "best_model.build(input_shape=(None, 4))\n",
    "best_model.summary()"
   ]
  },
  {
   "cell_type": "code",
   "execution_count": 36,
   "id": "ovKDjDHZEmLV",
   "metadata": {
    "id": "ovKDjDHZEmLV"
   },
   "outputs": [],
   "source": [
    "from tensorflow.keras import optimizers\n",
    "from tensorflow.keras.callbacks import EarlyStopping"
   ]
  },
  {
   "cell_type": "code",
   "execution_count": 47,
   "id": "9NTj0UnjLqZa",
   "metadata": {
    "colab": {
     "base_uri": "https://localhost:8080/"
    },
    "id": "9NTj0UnjLqZa",
    "outputId": "c57d2b99-3711-4658-96be-3098a4f7a25b"
   },
   "outputs": [
    {
     "name": "stdout",
     "output_type": "stream",
     "text": [
      "Epoch 1/200\n",
      "307/307 [==============================] - 4s 5ms/step - loss: 209.8930 - mape: 209.8930 - val_loss: 206.4018 - val_mape: 206.4018\n",
      "Epoch 2/200\n",
      "307/307 [==============================] - 1s 4ms/step - loss: 191.1003 - mape: 191.1003 - val_loss: 193.5575 - val_mape: 193.5575\n",
      "Epoch 3/200\n",
      "307/307 [==============================] - 1s 3ms/step - loss: 172.1928 - mape: 172.1928 - val_loss: 181.0512 - val_mape: 181.0512\n",
      "Epoch 4/200\n",
      "307/307 [==============================] - 1s 3ms/step - loss: 154.6366 - mape: 154.6366 - val_loss: 169.4402 - val_mape: 169.4402\n",
      "Epoch 5/200\n",
      "307/307 [==============================] - 1s 3ms/step - loss: 138.2500 - mape: 138.2500 - val_loss: 158.3270 - val_mape: 158.3270\n",
      "Epoch 6/200\n",
      "307/307 [==============================] - 1s 3ms/step - loss: 122.7830 - mape: 122.7830 - val_loss: 147.8640 - val_mape: 147.8640\n",
      "Epoch 7/200\n",
      "307/307 [==============================] - 1s 4ms/step - loss: 108.9516 - mape: 108.9516 - val_loss: 138.1355 - val_mape: 138.1355\n",
      "Epoch 8/200\n",
      "307/307 [==============================] - 1s 3ms/step - loss: 96.4224 - mape: 96.4224 - val_loss: 129.0477 - val_mape: 129.0477\n",
      "Epoch 9/200\n",
      "307/307 [==============================] - 1s 3ms/step - loss: 85.0981 - mape: 85.0981 - val_loss: 120.4538 - val_mape: 120.4538\n",
      "Epoch 10/200\n",
      "307/307 [==============================] - 1s 4ms/step - loss: 74.4821 - mape: 74.4821 - val_loss: 112.1964 - val_mape: 112.1964\n",
      "Epoch 11/200\n",
      "307/307 [==============================] - 1s 4ms/step - loss: 63.9894 - mape: 63.9894 - val_loss: 104.6895 - val_mape: 104.6895\n",
      "Epoch 12/200\n",
      "307/307 [==============================] - 1s 4ms/step - loss: 54.8382 - mape: 54.8382 - val_loss: 96.1674 - val_mape: 96.1674\n",
      "Epoch 13/200\n",
      "307/307 [==============================] - 1s 4ms/step - loss: 45.8423 - mape: 45.8423 - val_loss: 87.7893 - val_mape: 87.7893\n",
      "Epoch 14/200\n",
      "307/307 [==============================] - 1s 4ms/step - loss: 37.0981 - mape: 37.0981 - val_loss: 79.4770 - val_mape: 79.4770\n",
      "Epoch 15/200\n",
      "307/307 [==============================] - 1s 3ms/step - loss: 29.8726 - mape: 29.8726 - val_loss: 71.7657 - val_mape: 71.7657\n",
      "Epoch 16/200\n",
      "307/307 [==============================] - 1s 3ms/step - loss: 25.1366 - mape: 25.1366 - val_loss: 64.9585 - val_mape: 64.9585\n",
      "Epoch 17/200\n",
      "307/307 [==============================] - 1s 3ms/step - loss: 22.2143 - mape: 22.2143 - val_loss: 59.6228 - val_mape: 59.6228\n",
      "Epoch 18/200\n",
      "307/307 [==============================] - 1s 3ms/step - loss: 20.5956 - mape: 20.5956 - val_loss: 54.9806 - val_mape: 54.9806\n",
      "Epoch 19/200\n",
      "307/307 [==============================] - 1s 4ms/step - loss: 19.4702 - mape: 19.4702 - val_loss: 50.8181 - val_mape: 50.8181\n",
      "Epoch 20/200\n",
      "307/307 [==============================] - 1s 4ms/step - loss: 18.5681 - mape: 18.5681 - val_loss: 47.1344 - val_mape: 47.1344\n",
      "Epoch 21/200\n",
      "307/307 [==============================] - 1s 4ms/step - loss: 17.7583 - mape: 17.7583 - val_loss: 43.8179 - val_mape: 43.8179\n",
      "Epoch 22/200\n",
      "307/307 [==============================] - 1s 4ms/step - loss: 17.0929 - mape: 17.0929 - val_loss: 41.8292 - val_mape: 41.8292\n",
      "Epoch 23/200\n",
      "307/307 [==============================] - 1s 4ms/step - loss: 16.5173 - mape: 16.5173 - val_loss: 40.1611 - val_mape: 40.1611\n",
      "Epoch 24/200\n",
      "307/307 [==============================] - 1s 4ms/step - loss: 15.9296 - mape: 15.9296 - val_loss: 38.5351 - val_mape: 38.5351\n",
      "Epoch 25/200\n",
      "307/307 [==============================] - 1s 4ms/step - loss: 15.3141 - mape: 15.3141 - val_loss: 36.9641 - val_mape: 36.9641\n",
      "Epoch 26/200\n",
      "307/307 [==============================] - 1s 4ms/step - loss: 14.6733 - mape: 14.6733 - val_loss: 35.2458 - val_mape: 35.2458\n",
      "Epoch 27/200\n",
      "307/307 [==============================] - 1s 4ms/step - loss: 13.9950 - mape: 13.9950 - val_loss: 33.5998 - val_mape: 33.5998\n",
      "Epoch 28/200\n",
      "307/307 [==============================] - 1s 4ms/step - loss: 13.2727 - mape: 13.2727 - val_loss: 31.6143 - val_mape: 31.6143\n",
      "Epoch 29/200\n",
      "307/307 [==============================] - 1s 4ms/step - loss: 12.5073 - mape: 12.5073 - val_loss: 29.7000 - val_mape: 29.7000\n",
      "Epoch 30/200\n",
      "307/307 [==============================] - 1s 4ms/step - loss: 11.6932 - mape: 11.6932 - val_loss: 27.6892 - val_mape: 27.6892\n",
      "Epoch 31/200\n",
      "307/307 [==============================] - 1s 4ms/step - loss: 10.8014 - mape: 10.8014 - val_loss: 25.2060 - val_mape: 25.2060\n",
      "Epoch 32/200\n",
      "307/307 [==============================] - 1s 4ms/step - loss: 9.8342 - mape: 9.8342 - val_loss: 22.9259 - val_mape: 22.9259\n",
      "Epoch 33/200\n",
      "307/307 [==============================] - 1s 4ms/step - loss: 8.8365 - mape: 8.8365 - val_loss: 20.1533 - val_mape: 20.1533\n",
      "Epoch 34/200\n",
      "307/307 [==============================] - 1s 4ms/step - loss: 7.8151 - mape: 7.8151 - val_loss: 17.7525 - val_mape: 17.7525\n",
      "Epoch 35/200\n",
      "307/307 [==============================] - 1s 3ms/step - loss: 6.7690 - mape: 6.7690 - val_loss: 15.0591 - val_mape: 15.0591\n",
      "Epoch 36/200\n",
      "307/307 [==============================] - 1s 4ms/step - loss: 5.7013 - mape: 5.7013 - val_loss: 12.4151 - val_mape: 12.4151\n",
      "Epoch 37/200\n",
      "307/307 [==============================] - 1s 4ms/step - loss: 4.6238 - mape: 4.6238 - val_loss: 9.6104 - val_mape: 9.6104\n",
      "Epoch 38/200\n",
      "307/307 [==============================] - 1s 3ms/step - loss: 3.5523 - mape: 3.5523 - val_loss: 6.7281 - val_mape: 6.7281\n",
      "Epoch 39/200\n",
      "307/307 [==============================] - 1s 3ms/step - loss: 2.5253 - mape: 2.5253 - val_loss: 4.0297 - val_mape: 4.0297\n",
      "Epoch 40/200\n",
      "307/307 [==============================] - 1s 3ms/step - loss: 1.6476 - mape: 1.6476 - val_loss: 1.6515 - val_mape: 1.6515\n",
      "Epoch 41/200\n",
      "307/307 [==============================] - 1s 3ms/step - loss: 1.1928 - mape: 1.1928 - val_loss: 0.9226 - val_mape: 0.9226\n",
      "Epoch 42/200\n",
      "307/307 [==============================] - 1s 3ms/step - loss: 1.1184 - mape: 1.1184 - val_loss: 0.8508 - val_mape: 0.8508\n",
      "Epoch 43/200\n",
      "307/307 [==============================] - 1s 4ms/step - loss: 1.1111 - mape: 1.1111 - val_loss: 0.8325 - val_mape: 0.8325\n",
      "Epoch 44/200\n",
      "307/307 [==============================] - 1s 4ms/step - loss: 1.1095 - mape: 1.1095 - val_loss: 0.8345 - val_mape: 0.8345\n",
      "Epoch 45/200\n",
      "307/307 [==============================] - 1s 4ms/step - loss: 1.1081 - mape: 1.1081 - val_loss: 0.8233 - val_mape: 0.8233\n",
      "Epoch 46/200\n",
      "307/307 [==============================] - 1s 4ms/step - loss: 1.1069 - mape: 1.1069 - val_loss: 0.8273 - val_mape: 0.8273\n",
      "Epoch 47/200\n",
      "307/307 [==============================] - 1s 4ms/step - loss: 1.1059 - mape: 1.1059 - val_loss: 0.8187 - val_mape: 0.8187\n",
      "Epoch 48/200\n",
      "307/307 [==============================] - 1s 4ms/step - loss: 1.1060 - mape: 1.1060 - val_loss: 0.8252 - val_mape: 0.8252\n",
      "Epoch 49/200\n",
      "307/307 [==============================] - 1s 3ms/step - loss: 1.1045 - mape: 1.1045 - val_loss: 0.8149 - val_mape: 0.8149\n",
      "Epoch 50/200\n",
      "307/307 [==============================] - 1s 3ms/step - loss: 1.1044 - mape: 1.1044 - val_loss: 0.8134 - val_mape: 0.8134\n",
      "Epoch 51/200\n",
      "307/307 [==============================] - 1s 4ms/step - loss: 1.1040 - mape: 1.1040 - val_loss: 0.8160 - val_mape: 0.8160\n",
      "Epoch 52/200\n",
      "307/307 [==============================] - 1s 3ms/step - loss: 1.1029 - mape: 1.1029 - val_loss: 0.8110 - val_mape: 0.8110\n",
      "Epoch 53/200\n",
      "307/307 [==============================] - 1s 4ms/step - loss: 1.1026 - mape: 1.1026 - val_loss: 0.8231 - val_mape: 0.8231\n",
      "Epoch 54/200\n",
      "307/307 [==============================] - 1s 4ms/step - loss: 1.1010 - mape: 1.1010 - val_loss: 0.8206 - val_mape: 0.8206\n",
      "Epoch 55/200\n",
      "307/307 [==============================] - 1s 3ms/step - loss: 1.1007 - mape: 1.1007 - val_loss: 0.8152 - val_mape: 0.8152\n",
      "Epoch 56/200\n",
      "307/307 [==============================] - 1s 4ms/step - loss: 1.1000 - mape: 1.1000 - val_loss: 0.8489 - val_mape: 0.8489\n",
      "Epoch 57/200\n",
      "307/307 [==============================] - 1s 4ms/step - loss: 1.0984 - mape: 1.0984 - val_loss: 0.8440 - val_mape: 0.8440\n",
      "Epoch 58/200\n",
      "307/307 [==============================] - 1s 3ms/step - loss: 1.0973 - mape: 1.0973 - val_loss: 0.8266 - val_mape: 0.8266\n",
      "Epoch 59/200\n",
      "307/307 [==============================] - 1s 4ms/step - loss: 1.0954 - mape: 1.0954 - val_loss: 0.8053 - val_mape: 0.8053\n",
      "Epoch 60/200\n",
      "307/307 [==============================] - 1s 3ms/step - loss: 1.0941 - mape: 1.0941 - val_loss: 0.8059 - val_mape: 0.8059\n",
      "Epoch 61/200\n",
      "307/307 [==============================] - 1s 4ms/step - loss: 1.0929 - mape: 1.0929 - val_loss: 0.7983 - val_mape: 0.7983\n",
      "Epoch 62/200\n",
      "307/307 [==============================] - 1s 4ms/step - loss: 1.0908 - mape: 1.0908 - val_loss: 0.7997 - val_mape: 0.7997\n",
      "Epoch 63/200\n",
      "307/307 [==============================] - 1s 3ms/step - loss: 1.0877 - mape: 1.0877 - val_loss: 0.7844 - val_mape: 0.7844\n",
      "Epoch 64/200\n",
      "307/307 [==============================] - 1s 4ms/step - loss: 1.0853 - mape: 1.0853 - val_loss: 0.8085 - val_mape: 0.8085\n",
      "Epoch 65/200\n",
      "307/307 [==============================] - 1s 4ms/step - loss: 1.0513 - mape: 1.0513 - val_loss: 0.7779 - val_mape: 0.7779\n",
      "Epoch 66/200\n",
      "307/307 [==============================] - 1s 4ms/step - loss: 1.0332 - mape: 1.0332 - val_loss: 0.7748 - val_mape: 0.7748\n",
      "Epoch 67/200\n",
      "307/307 [==============================] - 1s 4ms/step - loss: 1.0317 - mape: 1.0317 - val_loss: 0.7740 - val_mape: 0.7740\n",
      "Epoch 68/200\n",
      "307/307 [==============================] - 1s 4ms/step - loss: 1.0307 - mape: 1.0307 - val_loss: 0.7729 - val_mape: 0.7729\n",
      "Epoch 69/200\n",
      "307/307 [==============================] - 1s 4ms/step - loss: 1.0295 - mape: 1.0295 - val_loss: 0.7724 - val_mape: 0.7724\n",
      "Epoch 70/200\n",
      "307/307 [==============================] - 1s 4ms/step - loss: 1.0285 - mape: 1.0285 - val_loss: 0.7713 - val_mape: 0.7713\n",
      "Epoch 71/200\n",
      "307/307 [==============================] - 1s 5ms/step - loss: 1.0276 - mape: 1.0276 - val_loss: 0.7713 - val_mape: 0.7713\n",
      "Epoch 72/200\n",
      "307/307 [==============================] - 1s 4ms/step - loss: 1.0274 - mape: 1.0274 - val_loss: 0.7819 - val_mape: 0.7819\n",
      "Epoch 73/200\n",
      "307/307 [==============================] - 1s 4ms/step - loss: 1.0267 - mape: 1.0267 - val_loss: 0.7760 - val_mape: 0.7760\n",
      "Epoch 74/200\n",
      "307/307 [==============================] - 1s 4ms/step - loss: 1.0255 - mape: 1.0255 - val_loss: 0.7724 - val_mape: 0.7724\n",
      "Epoch 75/200\n",
      "307/307 [==============================] - 1s 4ms/step - loss: 1.0254 - mape: 1.0254 - val_loss: 0.7731 - val_mape: 0.7731\n",
      "Epoch 76/200\n",
      "307/307 [==============================] - 1s 4ms/step - loss: 1.0245 - mape: 1.0245 - val_loss: 0.7699 - val_mape: 0.7699\n",
      "Epoch 77/200\n",
      "307/307 [==============================] - 1s 4ms/step - loss: 1.0242 - mape: 1.0242 - val_loss: 0.7670 - val_mape: 0.7670\n",
      "Epoch 78/200\n",
      "307/307 [==============================] - 1s 4ms/step - loss: 1.0233 - mape: 1.0233 - val_loss: 0.7722 - val_mape: 0.7722\n",
      "Epoch 79/200\n",
      "307/307 [==============================] - 1s 4ms/step - loss: 1.0229 - mape: 1.0229 - val_loss: 0.7660 - val_mape: 0.7660\n",
      "Epoch 80/200\n",
      "307/307 [==============================] - 1s 4ms/step - loss: 1.0228 - mape: 1.0228 - val_loss: 0.7711 - val_mape: 0.7711\n",
      "Epoch 81/200\n",
      "307/307 [==============================] - 1s 4ms/step - loss: 1.0230 - mape: 1.0230 - val_loss: 0.7652 - val_mape: 0.7652\n",
      "Epoch 82/200\n",
      "307/307 [==============================] - 1s 4ms/step - loss: 1.0209 - mape: 1.0209 - val_loss: 0.7708 - val_mape: 0.7708\n",
      "Epoch 83/200\n",
      "307/307 [==============================] - 1s 4ms/step - loss: 1.0208 - mape: 1.0208 - val_loss: 0.7808 - val_mape: 0.7808\n",
      "Epoch 84/200\n",
      "307/307 [==============================] - 1s 4ms/step - loss: 1.0194 - mape: 1.0194 - val_loss: 0.7692 - val_mape: 0.7692\n",
      "Epoch 85/200\n",
      "307/307 [==============================] - 1s 4ms/step - loss: 1.0190 - mape: 1.0190 - val_loss: 0.7658 - val_mape: 0.7658\n",
      "Epoch 86/200\n",
      "307/307 [==============================] - 1s 4ms/step - loss: 1.0198 - mape: 1.0198 - val_loss: 0.7624 - val_mape: 0.7624\n",
      "Epoch 87/200\n",
      "307/307 [==============================] - 2s 7ms/step - loss: 1.0187 - mape: 1.0187 - val_loss: 0.7651 - val_mape: 0.7651\n",
      "Epoch 88/200\n",
      "307/307 [==============================] - 1s 4ms/step - loss: 1.0183 - mape: 1.0183 - val_loss: 0.7670 - val_mape: 0.7670\n",
      "Epoch 89/200\n",
      "307/307 [==============================] - 1s 3ms/step - loss: 1.0184 - mape: 1.0184 - val_loss: 0.7624 - val_mape: 0.7624\n",
      "Epoch 90/200\n",
      "307/307 [==============================] - 1s 4ms/step - loss: 1.0171 - mape: 1.0171 - val_loss: 0.7613 - val_mape: 0.7613\n",
      "Epoch 91/200\n",
      "307/307 [==============================] - 1s 3ms/step - loss: 1.0174 - mape: 1.0174 - val_loss: 0.7622 - val_mape: 0.7622\n",
      "Epoch 92/200\n",
      "307/307 [==============================] - 1s 3ms/step - loss: 1.0166 - mape: 1.0166 - val_loss: 0.7612 - val_mape: 0.7612\n",
      "Epoch 93/200\n",
      "307/307 [==============================] - 1s 4ms/step - loss: 1.0154 - mape: 1.0154 - val_loss: 0.7796 - val_mape: 0.7796\n",
      "Epoch 94/200\n",
      "307/307 [==============================] - 1s 4ms/step - loss: 1.0157 - mape: 1.0157 - val_loss: 0.7648 - val_mape: 0.7648\n",
      "Epoch 95/200\n",
      "307/307 [==============================] - 1s 4ms/step - loss: 1.0151 - mape: 1.0151 - val_loss: 0.7675 - val_mape: 0.7675\n",
      "Epoch 96/200\n",
      "307/307 [==============================] - 1s 3ms/step - loss: 1.0142 - mape: 1.0142 - val_loss: 0.7601 - val_mape: 0.7601\n",
      "Epoch 97/200\n",
      "307/307 [==============================] - 1s 3ms/step - loss: 1.0138 - mape: 1.0138 - val_loss: 0.7579 - val_mape: 0.7579\n",
      "Epoch 98/200\n",
      "307/307 [==============================] - 1s 3ms/step - loss: 1.0112 - mape: 1.0112 - val_loss: 0.7575 - val_mape: 0.7575\n",
      "Epoch 99/200\n",
      "307/307 [==============================] - 1s 3ms/step - loss: 1.0026 - mape: 1.0026 - val_loss: 0.7562 - val_mape: 0.7562\n",
      "Epoch 100/200\n",
      "307/307 [==============================] - 1s 4ms/step - loss: 0.9958 - mape: 0.9958 - val_loss: 0.7553 - val_mape: 0.7553\n",
      "Epoch 101/200\n",
      "307/307 [==============================] - 1s 3ms/step - loss: 0.9954 - mape: 0.9954 - val_loss: 0.7582 - val_mape: 0.7582\n",
      "Epoch 102/200\n",
      "307/307 [==============================] - 1s 3ms/step - loss: 0.9943 - mape: 0.9943 - val_loss: 0.7535 - val_mape: 0.7535\n",
      "Epoch 103/200\n",
      "307/307 [==============================] - 1s 3ms/step - loss: 0.9931 - mape: 0.9931 - val_loss: 0.7565 - val_mape: 0.7565\n",
      "Epoch 104/200\n",
      "307/307 [==============================] - 1s 4ms/step - loss: 0.9931 - mape: 0.9931 - val_loss: 0.7539 - val_mape: 0.7539\n",
      "Epoch 105/200\n",
      "307/307 [==============================] - 1s 3ms/step - loss: 0.9916 - mape: 0.9916 - val_loss: 0.7564 - val_mape: 0.7564\n",
      "Epoch 106/200\n",
      "307/307 [==============================] - 1s 3ms/step - loss: 0.9902 - mape: 0.9902 - val_loss: 0.7511 - val_mape: 0.7511\n",
      "Epoch 107/200\n",
      "307/307 [==============================] - 1s 3ms/step - loss: 0.9901 - mape: 0.9901 - val_loss: 0.7520 - val_mape: 0.7520\n",
      "Epoch 108/200\n",
      "307/307 [==============================] - 1s 3ms/step - loss: 0.9888 - mape: 0.9888 - val_loss: 0.7499 - val_mape: 0.7499\n",
      "Epoch 109/200\n",
      "307/307 [==============================] - 1s 4ms/step - loss: 0.9899 - mape: 0.9899 - val_loss: 0.7517 - val_mape: 0.7517\n",
      "Epoch 110/200\n",
      "307/307 [==============================] - 1s 4ms/step - loss: 0.9890 - mape: 0.9890 - val_loss: 0.7493 - val_mape: 0.7493\n",
      "Epoch 111/200\n",
      "307/307 [==============================] - 1s 4ms/step - loss: 0.9876 - mape: 0.9876 - val_loss: 0.7485 - val_mape: 0.7485\n",
      "Epoch 112/200\n",
      "307/307 [==============================] - 1s 4ms/step - loss: 0.9868 - mape: 0.9868 - val_loss: 0.7484 - val_mape: 0.7484\n",
      "Epoch 113/200\n",
      "307/307 [==============================] - 1s 3ms/step - loss: 0.9872 - mape: 0.9872 - val_loss: 0.7474 - val_mape: 0.7474\n",
      "Epoch 114/200\n",
      "307/307 [==============================] - 1s 3ms/step - loss: 0.9858 - mape: 0.9858 - val_loss: 0.7493 - val_mape: 0.7493\n",
      "Epoch 115/200\n",
      "307/307 [==============================] - 1s 3ms/step - loss: 0.9857 - mape: 0.9857 - val_loss: 0.7465 - val_mape: 0.7465\n",
      "Epoch 116/200\n",
      "307/307 [==============================] - 1s 3ms/step - loss: 0.9839 - mape: 0.9839 - val_loss: 0.7462 - val_mape: 0.7462\n",
      "Epoch 117/200\n",
      "307/307 [==============================] - 1s 3ms/step - loss: 0.9853 - mape: 0.9853 - val_loss: 0.7502 - val_mape: 0.7502\n",
      "Epoch 118/200\n",
      "307/307 [==============================] - 1s 3ms/step - loss: 0.9848 - mape: 0.9848 - val_loss: 0.7478 - val_mape: 0.7478\n",
      "Epoch 119/200\n",
      "307/307 [==============================] - 1s 3ms/step - loss: 0.9822 - mape: 0.9822 - val_loss: 0.7450 - val_mape: 0.7450\n",
      "Epoch 120/200\n",
      "307/307 [==============================] - 1s 3ms/step - loss: 0.9825 - mape: 0.9825 - val_loss: 0.7459 - val_mape: 0.7459\n",
      "Epoch 121/200\n",
      "307/307 [==============================] - 1s 3ms/step - loss: 0.9827 - mape: 0.9827 - val_loss: 0.7433 - val_mape: 0.7433\n",
      "Epoch 122/200\n",
      "307/307 [==============================] - 1s 4ms/step - loss: 0.9812 - mape: 0.9812 - val_loss: 0.7427 - val_mape: 0.7427\n",
      "Epoch 123/200\n",
      "307/307 [==============================] - 1s 3ms/step - loss: 0.9830 - mape: 0.9830 - val_loss: 0.7439 - val_mape: 0.7439\n",
      "Epoch 124/200\n",
      "307/307 [==============================] - 1s 4ms/step - loss: 0.9799 - mape: 0.9799 - val_loss: 0.7443 - val_mape: 0.7443\n",
      "Epoch 125/200\n",
      "307/307 [==============================] - 1s 4ms/step - loss: 0.9795 - mape: 0.9795 - val_loss: 0.7415 - val_mape: 0.7415\n",
      "Epoch 126/200\n",
      "307/307 [==============================] - 1s 4ms/step - loss: 0.9794 - mape: 0.9794 - val_loss: 0.7454 - val_mape: 0.7454\n",
      "Epoch 127/200\n",
      "307/307 [==============================] - 1s 4ms/step - loss: 0.9784 - mape: 0.9784 - val_loss: 0.7419 - val_mape: 0.7419\n",
      "Epoch 128/200\n",
      "307/307 [==============================] - 1s 4ms/step - loss: 0.9778 - mape: 0.9778 - val_loss: 0.7450 - val_mape: 0.7450\n",
      "Epoch 129/200\n",
      "307/307 [==============================] - 1s 4ms/step - loss: 0.9773 - mape: 0.9773 - val_loss: 0.7395 - val_mape: 0.7395\n",
      "Epoch 130/200\n",
      "307/307 [==============================] - 1s 4ms/step - loss: 0.9763 - mape: 0.9763 - val_loss: 0.7438 - val_mape: 0.7438\n",
      "Epoch 131/200\n",
      "307/307 [==============================] - 1s 4ms/step - loss: 0.9762 - mape: 0.9762 - val_loss: 0.7412 - val_mape: 0.7412\n",
      "Epoch 132/200\n",
      "307/307 [==============================] - 1s 4ms/step - loss: 0.9747 - mape: 0.9747 - val_loss: 0.7429 - val_mape: 0.7429\n",
      "Epoch 133/200\n",
      "307/307 [==============================] - 1s 4ms/step - loss: 0.9744 - mape: 0.9744 - val_loss: 0.7373 - val_mape: 0.7373\n",
      "Epoch 134/200\n",
      "307/307 [==============================] - 1s 3ms/step - loss: 0.9739 - mape: 0.9739 - val_loss: 0.7377 - val_mape: 0.7377\n",
      "Epoch 135/200\n",
      "307/307 [==============================] - 1s 3ms/step - loss: 0.9739 - mape: 0.9739 - val_loss: 0.7365 - val_mape: 0.7365\n",
      "Epoch 136/200\n",
      "307/307 [==============================] - 1s 4ms/step - loss: 0.9728 - mape: 0.9728 - val_loss: 0.7363 - val_mape: 0.7363\n",
      "Epoch 137/200\n",
      "307/307 [==============================] - 1s 3ms/step - loss: 0.9725 - mape: 0.9725 - val_loss: 0.7360 - val_mape: 0.7360\n",
      "Epoch 138/200\n",
      "307/307 [==============================] - 1s 4ms/step - loss: 0.9711 - mape: 0.9711 - val_loss: 0.7351 - val_mape: 0.7351\n",
      "Epoch 139/200\n",
      "307/307 [==============================] - 1s 3ms/step - loss: 0.9717 - mape: 0.9717 - val_loss: 0.7374 - val_mape: 0.7374\n",
      "Epoch 140/200\n",
      "307/307 [==============================] - 1s 3ms/step - loss: 0.9710 - mape: 0.9710 - val_loss: 0.7339 - val_mape: 0.7339\n",
      "Epoch 141/200\n",
      "307/307 [==============================] - 1s 4ms/step - loss: 0.9695 - mape: 0.9695 - val_loss: 0.7340 - val_mape: 0.7340\n",
      "Epoch 142/200\n",
      "307/307 [==============================] - 1s 3ms/step - loss: 0.9700 - mape: 0.9700 - val_loss: 0.7359 - val_mape: 0.7359\n",
      "Epoch 143/200\n",
      "307/307 [==============================] - 1s 4ms/step - loss: 0.9687 - mape: 0.9687 - val_loss: 0.7328 - val_mape: 0.7328\n",
      "Epoch 144/200\n",
      "307/307 [==============================] - 1s 4ms/step - loss: 0.9697 - mape: 0.9697 - val_loss: 0.7325 - val_mape: 0.7325\n",
      "Epoch 145/200\n",
      "307/307 [==============================] - 1s 3ms/step - loss: 0.9683 - mape: 0.9683 - val_loss: 0.7321 - val_mape: 0.7321\n",
      "Epoch 146/200\n",
      "307/307 [==============================] - 1s 3ms/step - loss: 0.9673 - mape: 0.9673 - val_loss: 0.7314 - val_mape: 0.7314\n",
      "Epoch 147/200\n",
      "307/307 [==============================] - 1s 3ms/step - loss: 0.9660 - mape: 0.9660 - val_loss: 0.7309 - val_mape: 0.7309\n",
      "Epoch 148/200\n",
      "307/307 [==============================] - 1s 4ms/step - loss: 0.9654 - mape: 0.9654 - val_loss: 0.7305 - val_mape: 0.7305\n",
      "Epoch 149/200\n",
      "307/307 [==============================] - 1s 4ms/step - loss: 0.9657 - mape: 0.9657 - val_loss: 0.7305 - val_mape: 0.7305\n",
      "Epoch 150/200\n",
      "307/307 [==============================] - 1s 3ms/step - loss: 0.9650 - mape: 0.9650 - val_loss: 0.7308 - val_mape: 0.7308\n",
      "Epoch 151/200\n",
      "307/307 [==============================] - 1s 3ms/step - loss: 0.9649 - mape: 0.9649 - val_loss: 0.7288 - val_mape: 0.7288\n",
      "Epoch 152/200\n",
      "307/307 [==============================] - 1s 3ms/step - loss: 0.9640 - mape: 0.9640 - val_loss: 0.7286 - val_mape: 0.7286\n",
      "Epoch 153/200\n",
      "307/307 [==============================] - 1s 3ms/step - loss: 0.9637 - mape: 0.9637 - val_loss: 0.7291 - val_mape: 0.7291\n",
      "Epoch 154/200\n",
      "307/307 [==============================] - 1s 3ms/step - loss: 0.9639 - mape: 0.9639 - val_loss: 0.7336 - val_mape: 0.7336\n",
      "Epoch 155/200\n",
      "307/307 [==============================] - 1s 3ms/step - loss: 0.9629 - mape: 0.9629 - val_loss: 0.7407 - val_mape: 0.7407\n",
      "Epoch 156/200\n",
      "307/307 [==============================] - 1s 3ms/step - loss: 0.9622 - mape: 0.9622 - val_loss: 0.7282 - val_mape: 0.7282\n",
      "Epoch 157/200\n",
      "307/307 [==============================] - 1s 4ms/step - loss: 0.9622 - mape: 0.9622 - val_loss: 0.7272 - val_mape: 0.7272\n",
      "Epoch 158/200\n",
      "307/307 [==============================] - 1s 3ms/step - loss: 0.9608 - mape: 0.9608 - val_loss: 0.7259 - val_mape: 0.7259\n",
      "Epoch 159/200\n",
      "307/307 [==============================] - 1s 3ms/step - loss: 0.9595 - mape: 0.9595 - val_loss: 0.7285 - val_mape: 0.7285\n",
      "Epoch 160/200\n",
      "307/307 [==============================] - 1s 4ms/step - loss: 0.9592 - mape: 0.9592 - val_loss: 0.7262 - val_mape: 0.7262\n",
      "Epoch 161/200\n",
      "307/307 [==============================] - 1s 3ms/step - loss: 0.9598 - mape: 0.9598 - val_loss: 0.7263 - val_mape: 0.7263\n",
      "Epoch 162/200\n",
      "307/307 [==============================] - 1s 4ms/step - loss: 0.9581 - mape: 0.9581 - val_loss: 0.7244 - val_mape: 0.7244\n",
      "Epoch 163/200\n",
      "307/307 [==============================] - 1s 3ms/step - loss: 0.9580 - mape: 0.9580 - val_loss: 0.7237 - val_mape: 0.7237\n",
      "Epoch 164/200\n",
      "307/307 [==============================] - 1s 4ms/step - loss: 0.9585 - mape: 0.9585 - val_loss: 0.7270 - val_mape: 0.7270\n",
      "Epoch 165/200\n",
      "307/307 [==============================] - 1s 3ms/step - loss: 0.9570 - mape: 0.9570 - val_loss: 0.7355 - val_mape: 0.7355\n",
      "Epoch 166/200\n",
      "307/307 [==============================] - 1s 3ms/step - loss: 0.9563 - mape: 0.9563 - val_loss: 0.7289 - val_mape: 0.7289\n",
      "Epoch 167/200\n",
      "307/307 [==============================] - 1s 3ms/step - loss: 0.9570 - mape: 0.9570 - val_loss: 0.7243 - val_mape: 0.7243\n",
      "Epoch 168/200\n",
      "307/307 [==============================] - 1s 3ms/step - loss: 0.9551 - mape: 0.9551 - val_loss: 0.7212 - val_mape: 0.7212\n",
      "Epoch 169/200\n",
      "307/307 [==============================] - 1s 3ms/step - loss: 0.9550 - mape: 0.9550 - val_loss: 0.7218 - val_mape: 0.7218\n",
      "Epoch 170/200\n",
      "307/307 [==============================] - 1s 3ms/step - loss: 0.9564 - mape: 0.9564 - val_loss: 0.7205 - val_mape: 0.7205\n",
      "Epoch 171/200\n",
      "307/307 [==============================] - 1s 3ms/step - loss: 0.9531 - mape: 0.9531 - val_loss: 0.7200 - val_mape: 0.7200\n",
      "Epoch 172/200\n",
      "307/307 [==============================] - 1s 3ms/step - loss: 0.9541 - mape: 0.9541 - val_loss: 0.7221 - val_mape: 0.7221\n",
      "Epoch 173/200\n",
      "307/307 [==============================] - 1s 3ms/step - loss: 0.9520 - mape: 0.9520 - val_loss: 0.7192 - val_mape: 0.7192\n",
      "Epoch 174/200\n",
      "307/307 [==============================] - 1s 3ms/step - loss: 0.9520 - mape: 0.9520 - val_loss: 0.7188 - val_mape: 0.7188\n",
      "Epoch 175/200\n",
      "307/307 [==============================] - 1s 3ms/step - loss: 0.9521 - mape: 0.9521 - val_loss: 0.7198 - val_mape: 0.7198\n",
      "Epoch 176/200\n",
      "307/307 [==============================] - 1s 3ms/step - loss: 0.9509 - mape: 0.9509 - val_loss: 0.7177 - val_mape: 0.7177\n",
      "Epoch 177/200\n",
      "307/307 [==============================] - 1s 3ms/step - loss: 0.9511 - mape: 0.9511 - val_loss: 0.7172 - val_mape: 0.7172\n",
      "Epoch 178/200\n",
      "307/307 [==============================] - 1s 3ms/step - loss: 0.9506 - mape: 0.9506 - val_loss: 0.7170 - val_mape: 0.7170\n",
      "Epoch 179/200\n",
      "307/307 [==============================] - 1s 3ms/step - loss: 0.9494 - mape: 0.9494 - val_loss: 0.7203 - val_mape: 0.7203\n",
      "Epoch 180/200\n",
      "307/307 [==============================] - 1s 4ms/step - loss: 0.9482 - mape: 0.9482 - val_loss: 0.7173 - val_mape: 0.7173\n",
      "Epoch 181/200\n",
      "307/307 [==============================] - 1s 3ms/step - loss: 0.9480 - mape: 0.9480 - val_loss: 0.7174 - val_mape: 0.7174\n",
      "Epoch 182/200\n",
      "307/307 [==============================] - 1s 3ms/step - loss: 0.9488 - mape: 0.9488 - val_loss: 0.7153 - val_mape: 0.7153\n",
      "Epoch 183/200\n",
      "307/307 [==============================] - 1s 3ms/step - loss: 0.9488 - mape: 0.9488 - val_loss: 0.7156 - val_mape: 0.7156\n",
      "Epoch 184/200\n",
      "307/307 [==============================] - 1s 3ms/step - loss: 0.9476 - mape: 0.9476 - val_loss: 0.7147 - val_mape: 0.7147\n",
      "Epoch 185/200\n",
      "307/307 [==============================] - 2s 5ms/step - loss: 0.9473 - mape: 0.9473 - val_loss: 0.7146 - val_mape: 0.7146\n",
      "Epoch 186/200\n",
      "307/307 [==============================] - 1s 5ms/step - loss: 0.9458 - mape: 0.9458 - val_loss: 0.7146 - val_mape: 0.7146\n",
      "Epoch 187/200\n",
      "307/307 [==============================] - 1s 4ms/step - loss: 0.9450 - mape: 0.9450 - val_loss: 0.7133 - val_mape: 0.7133\n",
      "Epoch 188/200\n",
      "307/307 [==============================] - 1s 4ms/step - loss: 0.9451 - mape: 0.9451 - val_loss: 0.7129 - val_mape: 0.7129\n",
      "Epoch 189/200\n",
      "307/307 [==============================] - 1s 4ms/step - loss: 0.9450 - mape: 0.9450 - val_loss: 0.7124 - val_mape: 0.7124\n",
      "Epoch 190/200\n",
      "307/307 [==============================] - 1s 3ms/step - loss: 0.9440 - mape: 0.9440 - val_loss: 0.7200 - val_mape: 0.7200\n",
      "Epoch 191/200\n",
      "307/307 [==============================] - 1s 4ms/step - loss: 0.9431 - mape: 0.9431 - val_loss: 0.7146 - val_mape: 0.7146\n",
      "Epoch 192/200\n",
      "307/307 [==============================] - 1s 4ms/step - loss: 0.9431 - mape: 0.9431 - val_loss: 0.7117 - val_mape: 0.7117\n",
      "Epoch 193/200\n",
      "307/307 [==============================] - 1s 3ms/step - loss: 0.9431 - mape: 0.9431 - val_loss: 0.7120 - val_mape: 0.7120\n",
      "Epoch 194/200\n",
      "307/307 [==============================] - 1s 4ms/step - loss: 0.9426 - mape: 0.9426 - val_loss: 0.7104 - val_mape: 0.7104\n",
      "Epoch 195/200\n",
      "307/307 [==============================] - 1s 4ms/step - loss: 0.9412 - mape: 0.9412 - val_loss: 0.7102 - val_mape: 0.7102\n",
      "Epoch 196/200\n",
      "307/307 [==============================] - 1s 3ms/step - loss: 0.9414 - mape: 0.9414 - val_loss: 0.7106 - val_mape: 0.7106\n",
      "Epoch 197/200\n",
      "307/307 [==============================] - 1s 3ms/step - loss: 0.9405 - mape: 0.9405 - val_loss: 0.7087 - val_mape: 0.7087\n",
      "Epoch 198/200\n",
      "307/307 [==============================] - 1s 3ms/step - loss: 0.9398 - mape: 0.9398 - val_loss: 0.7090 - val_mape: 0.7090\n",
      "Epoch 199/200\n",
      "307/307 [==============================] - 1s 4ms/step - loss: 0.9399 - mape: 0.9399 - val_loss: 0.7105 - val_mape: 0.7105\n",
      "Epoch 200/200\n",
      "307/307 [==============================] - 1s 4ms/step - loss: 0.9394 - mape: 0.9394 - val_loss: 0.7128 - val_mape: 0.7128\n"
     ]
    }
   ],
   "source": [
    "model = Sequential()\n",
    "model.add(SimpleRNN(32,activation='relu',input_dim = 4,recurrent_dropout=0.2))\n",
    "model.add(Dense(8,activation='relu'))\n",
    "model.add(Dense(1,activation='linear'))\n",
    "ad=optimizers.Adam(learning_rate = 0.000011262424129007364)\n",
    "model.compile(optimizer = ad, loss = 'mape', metrics = ['mape'])\n",
    "model_history=model.fit(trainX, trainY,validation_data=(testX,testY), batch_size = 32, epochs = 200)"
   ]
  },
  {
   "cell_type": "code",
   "execution_count": 48,
   "id": "77c05906",
   "metadata": {
    "id": "77c05906"
   },
   "outputs": [],
   "source": [
    "def model_loss(history):\n",
    "    plt.figure(figsize=(8,4))\n",
    "    plt.plot(history.history['loss'], label='Train Loss')\n",
    "    plt.plot(history.history['val_loss'], label='Test Loss')\n",
    "    plt.title('model loss')\n",
    "    plt.ylabel('loss')\n",
    "    plt.xlabel('epochs')\n",
    "    plt.legend(loc='upper right')\n",
    "    plt.show();"
   ]
  },
  {
   "cell_type": "code",
   "execution_count": 49,
   "id": "6vZ-AXOUurmJ",
   "metadata": {
    "id": "6vZ-AXOUurmJ"
   },
   "outputs": [],
   "source": [
    "train_score = model.evaluate(trainX, trainY,verbose=0)\n",
    "test_score = model.evaluate(testX, testY,verbose=0)"
   ]
  },
  {
   "cell_type": "code",
   "execution_count": 50,
   "id": "45a22c27",
   "metadata": {
    "colab": {
     "base_uri": "https://localhost:8080/",
     "height": 329
    },
    "id": "45a22c27",
    "outputId": "e0b405d1-d586-406a-cfa0-2c829c45da6c"
   },
   "outputs": [
    {
     "name": "stdout",
     "output_type": "stream",
     "text": [
      "Train MAPE : 0.95 \n",
      "Test MAPE : 0.71 \n"
     ]
    },
    {
     "data": {
      "image/png": "[encoded data removed]",
      "text/plain": [
       "<Figure size 576x288 with 1 Axes>"
      ]
     },
     "metadata": {
      "needs_background": "light"
     },
     "output_type": "display_data"
    }
   ],
   "source": [
    "train_predict = model.predict(trainX)\n",
    "test_predict = model.predict(testX)\n",
    "\n",
    "# invert predictions\n",
    "train_predict = scaler.inverse_transform(train_predict)\n",
    "trainY = scaler.inverse_transform([trainY])\n",
    "test_predict = scaler.inverse_transform(test_predict)\n",
    "testY = scaler.inverse_transform([testY])\n",
    "print('Train MAPE : %.2f ' % (train_score[1]))\n",
    "print('Test MAPE : %.2f ' % (test_score[1]))\n",
    "model_loss(model_history)"
   ]
  },
  {
   "cell_type": "code",
   "execution_count": 41,
   "id": "dc942f74",
   "metadata": {
    "id": "dc942f74"
   },
   "outputs": [],
   "source": [
    "import seaborn as sns"
   ]
  },
  {
   "cell_type": "code",
   "execution_count": 51,
   "id": "dee9bab8",
   "metadata": {
    "id": "dee9bab8"
   },
   "outputs": [],
   "source": [
    "def prediction_plot(testY, test_predict,look_back):\n",
    "    len_prediction=[x for x in range(9797,10893)]\n",
    "    plt.plot(trainY.reshape(-1,))\n",
    "    plt.plot(len_prediction, testY.reshape(-1,), marker='.', label='actual')\n",
    "    plt.plot(len_prediction, test_predict, 'g', label=\"prediction\")\n",
    "    plt.tight_layout()\n",
    "    sns.despine(top=True)\n",
    "    plt.subplots_adjust(left=0.07)\n",
    "    plt.ylabel('Units', size=15)\n",
    "    plt.xlabel('Time step', size=15)\n",
    "    plt.legend(fontsize=15)\n",
    "    plt.show()"
   ]
  },
  {
   "cell_type": "code",
   "execution_count": 52,
   "id": "363040b5",
   "metadata": {
    "colab": {
     "base_uri": "https://localhost:8080/",
     "height": 604
    },
    "id": "363040b5",
    "outputId": "734e6b05-aa6f-435e-e956-d6f2d0337f66"
   },
   "outputs": [
    {
     "data": {
      "image/png": "[encoded data removed]",
      "text/plain": [
       "<Figure size 1080x576 with 1 Axes>"
      ]
     },
     "metadata": {
      "needs_background": "light"
     },
     "output_type": "display_data"
    }
   ],
   "source": [
    "test_predict = model.predict(testX)\n",
    "test_predict = scaler.inverse_transform(test_predict)\n",
    "prediction_plot(testY, test_predict,look_back)"
   ]
  },
  {
   "cell_type": "code",
   "execution_count": null,
   "id": "f8a7708c",
   "metadata": {
    "id": "f8a7708c"
   },
   "outputs": [],
   "source": []
  }
 ],
 "metadata": {
  "colab": {
   "collapsed_sections": [],
   "name": "gold_price_HPT_RNN_version_2.ipynb",
   "provenance": []
  },
  "kernelspec": {
   "display_name": "Python 3",
   "language": "python",
   "name": "python3"
  },
  "language_info": {
   "codemirror_mode": {
    "name": "ipython",
    "version": 3
   },
   "file_extension": ".py",
   "mimetype": "text/x-python",
   "name": "python",
   "nbconvert_exporter": "python",
   "pygments_lexer": "ipython3",
   "version": "3.8.8"
  }
 },
 "nbformat": 4,
 "nbformat_minor": 5
}
