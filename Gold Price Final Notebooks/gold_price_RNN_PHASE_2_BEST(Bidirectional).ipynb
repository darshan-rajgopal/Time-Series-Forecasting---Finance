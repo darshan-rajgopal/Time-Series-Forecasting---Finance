{
 "cells": [
  {
   "cell_type": "code",
   "execution_count": 1,
   "id": "c2ef9b47",
   "metadata": {
    "id": "c2ef9b47"
   },
   "outputs": [],
   "source": [
    "import numpy as np\n",
    "import pandas as pd\n",
    "from tensorflow.keras.models import Sequential\n",
    "from tensorflow.keras.layers import LSTM\n",
    "from tensorflow.keras.layers import Dense\n",
    "from tensorflow.keras.layers import Flatten\n",
    "import matplotlib.pyplot as plt\n",
    "import warnings\n",
    "warnings.filterwarnings('ignore')\n",
    "%matplotlib inline\n",
    "from sklearn.metrics import mean_absolute_error as mae\n",
    "from pandas.tseries.offsets import BDay"
   ]
  },
  {
   "cell_type": "code",
   "execution_count": 2,
   "id": "iGQk9lcRmucZ",
   "metadata": {
    "colab": {
     "base_uri": "https://localhost:8080/"
    },
    "id": "iGQk9lcRmucZ",
    "outputId": "cfbb34eb-e508-4f3a-94b6-6085c68b1865"
   },
   "outputs": [
    {
     "name": "stdout",
     "output_type": "stream",
     "text": [
      "Mounted at /content/drive\n"
     ]
    }
   ],
   "source": [
    "from google.colab import drive\n",
    "drive.mount('/content/drive')"
   ]
  },
  {
   "cell_type": "code",
   "execution_count": null,
   "id": "BxDZtfokj6Da",
   "metadata": {
    "colab": {
     "base_uri": "https://localhost:8080/",
     "height": 35
    },
    "id": "BxDZtfokj6Da",
    "outputId": "b20dcdbd-c02a-48ad-a576-4ba9370acae1"
   },
   "outputs": [
    {
     "data": {
      "application/vnd.google.colaboratory.intrinsic+json": {
       "type": "string"
      },
      "text/plain": [
       "'/device:GPU:0'"
      ]
     },
     "execution_count": 5,
     "metadata": {},
     "output_type": "execute_result"
    }
   ],
   "source": [
    "import tensorflow as tf\n",
    "tf.test.gpu_device_name()"
   ]
  },
  {
   "cell_type": "code",
   "execution_count": null,
   "id": "UDt4KrAxj6JS",
   "metadata": {
    "colab": {
     "base_uri": "https://localhost:8080/"
    },
    "id": "UDt4KrAxj6JS",
    "outputId": "9d528187-3aea-4259-a635-0d1eddbc47d0"
   },
   "outputs": [
    {
     "data": {
      "text/plain": [
       "[name: \"/device:CPU:0\"\n",
       " device_type: \"CPU\"\n",
       " memory_limit: 268435456\n",
       " locality {\n",
       " }\n",
       " incarnation: 14494480343520806349\n",
       " xla_global_id: -1, name: \"/device:GPU:0\"\n",
       " device_type: \"GPU\"\n",
       " memory_limit: 11320098816\n",
       " locality {\n",
       "   bus_id: 1\n",
       "   links {\n",
       "   }\n",
       " }\n",
       " incarnation: 1229225032833911937\n",
       " physical_device_desc: \"device: 0, name: Tesla K80, pci bus id: 0000:00:04.0, compute capability: 3.7\"\n",
       " xla_global_id: 416903419]"
      ]
     },
     "execution_count": 6,
     "metadata": {},
     "output_type": "execute_result"
    }
   ],
   "source": [
    "from tensorflow.python.client import device_lib\n",
    "device_lib.list_local_devices()"
   ]
  },
  {
   "cell_type": "code",
   "execution_count": 3,
   "id": "30d066a0",
   "metadata": {
    "colab": {
     "base_uri": "https://localhost:8080/",
     "height": 508
    },
    "id": "30d066a0",
    "outputId": "af80bfc6-b816-4873-f00e-99ffd7e3c257"
   },
   "outputs": [
    {
     "data": {
      "text/html": [
       "\n",
       "  <div id=\"df-7edad00b-93e0-4849-ada6-b74e53fcbcf1\">\n",
       "    <div class=\"colab-df-container\">\n",
       "      <div>\n",
       "<style scoped>\n",
       "    .dataframe tbody tr th:only-of-type {\n",
       "        vertical-align: middle;\n",
       "    }\n",
       "\n",
       "    .dataframe tbody tr th {\n",
       "        vertical-align: top;\n",
       "    }\n",
       "\n",
       "    .dataframe thead th {\n",
       "        text-align: right;\n",
       "    }\n",
       "</style>\n",
       "<table border=\"1\" class=\"dataframe\">\n",
       "  <thead>\n",
       "    <tr style=\"text-align: right;\">\n",
       "      <th></th>\n",
       "      <th>Name</th>\n",
       "      <th>US dollar</th>\n",
       "      <th>Euro</th>\n",
       "      <th>Japanese yen</th>\n",
       "      <th>Pound sterling</th>\n",
       "      <th>Canadian dollar</th>\n",
       "      <th>Swiss franc</th>\n",
       "      <th>Indian rupee</th>\n",
       "      <th>Chinese renmimbi</th>\n",
       "      <th>US dollar.1</th>\n",
       "      <th>...</th>\n",
       "      <th>Vietnamese dong</th>\n",
       "      <th>Egyptian pound</th>\n",
       "      <th>Korean won</th>\n",
       "      <th>Euro.1</th>\n",
       "      <th>Russian ruble</th>\n",
       "      <th>US dollar.2</th>\n",
       "      <th>South African rand</th>\n",
       "      <th>Chinese renmimbi.1</th>\n",
       "      <th>Canadian dollar.1</th>\n",
       "      <th>Australian dollar</th>\n",
       "    </tr>\n",
       "  </thead>\n",
       "  <tbody>\n",
       "    <tr>\n",
       "      <th>0</th>\n",
       "      <td>29-12-1978</td>\n",
       "      <td>226.0</td>\n",
       "      <td>137.1</td>\n",
       "      <td>NaN</td>\n",
       "      <td>110.7</td>\n",
       "      <td>NaN</td>\n",
       "      <td>NaN</td>\n",
       "      <td>NaN</td>\n",
       "      <td>NaN</td>\n",
       "      <td>226.0</td>\n",
       "      <td>...</td>\n",
       "      <td>NaN</td>\n",
       "      <td>NaN</td>\n",
       "      <td>NaN</td>\n",
       "      <td>137.1</td>\n",
       "      <td>NaN</td>\n",
       "      <td>226.0</td>\n",
       "      <td>NaN</td>\n",
       "      <td>NaN</td>\n",
       "      <td>NaN</td>\n",
       "      <td>NaN</td>\n",
       "    </tr>\n",
       "    <tr>\n",
       "      <th>1</th>\n",
       "      <td>01-01-1979</td>\n",
       "      <td>226.0</td>\n",
       "      <td>137.1</td>\n",
       "      <td>NaN</td>\n",
       "      <td>110.7</td>\n",
       "      <td>NaN</td>\n",
       "      <td>NaN</td>\n",
       "      <td>NaN</td>\n",
       "      <td>NaN</td>\n",
       "      <td>226.0</td>\n",
       "      <td>...</td>\n",
       "      <td>NaN</td>\n",
       "      <td>NaN</td>\n",
       "      <td>NaN</td>\n",
       "      <td>137.1</td>\n",
       "      <td>NaN</td>\n",
       "      <td>226.0</td>\n",
       "      <td>NaN</td>\n",
       "      <td>NaN</td>\n",
       "      <td>NaN</td>\n",
       "      <td>NaN</td>\n",
       "    </tr>\n",
       "    <tr>\n",
       "      <th>2</th>\n",
       "      <td>02-01-1979</td>\n",
       "      <td>226.8</td>\n",
       "      <td>137.3</td>\n",
       "      <td>43164.9</td>\n",
       "      <td>111.5</td>\n",
       "      <td>263.7</td>\n",
       "      <td>359.6</td>\n",
       "      <td>1792.9</td>\n",
       "      <td>NaN</td>\n",
       "      <td>226.8</td>\n",
       "      <td>...</td>\n",
       "      <td>NaN</td>\n",
       "      <td>NaN</td>\n",
       "      <td>107470.0</td>\n",
       "      <td>137.3</td>\n",
       "      <td>NaN</td>\n",
       "      <td>226.8</td>\n",
       "      <td>194.6</td>\n",
       "      <td>NaN</td>\n",
       "      <td>263.7</td>\n",
       "      <td>193.6</td>\n",
       "    </tr>\n",
       "    <tr>\n",
       "      <th>3</th>\n",
       "      <td>03-01-1979</td>\n",
       "      <td>218.6</td>\n",
       "      <td>134.0</td>\n",
       "      <td>43717.9</td>\n",
       "      <td>108.0</td>\n",
       "      <td>264.4</td>\n",
       "      <td>365.9</td>\n",
       "      <td>1802.2</td>\n",
       "      <td>NaN</td>\n",
       "      <td>218.6</td>\n",
       "      <td>...</td>\n",
       "      <td>NaN</td>\n",
       "      <td>NaN</td>\n",
       "      <td>108027.4</td>\n",
       "      <td>134.0</td>\n",
       "      <td>NaN</td>\n",
       "      <td>218.6</td>\n",
       "      <td>192.2</td>\n",
       "      <td>NaN</td>\n",
       "      <td>264.4</td>\n",
       "      <td>193.0</td>\n",
       "    </tr>\n",
       "    <tr>\n",
       "      <th>4</th>\n",
       "      <td>04-01-1979</td>\n",
       "      <td>223.2</td>\n",
       "      <td>136.8</td>\n",
       "      <td>43674.9</td>\n",
       "      <td>110.7</td>\n",
       "      <td>264.1</td>\n",
       "      <td>366.4</td>\n",
       "      <td>1811.7</td>\n",
       "      <td>NaN</td>\n",
       "      <td>223.2</td>\n",
       "      <td>...</td>\n",
       "      <td>NaN</td>\n",
       "      <td>NaN</td>\n",
       "      <td>108602.5</td>\n",
       "      <td>136.8</td>\n",
       "      <td>NaN</td>\n",
       "      <td>223.2</td>\n",
       "      <td>193.0</td>\n",
       "      <td>NaN</td>\n",
       "      <td>264.1</td>\n",
       "      <td>194.6</td>\n",
       "    </tr>\n",
       "  </tbody>\n",
       "</table>\n",
       "<p>5 rows × 25 columns</p>\n",
       "</div>\n",
       "      <button class=\"colab-df-convert\" onclick=\"convertToInteractive('df-7edad00b-93e0-4849-ada6-b74e53fcbcf1')\"\n",
       "              title=\"Convert this dataframe to an interactive table.\"\n",
       "              style=\"display:none;\">\n",
       "        \n",
       "  <svg xmlns=\"http://www.w3.org/2000/svg\" height=\"24px\"viewBox=\"0 0 24 24\"\n",
       "       width=\"24px\">\n",
       "    <path d=\"M0 0h24v24H0V0z\" fill=\"none\"/>\n",
       "    <path d=\"M18.56 5.44l.94 2.06.94-2.06 2.06-.94-2.06-.94-.94-2.06-.94 2.06-2.06.94zm-11 1L8.5 8.5l.94-2.06 2.06-.94-2.06-.94L8.5 2.5l-.94 2.06-2.06.94zm10 10l.94 2.06.94-2.06 2.06-.94-2.06-.94-.94-2.06-.94 2.06-2.06.94z\"/><path d=\"M17.41 7.96l-1.37-1.37c-.4-.4-.92-.59-1.43-.59-.52 0-1.04.2-1.43.59L10.3 9.45l-7.72 7.72c-.78.78-.78 2.05 0 2.83L4 21.41c.39.39.9.59 1.41.59.51 0 1.02-.2 1.41-.59l7.78-7.78 2.81-2.81c.8-.78.8-2.07 0-2.86zM5.41 20L4 18.59l7.72-7.72 1.47 1.35L5.41 20z\"/>\n",
       "  </svg>\n",
       "      </button>\n",
       "      \n",
       "  <style>\n",
       "    .colab-df-container {\n",
       "      display:flex;\n",
       "      flex-wrap:wrap;\n",
       "      gap: 12px;\n",
       "    }\n",
       "\n",
       "    .colab-df-convert {\n",
       "      background-color: #E8F0FE;\n",
       "      border: none;\n",
       "      border-radius: 50%;\n",
       "      cursor: pointer;\n",
       "      display: none;\n",
       "      fill: #1967D2;\n",
       "      height: 32px;\n",
       "      padding: 0 0 0 0;\n",
       "      width: 32px;\n",
       "    }\n",
       "\n",
       "    .colab-df-convert:hover {\n",
       "      background-color: #E2EBFA;\n",
       "      box-shadow: 0px 1px 2px rgba(60, 64, 67, 0.3), 0px 1px 3px 1px rgba(60, 64, 67, 0.15);\n",
       "      fill: #174EA6;\n",
       "    }\n",
       "\n",
       "    [theme=dark] .colab-df-convert {\n",
       "      background-color: #3B4455;\n",
       "      fill: #D2E3FC;\n",
       "    }\n",
       "\n",
       "    [theme=dark] .colab-df-convert:hover {\n",
       "      background-color: #434B5C;\n",
       "      box-shadow: 0px 1px 3px 1px rgba(0, 0, 0, 0.15);\n",
       "      filter: drop-shadow(0px 1px 2px rgba(0, 0, 0, 0.3));\n",
       "      fill: #FFFFFF;\n",
       "    }\n",
       "  </style>\n",
       "\n",
       "      <script>\n",
       "        const buttonEl =\n",
       "          document.querySelector('#df-7edad00b-93e0-4849-ada6-b74e53fcbcf1 button.colab-df-convert');\n",
       "        buttonEl.style.display =\n",
       "          google.colab.kernel.accessAllowed ? 'block' : 'none';\n",
       "\n",
       "        async function convertToInteractive(key) {\n",
       "          const element = document.querySelector('#df-7edad00b-93e0-4849-ada6-b74e53fcbcf1');\n",
       "          const dataTable =\n",
       "            await google.colab.kernel.invokeFunction('convertToInteractive',\n",
       "                                                     [key], {});\n",
       "          if (!dataTable) return;\n",
       "\n",
       "          const docLinkHtml = 'Like what you see? Visit the ' +\n",
       "            '<a target=\"_blank\" href=https://colab.research.google.com/notebooks/data_table.ipynb>data table notebook</a>'\n",
       "            + ' to learn more about interactive tables.';\n",
       "          element.innerHTML = '';\n",
       "          dataTable['output_type'] = 'display_data';\n",
       "          await google.colab.output.renderOutput(dataTable, element);\n",
       "          const docLink = document.createElement('div');\n",
       "          docLink.innerHTML = docLinkHtml;\n",
       "          element.appendChild(docLink);\n",
       "        }\n",
       "      </script>\n",
       "    </div>\n",
       "  </div>\n",
       "  "
      ],
      "text/plain": [
       "         Name  US dollar   Euro  Japanese yen  Pound sterling  \\\n",
       "0  29-12-1978      226.0  137.1           NaN           110.7   \n",
       "1  01-01-1979      226.0  137.1           NaN           110.7   \n",
       "2  02-01-1979      226.8  137.3       43164.9           111.5   \n",
       "3  03-01-1979      218.6  134.0       43717.9           108.0   \n",
       "4  04-01-1979      223.2  136.8       43674.9           110.7   \n",
       "\n",
       "   Canadian dollar  Swiss franc  Indian rupee  Chinese renmimbi  US dollar.1  \\\n",
       "0              NaN          NaN           NaN               NaN        226.0   \n",
       "1              NaN          NaN           NaN               NaN        226.0   \n",
       "2            263.7        359.6        1792.9               NaN        226.8   \n",
       "3            264.4        365.9        1802.2               NaN        218.6   \n",
       "4            264.1        366.4        1811.7               NaN        223.2   \n",
       "\n",
       "   ...  Vietnamese dong  Egyptian pound  Korean won  Euro.1  Russian ruble  \\\n",
       "0  ...              NaN             NaN         NaN   137.1            NaN   \n",
       "1  ...              NaN             NaN         NaN   137.1            NaN   \n",
       "2  ...              NaN             NaN    107470.0   137.3            NaN   \n",
       "3  ...              NaN             NaN    108027.4   134.0            NaN   \n",
       "4  ...              NaN             NaN    108602.5   136.8            NaN   \n",
       "\n",
       "   US dollar.2  South African rand  Chinese renmimbi.1  Canadian dollar.1  \\\n",
       "0        226.0                 NaN                 NaN                NaN   \n",
       "1        226.0                 NaN                 NaN                NaN   \n",
       "2        226.8               194.6                 NaN              263.7   \n",
       "3        218.6               192.2                 NaN              264.4   \n",
       "4        223.2               193.0                 NaN              264.1   \n",
       "\n",
       "   Australian dollar  \n",
       "0                NaN  \n",
       "1                NaN  \n",
       "2              193.6  \n",
       "3              193.0  \n",
       "4              194.6  \n",
       "\n",
       "[5 rows x 25 columns]"
      ]
     },
     "execution_count": 3,
     "metadata": {},
     "output_type": "execute_result"
    }
   ],
   "source": [
    "df_main = pd.read_csv('/content/drive/MyDrive/Colab Notebooks/Financial/Gold_Price_Dataset.csv')\n",
    "df_main.head()"
   ]
  },
  {
   "cell_type": "code",
   "execution_count": 4,
   "id": "0482272d",
   "metadata": {
    "colab": {
     "base_uri": "https://localhost:8080/"
    },
    "id": "0482272d",
    "outputId": "3f7f367c-996b-4a0b-b9b7-b10e6d499d7c"
   },
   "outputs": [
    {
     "data": {
      "text/plain": [
       "(10901, 25)"
      ]
     },
     "execution_count": 4,
     "metadata": {},
     "output_type": "execute_result"
    }
   ],
   "source": [
    "df_main.shape"
   ]
  },
  {
   "cell_type": "code",
   "execution_count": 5,
   "id": "076f1ad3",
   "metadata": {
    "colab": {
     "base_uri": "https://localhost:8080/"
    },
    "id": "076f1ad3",
    "outputId": "c10f3650-9012-4d5c-b33f-c641f3ce4366"
   },
   "outputs": [
    {
     "name": "stdout",
     "output_type": "stream",
     "text": [
      "<class 'pandas.core.frame.DataFrame'>\n",
      "RangeIndex: 10901 entries, 0 to 10900\n",
      "Data columns (total 25 columns):\n",
      " #   Column              Non-Null Count  Dtype  \n",
      "---  ------              --------------  -----  \n",
      " 0   Name                10901 non-null  object \n",
      " 1   US dollar           10901 non-null  float64\n",
      " 2   Euro                10901 non-null  float64\n",
      " 3   Japanese yen        10899 non-null  float64\n",
      " 4   Pound sterling      10901 non-null  float64\n",
      " 5   Canadian dollar     10899 non-null  float64\n",
      " 6   Swiss franc         10899 non-null  float64\n",
      " 7   Indian rupee        10899 non-null  float64\n",
      " 8   Chinese renmimbi    9330 non-null   float64\n",
      " 9   US dollar.1         10901 non-null  float64\n",
      " 10  Turkish lira        9856 non-null   float64\n",
      " 11  Saudi riyal         10899 non-null  float64\n",
      " 12  Indonesian rupiah   10899 non-null  float64\n",
      " 13  UAE dirham          10899 non-null  float64\n",
      " 14  Thai baht           10899 non-null  float64\n",
      " 15  Vietnamese dong     8050 non-null   float64\n",
      " 16  Egyptian pound      8310 non-null   float64\n",
      " 17  Korean won          10899 non-null  float64\n",
      " 18  Euro.1              10901 non-null  float64\n",
      " 19  Russian ruble       7240 non-null   float64\n",
      " 20  US dollar.2         10901 non-null  float64\n",
      " 21  South African rand  10899 non-null  float64\n",
      " 22  Chinese renmimbi.1  9330 non-null   float64\n",
      " 23  Canadian dollar.1   10899 non-null  float64\n",
      " 24  Australian dollar   10899 non-null  float64\n",
      "dtypes: float64(24), object(1)\n",
      "memory usage: 2.1+ MB\n"
     ]
    }
   ],
   "source": [
    "df_main.info()"
   ]
  },
  {
   "cell_type": "code",
   "execution_count": 6,
   "id": "299Ffir6CYSN",
   "metadata": {
    "id": "299Ffir6CYSN"
   },
   "outputs": [],
   "source": [
    "time = pd.date_range(start='12/29/1978',periods=10901,freq=BDay())\n",
    "df_main['time_stamp'] = pd.DataFrame(time)\n",
    "df_main.drop(['Name'],axis=1,inplace=True)\n",
    "df_main = df_main.set_index('time_stamp')"
   ]
  },
  {
   "cell_type": "code",
   "execution_count": 7,
   "id": "1CZBnYRqChDE",
   "metadata": {
    "id": "1CZBnYRqChDE"
   },
   "outputs": [],
   "source": [
    "df = df_main[['US dollar']]"
   ]
  },
  {
   "cell_type": "code",
   "execution_count": 8,
   "id": "s8v0QApu_eHS",
   "metadata": {
    "colab": {
     "base_uri": "https://localhost:8080/"
    },
    "id": "s8v0QApu_eHS",
    "outputId": "0d92bec5-f07e-455a-9e32-f946139aa944"
   },
   "outputs": [
    {
     "data": {
      "text/plain": [
       "(10901, 1)"
      ]
     },
     "execution_count": 8,
     "metadata": {},
     "output_type": "execute_result"
    }
   ],
   "source": [
    "df.shape"
   ]
  },
  {
   "cell_type": "code",
   "execution_count": 9,
   "id": "-8gUQbCI7Sow",
   "metadata": {
    "colab": {
     "base_uri": "https://localhost:8080/"
    },
    "id": "-8gUQbCI7Sow",
    "outputId": "3abacea4-e3ed-4ed1-a0d9-9d9d91fd84b5"
   },
   "outputs": [
    {
     "data": {
      "text/plain": [
       "US dollar    0\n",
       "dtype: int64"
      ]
     },
     "execution_count": 9,
     "metadata": {},
     "output_type": "execute_result"
    }
   ],
   "source": [
    "df.isnull().sum()"
   ]
  },
  {
   "cell_type": "code",
   "execution_count": 10,
   "id": "CqvBttFi7SsL",
   "metadata": {
    "id": "CqvBttFi7SsL"
   },
   "outputs": [],
   "source": [
    "df.columns=['USD']"
   ]
  },
  {
   "cell_type": "code",
   "execution_count": 11,
   "id": "oYAsh_OytrPi",
   "metadata": {
    "colab": {
     "base_uri": "https://localhost:8080/",
     "height": 238
    },
    "id": "oYAsh_OytrPi",
    "outputId": "374e0ded-90d9-47bd-de6a-68b4f5ab30e0"
   },
   "outputs": [
    {
     "data": {
      "text/html": [
       "\n",
       "  <div id=\"df-9635cc17-343c-4c0a-b5fa-1df8fc6ae972\">\n",
       "    <div class=\"colab-df-container\">\n",
       "      <div>\n",
       "<style scoped>\n",
       "    .dataframe tbody tr th:only-of-type {\n",
       "        vertical-align: middle;\n",
       "    }\n",
       "\n",
       "    .dataframe tbody tr th {\n",
       "        vertical-align: top;\n",
       "    }\n",
       "\n",
       "    .dataframe thead th {\n",
       "        text-align: right;\n",
       "    }\n",
       "</style>\n",
       "<table border=\"1\" class=\"dataframe\">\n",
       "  <thead>\n",
       "    <tr style=\"text-align: right;\">\n",
       "      <th></th>\n",
       "      <th>USD</th>\n",
       "    </tr>\n",
       "    <tr>\n",
       "      <th>time_stamp</th>\n",
       "      <th></th>\n",
       "    </tr>\n",
       "  </thead>\n",
       "  <tbody>\n",
       "    <tr>\n",
       "      <th>1978-12-29</th>\n",
       "      <td>226.0</td>\n",
       "    </tr>\n",
       "    <tr>\n",
       "      <th>1979-01-01</th>\n",
       "      <td>226.0</td>\n",
       "    </tr>\n",
       "    <tr>\n",
       "      <th>1979-01-02</th>\n",
       "      <td>226.8</td>\n",
       "    </tr>\n",
       "    <tr>\n",
       "      <th>1979-01-03</th>\n",
       "      <td>218.6</td>\n",
       "    </tr>\n",
       "    <tr>\n",
       "      <th>1979-01-04</th>\n",
       "      <td>223.2</td>\n",
       "    </tr>\n",
       "  </tbody>\n",
       "</table>\n",
       "</div>\n",
       "      <button class=\"colab-df-convert\" onclick=\"convertToInteractive('df-9635cc17-343c-4c0a-b5fa-1df8fc6ae972')\"\n",
       "              title=\"Convert this dataframe to an interactive table.\"\n",
       "              style=\"display:none;\">\n",
       "        \n",
       "  <svg xmlns=\"http://www.w3.org/2000/svg\" height=\"24px\"viewBox=\"0 0 24 24\"\n",
       "       width=\"24px\">\n",
       "    <path d=\"M0 0h24v24H0V0z\" fill=\"none\"/>\n",
       "    <path d=\"M18.56 5.44l.94 2.06.94-2.06 2.06-.94-2.06-.94-.94-2.06-.94 2.06-2.06.94zm-11 1L8.5 8.5l.94-2.06 2.06-.94-2.06-.94L8.5 2.5l-.94 2.06-2.06.94zm10 10l.94 2.06.94-2.06 2.06-.94-2.06-.94-.94-2.06-.94 2.06-2.06.94z\"/><path d=\"M17.41 7.96l-1.37-1.37c-.4-.4-.92-.59-1.43-.59-.52 0-1.04.2-1.43.59L10.3 9.45l-7.72 7.72c-.78.78-.78 2.05 0 2.83L4 21.41c.39.39.9.59 1.41.59.51 0 1.02-.2 1.41-.59l7.78-7.78 2.81-2.81c.8-.78.8-2.07 0-2.86zM5.41 20L4 18.59l7.72-7.72 1.47 1.35L5.41 20z\"/>\n",
       "  </svg>\n",
       "      </button>\n",
       "      \n",
       "  <style>\n",
       "    .colab-df-container {\n",
       "      display:flex;\n",
       "      flex-wrap:wrap;\n",
       "      gap: 12px;\n",
       "    }\n",
       "\n",
       "    .colab-df-convert {\n",
       "      background-color: #E8F0FE;\n",
       "      border: none;\n",
       "      border-radius: 50%;\n",
       "      cursor: pointer;\n",
       "      display: none;\n",
       "      fill: #1967D2;\n",
       "      height: 32px;\n",
       "      padding: 0 0 0 0;\n",
       "      width: 32px;\n",
       "    }\n",
       "\n",
       "    .colab-df-convert:hover {\n",
       "      background-color: #E2EBFA;\n",
       "      box-shadow: 0px 1px 2px rgba(60, 64, 67, 0.3), 0px 1px 3px 1px rgba(60, 64, 67, 0.15);\n",
       "      fill: #174EA6;\n",
       "    }\n",
       "\n",
       "    [theme=dark] .colab-df-convert {\n",
       "      background-color: #3B4455;\n",
       "      fill: #D2E3FC;\n",
       "    }\n",
       "\n",
       "    [theme=dark] .colab-df-convert:hover {\n",
       "      background-color: #434B5C;\n",
       "      box-shadow: 0px 1px 3px 1px rgba(0, 0, 0, 0.15);\n",
       "      filter: drop-shadow(0px 1px 2px rgba(0, 0, 0, 0.3));\n",
       "      fill: #FFFFFF;\n",
       "    }\n",
       "  </style>\n",
       "\n",
       "      <script>\n",
       "        const buttonEl =\n",
       "          document.querySelector('#df-9635cc17-343c-4c0a-b5fa-1df8fc6ae972 button.colab-df-convert');\n",
       "        buttonEl.style.display =\n",
       "          google.colab.kernel.accessAllowed ? 'block' : 'none';\n",
       "\n",
       "        async function convertToInteractive(key) {\n",
       "          const element = document.querySelector('#df-9635cc17-343c-4c0a-b5fa-1df8fc6ae972');\n",
       "          const dataTable =\n",
       "            await google.colab.kernel.invokeFunction('convertToInteractive',\n",
       "                                                     [key], {});\n",
       "          if (!dataTable) return;\n",
       "\n",
       "          const docLinkHtml = 'Like what you see? Visit the ' +\n",
       "            '<a target=\"_blank\" href=https://colab.research.google.com/notebooks/data_table.ipynb>data table notebook</a>'\n",
       "            + ' to learn more about interactive tables.';\n",
       "          element.innerHTML = '';\n",
       "          dataTable['output_type'] = 'display_data';\n",
       "          await google.colab.output.renderOutput(dataTable, element);\n",
       "          const docLink = document.createElement('div');\n",
       "          docLink.innerHTML = docLinkHtml;\n",
       "          element.appendChild(docLink);\n",
       "        }\n",
       "      </script>\n",
       "    </div>\n",
       "  </div>\n",
       "  "
      ],
      "text/plain": [
       "              USD\n",
       "time_stamp       \n",
       "1978-12-29  226.0\n",
       "1979-01-01  226.0\n",
       "1979-01-02  226.8\n",
       "1979-01-03  218.6\n",
       "1979-01-04  223.2"
      ]
     },
     "execution_count": 11,
     "metadata": {},
     "output_type": "execute_result"
    }
   ],
   "source": [
    "df.head()"
   ]
  },
  {
   "cell_type": "code",
   "execution_count": 12,
   "id": "PVfreeEkE1aG",
   "metadata": {
    "colab": {
     "base_uri": "https://localhost:8080/",
     "height": 238
    },
    "id": "PVfreeEkE1aG",
    "outputId": "ec741f00-c756-4558-e2c8-752cf3b1ec57"
   },
   "outputs": [
    {
     "data": {
      "text/html": [
       "\n",
       "  <div id=\"df-97865322-d9be-4e68-8952-99b4b38b9c45\">\n",
       "    <div class=\"colab-df-container\">\n",
       "      <div>\n",
       "<style scoped>\n",
       "    .dataframe tbody tr th:only-of-type {\n",
       "        vertical-align: middle;\n",
       "    }\n",
       "\n",
       "    .dataframe tbody tr th {\n",
       "        vertical-align: top;\n",
       "    }\n",
       "\n",
       "    .dataframe thead th {\n",
       "        text-align: right;\n",
       "    }\n",
       "</style>\n",
       "<table border=\"1\" class=\"dataframe\">\n",
       "  <thead>\n",
       "    <tr style=\"text-align: right;\">\n",
       "      <th></th>\n",
       "      <th>USD</th>\n",
       "    </tr>\n",
       "    <tr>\n",
       "      <th>time_stamp</th>\n",
       "      <th></th>\n",
       "    </tr>\n",
       "  </thead>\n",
       "  <tbody>\n",
       "    <tr>\n",
       "      <th>2020-10-05</th>\n",
       "      <td>1909.6</td>\n",
       "    </tr>\n",
       "    <tr>\n",
       "      <th>2020-10-06</th>\n",
       "      <td>1913.4</td>\n",
       "    </tr>\n",
       "    <tr>\n",
       "      <th>2020-10-07</th>\n",
       "      <td>1884.5</td>\n",
       "    </tr>\n",
       "    <tr>\n",
       "      <th>2020-10-08</th>\n",
       "      <td>1887.5</td>\n",
       "    </tr>\n",
       "    <tr>\n",
       "      <th>2020-10-09</th>\n",
       "      <td>1923.3</td>\n",
       "    </tr>\n",
       "  </tbody>\n",
       "</table>\n",
       "</div>\n",
       "      <button class=\"colab-df-convert\" onclick=\"convertToInteractive('df-97865322-d9be-4e68-8952-99b4b38b9c45')\"\n",
       "              title=\"Convert this dataframe to an interactive table.\"\n",
       "              style=\"display:none;\">\n",
       "        \n",
       "  <svg xmlns=\"http://www.w3.org/2000/svg\" height=\"24px\"viewBox=\"0 0 24 24\"\n",
       "       width=\"24px\">\n",
       "    <path d=\"M0 0h24v24H0V0z\" fill=\"none\"/>\n",
       "    <path d=\"M18.56 5.44l.94 2.06.94-2.06 2.06-.94-2.06-.94-.94-2.06-.94 2.06-2.06.94zm-11 1L8.5 8.5l.94-2.06 2.06-.94-2.06-.94L8.5 2.5l-.94 2.06-2.06.94zm10 10l.94 2.06.94-2.06 2.06-.94-2.06-.94-.94-2.06-.94 2.06-2.06.94z\"/><path d=\"M17.41 7.96l-1.37-1.37c-.4-.4-.92-.59-1.43-.59-.52 0-1.04.2-1.43.59L10.3 9.45l-7.72 7.72c-.78.78-.78 2.05 0 2.83L4 21.41c.39.39.9.59 1.41.59.51 0 1.02-.2 1.41-.59l7.78-7.78 2.81-2.81c.8-.78.8-2.07 0-2.86zM5.41 20L4 18.59l7.72-7.72 1.47 1.35L5.41 20z\"/>\n",
       "  </svg>\n",
       "      </button>\n",
       "      \n",
       "  <style>\n",
       "    .colab-df-container {\n",
       "      display:flex;\n",
       "      flex-wrap:wrap;\n",
       "      gap: 12px;\n",
       "    }\n",
       "\n",
       "    .colab-df-convert {\n",
       "      background-color: #E8F0FE;\n",
       "      border: none;\n",
       "      border-radius: 50%;\n",
       "      cursor: pointer;\n",
       "      display: none;\n",
       "      fill: #1967D2;\n",
       "      height: 32px;\n",
       "      padding: 0 0 0 0;\n",
       "      width: 32px;\n",
       "    }\n",
       "\n",
       "    .colab-df-convert:hover {\n",
       "      background-color: #E2EBFA;\n",
       "      box-shadow: 0px 1px 2px rgba(60, 64, 67, 0.3), 0px 1px 3px 1px rgba(60, 64, 67, 0.15);\n",
       "      fill: #174EA6;\n",
       "    }\n",
       "\n",
       "    [theme=dark] .colab-df-convert {\n",
       "      background-color: #3B4455;\n",
       "      fill: #D2E3FC;\n",
       "    }\n",
       "\n",
       "    [theme=dark] .colab-df-convert:hover {\n",
       "      background-color: #434B5C;\n",
       "      box-shadow: 0px 1px 3px 1px rgba(0, 0, 0, 0.15);\n",
       "      filter: drop-shadow(0px 1px 2px rgba(0, 0, 0, 0.3));\n",
       "      fill: #FFFFFF;\n",
       "    }\n",
       "  </style>\n",
       "\n",
       "      <script>\n",
       "        const buttonEl =\n",
       "          document.querySelector('#df-97865322-d9be-4e68-8952-99b4b38b9c45 button.colab-df-convert');\n",
       "        buttonEl.style.display =\n",
       "          google.colab.kernel.accessAllowed ? 'block' : 'none';\n",
       "\n",
       "        async function convertToInteractive(key) {\n",
       "          const element = document.querySelector('#df-97865322-d9be-4e68-8952-99b4b38b9c45');\n",
       "          const dataTable =\n",
       "            await google.colab.kernel.invokeFunction('convertToInteractive',\n",
       "                                                     [key], {});\n",
       "          if (!dataTable) return;\n",
       "\n",
       "          const docLinkHtml = 'Like what you see? Visit the ' +\n",
       "            '<a target=\"_blank\" href=https://colab.research.google.com/notebooks/data_table.ipynb>data table notebook</a>'\n",
       "            + ' to learn more about interactive tables.';\n",
       "          element.innerHTML = '';\n",
       "          dataTable['output_type'] = 'display_data';\n",
       "          await google.colab.output.renderOutput(dataTable, element);\n",
       "          const docLink = document.createElement('div');\n",
       "          docLink.innerHTML = docLinkHtml;\n",
       "          element.appendChild(docLink);\n",
       "        }\n",
       "      </script>\n",
       "    </div>\n",
       "  </div>\n",
       "  "
      ],
      "text/plain": [
       "               USD\n",
       "time_stamp        \n",
       "2020-10-05  1909.6\n",
       "2020-10-06  1913.4\n",
       "2020-10-07  1884.5\n",
       "2020-10-08  1887.5\n",
       "2020-10-09  1923.3"
      ]
     },
     "execution_count": 12,
     "metadata": {},
     "output_type": "execute_result"
    }
   ],
   "source": [
    "df.tail()"
   ]
  },
  {
   "cell_type": "code",
   "execution_count": 13,
   "id": "yBDUaFhPzMMb",
   "metadata": {
    "id": "yBDUaFhPzMMb"
   },
   "outputs": [],
   "source": [
    "plt.rcParams['figure.figsize'] = [15,8]"
   ]
  },
  {
   "cell_type": "code",
   "execution_count": 14,
   "id": "cIgSM89EzBTw",
   "metadata": {
    "colab": {
     "base_uri": "https://localhost:8080/",
     "height": 523
    },
    "id": "cIgSM89EzBTw",
    "outputId": "fd458414-417f-466d-d873-cd7b4a4a48ba"
   },
   "outputs": [
    {
     "data": {
      "image/png": "[encoded data removed]",
      "text/plain": [
       "<Figure size 1080x576 with 1 Axes>"
      ]
     },
     "metadata": {
      "needs_background": "light"
     },
     "output_type": "display_data"
    }
   ],
   "source": [
    "plt.plot(df,color='orange')\n",
    "plt.title('Daily Gold Price',fontsize=20)\n",
    "plt.xlabel('Date',fontsize=15)\n",
    "plt.ylabel('Units',fontsize=15)\n",
    "plt.show()"
   ]
  },
  {
   "cell_type": "code",
   "execution_count": 15,
   "id": "bf59d3e0",
   "metadata": {
    "id": "bf59d3e0"
   },
   "outputs": [],
   "source": [
    "def convert2matrix(data_arr, look_back):\n",
    "    X, Y =[], []\n",
    "    for i in range(len(data_arr)-look_back):\n",
    "        d=i+look_back  \n",
    "        X.append(data_arr[i:d,0])\n",
    "        Y.append(data_arr[d,0])\n",
    "    return np.array(X), np.array(Y)"
   ]
  },
  {
   "cell_type": "code",
   "execution_count": 30,
   "id": "5CBL1GHqurmE",
   "metadata": {
    "id": "5CBL1GHqurmE"
   },
   "outputs": [],
   "source": [
    "from sklearn.preprocessing import MinMaxScaler\n",
    "#create numpy.ndarray \n",
    "df['USD'] = df['USD'].astype(np.float32)\n",
    "df_arr = df.values\n",
    "df_arr = np.reshape(df_arr, (-1, 1))\n",
    "scaler = MinMaxScaler(feature_range=(0.1, 1))\n",
    "df_arr = scaler.fit_transform(df_arr)"
   ]
  },
  {
   "cell_type": "code",
   "execution_count": 31,
   "id": "1cea6c5f",
   "metadata": {
    "id": "1cea6c5f"
   },
   "outputs": [],
   "source": [
    "#Split data set into testing dataset and train dataset\n",
    "train_size = 9801\n",
    "train, test =df_arr[0:train_size,:], df_arr[train_size:len(df_arr),:]\n",
    "# setup look_back window \n",
    "look_back = 4\n",
    "#convert dataset into right shape in order to input into the DNN\n",
    "trainX, trainY = convert2matrix(train, look_back)\n",
    "testX, testY = convert2matrix(test, look_back)\n",
    "trainX = np.reshape(trainX, (trainX.shape[0], 1, trainX.shape[1]))\n",
    "testX = np.reshape(testX, (testX.shape[0], 1, testX.shape[1]))"
   ]
  },
  {
   "cell_type": "code",
   "execution_count": 18,
   "id": "c7d46c39",
   "metadata": {
    "colab": {
     "base_uri": "https://localhost:8080/"
    },
    "id": "c7d46c39",
    "outputId": "d5706f92-a177-4755-833e-ad907bee1c33"
   },
   "outputs": [
    {
     "name": "stdout",
     "output_type": "stream",
     "text": [
      "(9797, 1, 4)\n",
      "(9797,)\n",
      "(1096, 1, 4)\n",
      "(1096,)\n"
     ]
    }
   ],
   "source": [
    "print(trainX.shape)\n",
    "print(trainY.shape)\n",
    "print(testX.shape)\n",
    "print(testY.shape)"
   ]
  },
  {
   "cell_type": "code",
   "execution_count": 19,
   "id": "GIc1nRcCuP3G",
   "metadata": {
    "colab": {
     "base_uri": "https://localhost:8080/"
    },
    "id": "GIc1nRcCuP3G",
    "outputId": "3228e870-9132-4201-c671-fe9899be18f2"
   },
   "outputs": [
    {
     "name": "stdout",
     "output_type": "stream",
     "text": [
      "\u001b[?25l\r",
      "\u001b[K     |██▌                             | 10 kB 25.4 MB/s eta 0:00:01\r",
      "\u001b[K     |█████                           | 20 kB 32.1 MB/s eta 0:00:01\r",
      "\u001b[K     |███████▍                        | 30 kB 37.6 MB/s eta 0:00:01\r",
      "\u001b[K     |█████████▉                      | 40 kB 38.5 MB/s eta 0:00:01\r",
      "\u001b[K     |████████████▎                   | 51 kB 35.2 MB/s eta 0:00:01\r",
      "\u001b[K     |██████████████▊                 | 61 kB 37.8 MB/s eta 0:00:01\r",
      "\u001b[K     |█████████████████▏              | 71 kB 29.4 MB/s eta 0:00:01\r",
      "\u001b[K     |███████████████████▋            | 81 kB 27.2 MB/s eta 0:00:01\r",
      "\u001b[K     |██████████████████████          | 92 kB 28.1 MB/s eta 0:00:01\r",
      "\u001b[K     |████████████████████████▌       | 102 kB 30.0 MB/s eta 0:00:01\r",
      "\u001b[K     |███████████████████████████     | 112 kB 30.0 MB/s eta 0:00:01\r",
      "\u001b[K     |█████████████████████████████▍  | 122 kB 30.0 MB/s eta 0:00:01\r",
      "\u001b[K     |███████████████████████████████▉| 133 kB 30.0 MB/s eta 0:00:01\r",
      "\u001b[K     |████████████████████████████████| 133 kB 30.0 MB/s \n",
      "\u001b[?25h"
     ]
    }
   ],
   "source": [
    "!pip install -q -U keras-tuner"
   ]
  },
  {
   "cell_type": "code",
   "execution_count": 20,
   "id": "M5te5ih0uP6u",
   "metadata": {
    "id": "M5te5ih0uP6u"
   },
   "outputs": [],
   "source": [
    "import pandas as pd\n",
    "from tensorflow import keras\n",
    "from tensorflow.keras import layers\n",
    "from keras_tuner.tuners import RandomSearch\n",
    "from tensorflow.keras.models import Sequential\n",
    "from tensorflow.keras.layers import LSTM\n",
    "from tensorflow.keras.layers import Dense,Dropout,SimpleRNN\n",
    "from tensorflow.keras.layers import Flatten\n",
    "import matplotlib.pyplot as plt"
   ]
  },
  {
   "cell_type": "code",
   "execution_count": null,
   "id": "rYiJC5hXuP_e",
   "metadata": {
    "id": "rYiJC5hXuP_e"
   },
   "outputs": [],
   "source": [
    "def build_model(hp):\n",
    "    model = keras.Sequential()\n",
    "    model.add(SimpleRNN(hp.Int('rnn_layer',min_value=8,max_value=256,step=8), activation=\"relu\",input_shape=(1,look_back),recurrent_dropout = hp.Choice(\"first_recurrent_dropout\",[0.2,0.3,0.4],default=0.2)))\n",
    "    model.add(Dense(hp.Int('dense_layer',min_value=8,max_value=256,step=8),activation=\"relu\"))\n",
    "    model.add(Dropout(hp.Float('Dropout_rate',min_value=0,max_value=0.5,step=0.1)))\n",
    "    model.add(layers.Dense(1, activation='linear'))\n",
    "    model.compile(\n",
    "        optimizer=keras.optimizers.Adam(\n",
    "             hp.Float('learning_rate', min_value=1e-4, max_value=1e-1, sampling=\"log\")),\n",
    "        loss='mape',\n",
    "        metrics=['mape'])\n",
    "    return model"
   ]
  },
  {
   "cell_type": "code",
   "execution_count": null,
   "id": "2h_gRerjuQCT",
   "metadata": {
    "id": "2h_gRerjuQCT"
   },
   "outputs": [],
   "source": [
    "tuner = RandomSearch(\n",
    "    build_model,\n",
    "    objective='val_mape',\n",
    "    max_trials=10,\n",
    "    executions_per_trial=1,\n",
    "    directory='project',\n",
    "    project_name='loa_em_3')"
   ]
  },
  {
   "cell_type": "code",
   "execution_count": null,
   "id": "Dg5AHN3guQFu",
   "metadata": {
    "colab": {
     "base_uri": "https://localhost:8080/"
    },
    "id": "Dg5AHN3guQFu",
    "outputId": "c555d992-a27e-474a-87f4-7417bad785f3"
   },
   "outputs": [
    {
     "name": "stdout",
     "output_type": "stream",
     "text": [
      "Search space summary\n",
      "Default search space size: 5\n",
      "rnn_layer (Int)\n",
      "{'default': None, 'conditions': [], 'min_value': 8, 'max_value': 256, 'step': 8, 'sampling': None}\n",
      "first_recurrent_dropout (Choice)\n",
      "{'default': 0.2, 'conditions': [], 'values': [0.2, 0.3, 0.4], 'ordered': True}\n",
      "dense_layer (Int)\n",
      "{'default': None, 'conditions': [], 'min_value': 8, 'max_value': 256, 'step': 8, 'sampling': None}\n",
      "Dropout_rate (Float)\n",
      "{'default': 0.0, 'conditions': [], 'min_value': 0.0, 'max_value': 0.5, 'step': 0.1, 'sampling': None}\n",
      "learning_rate (Float)\n",
      "{'default': 0.0001, 'conditions': [], 'min_value': 0.0001, 'max_value': 0.1, 'step': None, 'sampling': 'log'}\n"
     ]
    }
   ],
   "source": [
    "tuner.search_space_summary()"
   ]
  },
  {
   "cell_type": "code",
   "execution_count": null,
   "id": "TiBXdF0K8Gpr",
   "metadata": {
    "colab": {
     "base_uri": "https://localhost:8080/"
    },
    "id": "TiBXdF0K8Gpr",
    "outputId": "037a76f9-1238-4055-9f8c-ef80cde883f0"
   },
   "outputs": [
    {
     "name": "stdout",
     "output_type": "stream",
     "text": [
      "Trial 10 Complete [00h 05m 23s]\n",
      "val_mape: 0.6051326990127563\n",
      "\n",
      "Best val_mape So Far: 0.5875175595283508\n",
      "Total elapsed time: 00h 50m 48s\n",
      "INFO:tensorflow:Oracle triggered exit\n"
     ]
    }
   ],
   "source": [
    "tuner.search(trainX, trainY,\n",
    "             epochs=200,\n",
    "             batch_size=32,\n",
    "             validation_data=(testX, testY))"
   ]
  },
  {
   "cell_type": "code",
   "execution_count": null,
   "id": "VXXGH_RK8GsD",
   "metadata": {
    "colab": {
     "base_uri": "https://localhost:8080/"
    },
    "id": "VXXGH_RK8GsD",
    "outputId": "e170252d-b459-472f-cc35-60364132ee2c"
   },
   "outputs": [
    {
     "name": "stdout",
     "output_type": "stream",
     "text": [
      "Results summary\n",
      "Results in project/loa_em_3\n",
      "Showing 10 best trials\n",
      "Objective(name='val_mape', direction='min')\n",
      "Trial summary\n",
      "Hyperparameters:\n",
      "rnn_layer: 40\n",
      "first_recurrent_dropout: 0.2\n",
      "dense_layer: 128\n",
      "Dropout_rate: 0.1\n",
      "learning_rate: 0.00041262424129007364\n",
      "Score: 0.5875175595283508\n",
      "Trial summary\n",
      "Hyperparameters:\n",
      "rnn_layer: 128\n",
      "first_recurrent_dropout: 0.2\n",
      "dense_layer: 152\n",
      "Dropout_rate: 0.0\n",
      "learning_rate: 0.002016731956984042\n",
      "Score: 0.5889031291007996\n",
      "Trial summary\n",
      "Hyperparameters:\n",
      "rnn_layer: 184\n",
      "first_recurrent_dropout: 0.3\n",
      "dense_layer: 8\n",
      "Dropout_rate: 0.0\n",
      "learning_rate: 0.015629230639366914\n",
      "Score: 0.5985832214355469\n",
      "Trial summary\n",
      "Hyperparameters:\n",
      "rnn_layer: 160\n",
      "first_recurrent_dropout: 0.4\n",
      "dense_layer: 176\n",
      "Dropout_rate: 0.30000000000000004\n",
      "learning_rate: 0.0004587913177291949\n",
      "Score: 0.6015581488609314\n",
      "Trial summary\n",
      "Hyperparameters:\n",
      "rnn_layer: 192\n",
      "first_recurrent_dropout: 0.3\n",
      "dense_layer: 120\n",
      "Dropout_rate: 0.1\n",
      "learning_rate: 0.0031676192175181784\n",
      "Score: 0.6051326990127563\n",
      "Trial summary\n",
      "Hyperparameters:\n",
      "rnn_layer: 120\n",
      "first_recurrent_dropout: 0.3\n",
      "dense_layer: 168\n",
      "Dropout_rate: 0.1\n",
      "learning_rate: 0.0030148996787940593\n",
      "Score: 0.6095269918441772\n",
      "Trial summary\n",
      "Hyperparameters:\n",
      "rnn_layer: 184\n",
      "first_recurrent_dropout: 0.2\n",
      "dense_layer: 80\n",
      "Dropout_rate: 0.2\n",
      "learning_rate: 0.0002509751954178131\n",
      "Score: 0.6134439706802368\n",
      "Trial summary\n",
      "Hyperparameters:\n",
      "rnn_layer: 160\n",
      "first_recurrent_dropout: 0.3\n",
      "dense_layer: 144\n",
      "Dropout_rate: 0.30000000000000004\n",
      "learning_rate: 0.003649928369878731\n",
      "Score: 0.6226463317871094\n",
      "Trial summary\n",
      "Hyperparameters:\n",
      "rnn_layer: 232\n",
      "first_recurrent_dropout: 0.3\n",
      "dense_layer: 48\n",
      "Dropout_rate: 0.30000000000000004\n",
      "learning_rate: 0.005519407974838786\n",
      "Score: 0.6547484993934631\n",
      "Trial summary\n",
      "Hyperparameters:\n",
      "rnn_layer: 248\n",
      "first_recurrent_dropout: 0.2\n",
      "dense_layer: 8\n",
      "Dropout_rate: 0.4\n",
      "learning_rate: 0.006385055252405681\n",
      "Score: 26.92906379699707\n"
     ]
    }
   ],
   "source": [
    "tuner.results_summary()"
   ]
  },
  {
   "cell_type": "code",
   "execution_count": null,
   "id": "FBpLenJ_DZMX",
   "metadata": {
    "id": "FBpLenJ_DZMX"
   },
   "outputs": [],
   "source": [
    "from warnings import filterwarnings\n",
    "filterwarnings('ignore')"
   ]
  },
  {
   "cell_type": "code",
   "execution_count": null,
   "id": "eL-a8rAv8Gvg",
   "metadata": {
    "colab": {
     "base_uri": "https://localhost:8080/"
    },
    "id": "eL-a8rAv8Gvg",
    "outputId": "af0508a6-6e15-4d41-cae2-a53091c5dfec"
   },
   "outputs": [
    {
     "name": "stdout",
     "output_type": "stream",
     "text": [
      "Model: \"sequential\"\n",
      "_________________________________________________________________\n",
      " Layer (type)                Output Shape              Param #   \n",
      "=================================================================\n",
      " simple_rnn (SimpleRNN)      (None, 40)                1800      \n",
      "                                                                 \n",
      " dense (Dense)               (None, 128)               5248      \n",
      "                                                                 \n",
      " dropout (Dropout)           (None, 128)               0         \n",
      "                                                                 \n",
      " dense_1 (Dense)             (None, 1)                 129       \n",
      "                                                                 \n",
      "=================================================================\n",
      "Total params: 7,177\n",
      "Trainable params: 7,177\n",
      "Non-trainable params: 0\n",
      "_________________________________________________________________\n"
     ]
    }
   ],
   "source": [
    "models = tuner.get_best_models(num_models=2)\n",
    "best_model = models[0]\n",
    "# Build the model.\n",
    "# Needed for `Sequential` without specified `input_shape`.\n",
    "best_model.build(input_shape=(None, 4))\n",
    "best_model.summary()"
   ]
  },
  {
   "cell_type": "code",
   "execution_count": 22,
   "id": "ovKDjDHZEmLV",
   "metadata": {
    "id": "ovKDjDHZEmLV"
   },
   "outputs": [],
   "source": [
    "from tensorflow.keras import optimizers\n",
    "from tensorflow.keras.callbacks import EarlyStopping\n",
    "from  tensorflow.keras.layers import Bidirectional"
   ]
  },
  {
   "cell_type": "code",
   "execution_count": 33,
   "id": "9NTj0UnjLqZa",
   "metadata": {
    "colab": {
     "base_uri": "https://localhost:8080/"
    },
    "id": "9NTj0UnjLqZa",
    "outputId": "bb9fdf29-d145-41d3-d2b8-44861ba676f3"
   },
   "outputs": [
    {
     "name": "stdout",
     "output_type": "stream",
     "text": [
      "Epoch 1/200\n",
      "307/307 [==============================] - 3s 3ms/step - loss: 148.5577 - mape: 148.5577 - val_loss: 145.0752 - val_mape: 145.0752\n",
      "Epoch 2/200\n",
      "307/307 [==============================] - 1s 2ms/step - loss: 128.3751 - mape: 128.3751 - val_loss: 131.4616 - val_mape: 131.4616\n",
      "Epoch 3/200\n",
      "307/307 [==============================] - 1s 2ms/step - loss: 107.9458 - mape: 107.9458 - val_loss: 117.9763 - val_mape: 117.9763\n",
      "Epoch 4/200\n",
      "307/307 [==============================] - 1s 2ms/step - loss: 88.6753 - mape: 88.6753 - val_loss: 105.0269 - val_mape: 105.0269\n",
      "Epoch 5/200\n",
      "307/307 [==============================] - 1s 2ms/step - loss: 70.3669 - mape: 70.3669 - val_loss: 92.4329 - val_mape: 92.4329\n",
      "Epoch 6/200\n",
      "307/307 [==============================] - 1s 2ms/step - loss: 52.8345 - mape: 52.8345 - val_loss: 80.1348 - val_mape: 80.1348\n",
      "Epoch 7/200\n",
      "307/307 [==============================] - 1s 2ms/step - loss: 36.5783 - mape: 36.5783 - val_loss: 68.7982 - val_mape: 68.7982\n",
      "Epoch 8/200\n",
      "307/307 [==============================] - 1s 2ms/step - loss: 26.3083 - mape: 26.3083 - val_loss: 60.3726 - val_mape: 60.3726\n",
      "Epoch 9/200\n",
      "307/307 [==============================] - 1s 2ms/step - loss: 22.0291 - mape: 22.0291 - val_loss: 54.8242 - val_mape: 54.8242\n",
      "Epoch 10/200\n",
      "307/307 [==============================] - 1s 2ms/step - loss: 20.4847 - mape: 20.4847 - val_loss: 51.3010 - val_mape: 51.3010\n",
      "Epoch 11/200\n",
      "307/307 [==============================] - 1s 2ms/step - loss: 19.5641 - mape: 19.5641 - val_loss: 48.7739 - val_mape: 48.7739\n",
      "Epoch 12/200\n",
      "307/307 [==============================] - 1s 2ms/step - loss: 18.6863 - mape: 18.6863 - val_loss: 46.3661 - val_mape: 46.3661\n",
      "Epoch 13/200\n",
      "307/307 [==============================] - 1s 2ms/step - loss: 17.7516 - mape: 17.7516 - val_loss: 43.6121 - val_mape: 43.6121\n",
      "Epoch 14/200\n",
      "307/307 [==============================] - 1s 2ms/step - loss: 16.7565 - mape: 16.7565 - val_loss: 40.8241 - val_mape: 40.8241\n",
      "Epoch 15/200\n",
      "307/307 [==============================] - 1s 2ms/step - loss: 15.7043 - mape: 15.7043 - val_loss: 38.0762 - val_mape: 38.0762\n",
      "Epoch 16/200\n",
      "307/307 [==============================] - 1s 2ms/step - loss: 14.6002 - mape: 14.6002 - val_loss: 35.0338 - val_mape: 35.0338\n",
      "Epoch 17/200\n",
      "307/307 [==============================] - 1s 2ms/step - loss: 13.4359 - mape: 13.4359 - val_loss: 31.9701 - val_mape: 31.9701\n",
      "Epoch 18/200\n",
      "307/307 [==============================] - 1s 2ms/step - loss: 12.2025 - mape: 12.2025 - val_loss: 28.7794 - val_mape: 28.7794\n",
      "Epoch 19/200\n",
      "307/307 [==============================] - 1s 2ms/step - loss: 10.9011 - mape: 10.9011 - val_loss: 25.3037 - val_mape: 25.3037\n",
      "Epoch 20/200\n",
      "307/307 [==============================] - 1s 2ms/step - loss: 9.5548 - mape: 9.5548 - val_loss: 21.7825 - val_mape: 21.7825\n",
      "Epoch 21/200\n",
      "307/307 [==============================] - 1s 2ms/step - loss: 8.1770 - mape: 8.1770 - val_loss: 18.1826 - val_mape: 18.1826\n",
      "Epoch 22/200\n",
      "307/307 [==============================] - 1s 2ms/step - loss: 6.7784 - mape: 6.7784 - val_loss: 14.7045 - val_mape: 14.7045\n",
      "Epoch 23/200\n",
      "307/307 [==============================] - 1s 2ms/step - loss: 5.3677 - mape: 5.3677 - val_loss: 11.1399 - val_mape: 11.1399\n",
      "Epoch 24/200\n",
      "307/307 [==============================] - 1s 2ms/step - loss: 3.9653 - mape: 3.9653 - val_loss: 7.5680 - val_mape: 7.5680\n",
      "Epoch 25/200\n",
      "307/307 [==============================] - 1s 2ms/step - loss: 2.6197 - mape: 2.6197 - val_loss: 4.1367 - val_mape: 4.1367\n",
      "Epoch 26/200\n",
      "307/307 [==============================] - 1s 2ms/step - loss: 1.4799 - mape: 1.4799 - val_loss: 1.2834 - val_mape: 1.2834\n",
      "Epoch 27/200\n",
      "307/307 [==============================] - 1s 2ms/step - loss: 0.9855 - mape: 0.9855 - val_loss: 0.7129 - val_mape: 0.7129\n",
      "Epoch 28/200\n",
      "307/307 [==============================] - 1s 2ms/step - loss: 0.9477 - mape: 0.9477 - val_loss: 0.7097 - val_mape: 0.7097\n",
      "Epoch 29/200\n",
      "307/307 [==============================] - 1s 2ms/step - loss: 0.9468 - mape: 0.9468 - val_loss: 0.7082 - val_mape: 0.7082\n",
      "Epoch 30/200\n",
      "307/307 [==============================] - 1s 2ms/step - loss: 0.9464 - mape: 0.9464 - val_loss: 0.7087 - val_mape: 0.7087\n",
      "Epoch 31/200\n",
      "307/307 [==============================] - 1s 2ms/step - loss: 0.9448 - mape: 0.9448 - val_loss: 0.7081 - val_mape: 0.7081\n",
      "Epoch 32/200\n",
      "307/307 [==============================] - 1s 2ms/step - loss: 0.9464 - mape: 0.9464 - val_loss: 0.7076 - val_mape: 0.7076\n",
      "Epoch 33/200\n",
      "307/307 [==============================] - 1s 2ms/step - loss: 0.9435 - mape: 0.9435 - val_loss: 0.7122 - val_mape: 0.7122\n",
      "Epoch 34/200\n",
      "307/307 [==============================] - 1s 2ms/step - loss: 0.9417 - mape: 0.9417 - val_loss: 0.7061 - val_mape: 0.7061\n",
      "Epoch 35/200\n",
      "307/307 [==============================] - 1s 2ms/step - loss: 0.9413 - mape: 0.9413 - val_loss: 0.7036 - val_mape: 0.7036\n",
      "Epoch 36/200\n",
      "307/307 [==============================] - 1s 2ms/step - loss: 0.9379 - mape: 0.9379 - val_loss: 0.6894 - val_mape: 0.6894\n",
      "Epoch 37/200\n",
      "307/307 [==============================] - 1s 2ms/step - loss: 0.9362 - mape: 0.9362 - val_loss: 0.6882 - val_mape: 0.6882\n",
      "Epoch 38/200\n",
      "307/307 [==============================] - 1s 2ms/step - loss: 0.9353 - mape: 0.9353 - val_loss: 0.6804 - val_mape: 0.6804\n",
      "Epoch 39/200\n",
      "307/307 [==============================] - 1s 2ms/step - loss: 0.9317 - mape: 0.9317 - val_loss: 0.6755 - val_mape: 0.6755\n",
      "Epoch 40/200\n",
      "307/307 [==============================] - 1s 2ms/step - loss: 0.9302 - mape: 0.9302 - val_loss: 0.6802 - val_mape: 0.6802\n",
      "Epoch 41/200\n",
      "307/307 [==============================] - 1s 2ms/step - loss: 0.9229 - mape: 0.9229 - val_loss: 0.6700 - val_mape: 0.6700\n",
      "Epoch 42/200\n",
      "307/307 [==============================] - 1s 2ms/step - loss: 0.8990 - mape: 0.8990 - val_loss: 0.6673 - val_mape: 0.6673\n",
      "Epoch 43/200\n",
      "307/307 [==============================] - 1s 2ms/step - loss: 0.8978 - mape: 0.8978 - val_loss: 0.6653 - val_mape: 0.6653\n",
      "Epoch 44/200\n",
      "307/307 [==============================] - 1s 2ms/step - loss: 0.8966 - mape: 0.8966 - val_loss: 0.6626 - val_mape: 0.6626\n",
      "Epoch 45/200\n",
      "307/307 [==============================] - 1s 2ms/step - loss: 0.8960 - mape: 0.8960 - val_loss: 0.6607 - val_mape: 0.6607\n",
      "Epoch 46/200\n",
      "307/307 [==============================] - 1s 2ms/step - loss: 0.8942 - mape: 0.8942 - val_loss: 0.6587 - val_mape: 0.6587\n",
      "Epoch 47/200\n",
      "307/307 [==============================] - 1s 2ms/step - loss: 0.8947 - mape: 0.8947 - val_loss: 0.6561 - val_mape: 0.6561\n",
      "Epoch 48/200\n",
      "307/307 [==============================] - 1s 2ms/step - loss: 0.8935 - mape: 0.8935 - val_loss: 0.6539 - val_mape: 0.6539\n",
      "Epoch 49/200\n",
      "307/307 [==============================] - 1s 2ms/step - loss: 0.8925 - mape: 0.8925 - val_loss: 0.6519 - val_mape: 0.6519\n",
      "Epoch 50/200\n",
      "307/307 [==============================] - 1s 2ms/step - loss: 0.8947 - mape: 0.8947 - val_loss: 0.6499 - val_mape: 0.6499\n",
      "Epoch 51/200\n",
      "307/307 [==============================] - 1s 2ms/step - loss: 0.8929 - mape: 0.8929 - val_loss: 0.6514 - val_mape: 0.6514\n",
      "Epoch 52/200\n",
      "307/307 [==============================] - 1s 2ms/step - loss: 0.8928 - mape: 0.8928 - val_loss: 0.6501 - val_mape: 0.6501\n",
      "Epoch 53/200\n",
      "307/307 [==============================] - 1s 2ms/step - loss: 0.8914 - mape: 0.8914 - val_loss: 0.6455 - val_mape: 0.6455\n",
      "Epoch 54/200\n",
      "307/307 [==============================] - 1s 2ms/step - loss: 0.8924 - mape: 0.8924 - val_loss: 0.6502 - val_mape: 0.6502\n",
      "Epoch 55/200\n",
      "307/307 [==============================] - 1s 2ms/step - loss: 0.8912 - mape: 0.8912 - val_loss: 0.6434 - val_mape: 0.6434\n",
      "Epoch 56/200\n",
      "307/307 [==============================] - 1s 2ms/step - loss: 0.8917 - mape: 0.8917 - val_loss: 0.6431 - val_mape: 0.6431\n",
      "Epoch 57/200\n",
      "307/307 [==============================] - 1s 2ms/step - loss: 0.8911 - mape: 0.8911 - val_loss: 0.6520 - val_mape: 0.6520\n",
      "Epoch 58/200\n",
      "307/307 [==============================] - 1s 2ms/step - loss: 0.8905 - mape: 0.8905 - val_loss: 0.6531 - val_mape: 0.6531\n",
      "Epoch 59/200\n",
      "307/307 [==============================] - 1s 2ms/step - loss: 0.8904 - mape: 0.8904 - val_loss: 0.6414 - val_mape: 0.6414\n",
      "Epoch 60/200\n",
      "307/307 [==============================] - 1s 2ms/step - loss: 0.8894 - mape: 0.8894 - val_loss: 0.6424 - val_mape: 0.6424\n",
      "Epoch 61/200\n",
      "307/307 [==============================] - 1s 2ms/step - loss: 0.8907 - mape: 0.8907 - val_loss: 0.6394 - val_mape: 0.6394\n",
      "Epoch 62/200\n",
      "307/307 [==============================] - 1s 2ms/step - loss: 0.8888 - mape: 0.8888 - val_loss: 0.6535 - val_mape: 0.6535\n",
      "Epoch 63/200\n",
      "307/307 [==============================] - 1s 2ms/step - loss: 0.8895 - mape: 0.8895 - val_loss: 0.6389 - val_mape: 0.6389\n",
      "Epoch 64/200\n",
      "307/307 [==============================] - 1s 2ms/step - loss: 0.8877 - mape: 0.8877 - val_loss: 0.6381 - val_mape: 0.6381\n",
      "Epoch 65/200\n",
      "307/307 [==============================] - 1s 2ms/step - loss: 0.8887 - mape: 0.8887 - val_loss: 0.6405 - val_mape: 0.6405\n",
      "Epoch 66/200\n",
      "307/307 [==============================] - 1s 2ms/step - loss: 0.8878 - mape: 0.8878 - val_loss: 0.6393 - val_mape: 0.6393\n",
      "Epoch 67/200\n",
      "307/307 [==============================] - 1s 2ms/step - loss: 0.8870 - mape: 0.8870 - val_loss: 0.6434 - val_mape: 0.6434\n",
      "Epoch 68/200\n",
      "307/307 [==============================] - 1s 2ms/step - loss: 0.8877 - mape: 0.8877 - val_loss: 0.6386 - val_mape: 0.6386\n",
      "Epoch 69/200\n",
      "307/307 [==============================] - 1s 2ms/step - loss: 0.8868 - mape: 0.8868 - val_loss: 0.6411 - val_mape: 0.6411\n",
      "Epoch 70/200\n",
      "307/307 [==============================] - 1s 2ms/step - loss: 0.8877 - mape: 0.8877 - val_loss: 0.6382 - val_mape: 0.6382\n",
      "Epoch 71/200\n",
      "307/307 [==============================] - 1s 2ms/step - loss: 0.8861 - mape: 0.8861 - val_loss: 0.6590 - val_mape: 0.6590\n",
      "Epoch 72/200\n",
      "307/307 [==============================] - 1s 2ms/step - loss: 0.8867 - mape: 0.8867 - val_loss: 0.6357 - val_mape: 0.6357\n",
      "Epoch 73/200\n",
      "307/307 [==============================] - 1s 2ms/step - loss: 0.8864 - mape: 0.8864 - val_loss: 0.6381 - val_mape: 0.6381\n",
      "Epoch 74/200\n",
      "307/307 [==============================] - 1s 2ms/step - loss: 0.8853 - mape: 0.8853 - val_loss: 0.6337 - val_mape: 0.6337\n",
      "Epoch 75/200\n",
      "307/307 [==============================] - 1s 2ms/step - loss: 0.8852 - mape: 0.8852 - val_loss: 0.6383 - val_mape: 0.6383\n",
      "Epoch 76/200\n",
      "307/307 [==============================] - 1s 2ms/step - loss: 0.8857 - mape: 0.8857 - val_loss: 0.6332 - val_mape: 0.6332\n",
      "Epoch 77/200\n",
      "307/307 [==============================] - 1s 2ms/step - loss: 0.8850 - mape: 0.8850 - val_loss: 0.6488 - val_mape: 0.6488\n",
      "Epoch 78/200\n",
      "307/307 [==============================] - 1s 2ms/step - loss: 0.8854 - mape: 0.8854 - val_loss: 0.6325 - val_mape: 0.6325\n",
      "Epoch 79/200\n",
      "307/307 [==============================] - 1s 2ms/step - loss: 0.8851 - mape: 0.8851 - val_loss: 0.6322 - val_mape: 0.6322\n",
      "Epoch 80/200\n",
      "307/307 [==============================] - 1s 2ms/step - loss: 0.8837 - mape: 0.8837 - val_loss: 0.6309 - val_mape: 0.6309\n",
      "Epoch 81/200\n",
      "307/307 [==============================] - 1s 2ms/step - loss: 0.8829 - mape: 0.8829 - val_loss: 0.6387 - val_mape: 0.6387\n",
      "Epoch 82/200\n",
      "307/307 [==============================] - 1s 2ms/step - loss: 0.8827 - mape: 0.8827 - val_loss: 0.6442 - val_mape: 0.6442\n",
      "Epoch 83/200\n",
      "307/307 [==============================] - 1s 2ms/step - loss: 0.8821 - mape: 0.8821 - val_loss: 0.6389 - val_mape: 0.6389\n",
      "Epoch 84/200\n",
      "307/307 [==============================] - 1s 2ms/step - loss: 0.8822 - mape: 0.8822 - val_loss: 0.6296 - val_mape: 0.6296\n",
      "Epoch 85/200\n",
      "307/307 [==============================] - 1s 2ms/step - loss: 0.8818 - mape: 0.8818 - val_loss: 0.6377 - val_mape: 0.6377\n",
      "Epoch 86/200\n",
      "307/307 [==============================] - 1s 2ms/step - loss: 0.8822 - mape: 0.8822 - val_loss: 0.6287 - val_mape: 0.6287\n",
      "Epoch 87/200\n",
      "307/307 [==============================] - 1s 2ms/step - loss: 0.8841 - mape: 0.8841 - val_loss: 0.6502 - val_mape: 0.6502\n",
      "Epoch 88/200\n",
      "307/307 [==============================] - 1s 2ms/step - loss: 0.8803 - mape: 0.8803 - val_loss: 0.6274 - val_mape: 0.6274\n",
      "Epoch 89/200\n",
      "307/307 [==============================] - 1s 2ms/step - loss: 0.8807 - mape: 0.8807 - val_loss: 0.6277 - val_mape: 0.6277\n",
      "Epoch 90/200\n",
      "307/307 [==============================] - 1s 2ms/step - loss: 0.8803 - mape: 0.8803 - val_loss: 0.6401 - val_mape: 0.6401\n",
      "Epoch 91/200\n",
      "307/307 [==============================] - 1s 2ms/step - loss: 0.8791 - mape: 0.8791 - val_loss: 0.6295 - val_mape: 0.6295\n",
      "Epoch 92/200\n",
      "307/307 [==============================] - 1s 2ms/step - loss: 0.8800 - mape: 0.8800 - val_loss: 0.6299 - val_mape: 0.6299\n",
      "Epoch 93/200\n",
      "307/307 [==============================] - 1s 2ms/step - loss: 0.8794 - mape: 0.8794 - val_loss: 0.6304 - val_mape: 0.6304\n",
      "Epoch 94/200\n",
      "307/307 [==============================] - 1s 2ms/step - loss: 0.8800 - mape: 0.8800 - val_loss: 0.6293 - val_mape: 0.6293\n",
      "Epoch 95/200\n",
      "307/307 [==============================] - 1s 2ms/step - loss: 0.8796 - mape: 0.8796 - val_loss: 0.6309 - val_mape: 0.6309\n",
      "Epoch 96/200\n",
      "307/307 [==============================] - 1s 2ms/step - loss: 0.8779 - mape: 0.8779 - val_loss: 0.6264 - val_mape: 0.6264\n",
      "Epoch 97/200\n",
      "307/307 [==============================] - 1s 2ms/step - loss: 0.8791 - mape: 0.8791 - val_loss: 0.6355 - val_mape: 0.6355\n",
      "Epoch 98/200\n",
      "307/307 [==============================] - 1s 2ms/step - loss: 0.8785 - mape: 0.8785 - val_loss: 0.6330 - val_mape: 0.6330\n",
      "Epoch 99/200\n",
      "307/307 [==============================] - 1s 2ms/step - loss: 0.8758 - mape: 0.8758 - val_loss: 0.6264 - val_mape: 0.6264\n",
      "Epoch 100/200\n",
      "307/307 [==============================] - 1s 2ms/step - loss: 0.8780 - mape: 0.8780 - val_loss: 0.6268 - val_mape: 0.6268\n",
      "Epoch 101/200\n",
      "307/307 [==============================] - 1s 2ms/step - loss: 0.8766 - mape: 0.8766 - val_loss: 0.6302 - val_mape: 0.6302\n",
      "Epoch 102/200\n",
      "307/307 [==============================] - 1s 2ms/step - loss: 0.8768 - mape: 0.8768 - val_loss: 0.6245 - val_mape: 0.6245\n",
      "Epoch 103/200\n",
      "307/307 [==============================] - 1s 2ms/step - loss: 0.8766 - mape: 0.8766 - val_loss: 0.6224 - val_mape: 0.6224\n",
      "Epoch 104/200\n",
      "307/307 [==============================] - 1s 2ms/step - loss: 0.8770 - mape: 0.8770 - val_loss: 0.6340 - val_mape: 0.6340\n",
      "Epoch 105/200\n",
      "307/307 [==============================] - 1s 2ms/step - loss: 0.8777 - mape: 0.8777 - val_loss: 0.6294 - val_mape: 0.6294\n",
      "Epoch 106/200\n",
      "307/307 [==============================] - 1s 2ms/step - loss: 0.8749 - mape: 0.8749 - val_loss: 0.6230 - val_mape: 0.6230\n",
      "Epoch 107/200\n",
      "307/307 [==============================] - 1s 2ms/step - loss: 0.8747 - mape: 0.8747 - val_loss: 0.6275 - val_mape: 0.6275\n",
      "Epoch 108/200\n",
      "307/307 [==============================] - 1s 2ms/step - loss: 0.8765 - mape: 0.8765 - val_loss: 0.6290 - val_mape: 0.6290\n",
      "Epoch 109/200\n",
      "307/307 [==============================] - 1s 2ms/step - loss: 0.8748 - mape: 0.8748 - val_loss: 0.6268 - val_mape: 0.6268\n",
      "Epoch 110/200\n",
      "307/307 [==============================] - 1s 2ms/step - loss: 0.8752 - mape: 0.8752 - val_loss: 0.6248 - val_mape: 0.6248\n",
      "Epoch 111/200\n",
      "307/307 [==============================] - 1s 2ms/step - loss: 0.8742 - mape: 0.8742 - val_loss: 0.6214 - val_mape: 0.6214\n",
      "Epoch 112/200\n",
      "307/307 [==============================] - 1s 2ms/step - loss: 0.8735 - mape: 0.8735 - val_loss: 0.6223 - val_mape: 0.6223\n",
      "Epoch 113/200\n",
      "307/307 [==============================] - 1s 2ms/step - loss: 0.8733 - mape: 0.8733 - val_loss: 0.6233 - val_mape: 0.6233\n",
      "Epoch 114/200\n",
      "307/307 [==============================] - 1s 2ms/step - loss: 0.8722 - mape: 0.8722 - val_loss: 0.6188 - val_mape: 0.6188\n",
      "Epoch 115/200\n",
      "307/307 [==============================] - 1s 2ms/step - loss: 0.8735 - mape: 0.8735 - val_loss: 0.6246 - val_mape: 0.6246\n",
      "Epoch 116/200\n",
      "307/307 [==============================] - 1s 2ms/step - loss: 0.8720 - mape: 0.8720 - val_loss: 0.6325 - val_mape: 0.6325\n",
      "Epoch 117/200\n",
      "307/307 [==============================] - 1s 2ms/step - loss: 0.8714 - mape: 0.8714 - val_loss: 0.6275 - val_mape: 0.6275\n",
      "Epoch 118/200\n",
      "307/307 [==============================] - 1s 2ms/step - loss: 0.8718 - mape: 0.8718 - val_loss: 0.6175 - val_mape: 0.6175\n",
      "Epoch 119/200\n",
      "307/307 [==============================] - 1s 2ms/step - loss: 0.8717 - mape: 0.8717 - val_loss: 0.6174 - val_mape: 0.6174\n",
      "Epoch 120/200\n",
      "307/307 [==============================] - 1s 2ms/step - loss: 0.8702 - mape: 0.8702 - val_loss: 0.6210 - val_mape: 0.6210\n",
      "Epoch 121/200\n",
      "307/307 [==============================] - 1s 2ms/step - loss: 0.8709 - mape: 0.8709 - val_loss: 0.6244 - val_mape: 0.6244\n",
      "Epoch 122/200\n",
      "307/307 [==============================] - 1s 2ms/step - loss: 0.8699 - mape: 0.8699 - val_loss: 0.6191 - val_mape: 0.6191\n",
      "Epoch 123/200\n",
      "307/307 [==============================] - 1s 2ms/step - loss: 0.8684 - mape: 0.8684 - val_loss: 0.6198 - val_mape: 0.6198\n",
      "Epoch 124/200\n",
      "307/307 [==============================] - 1s 2ms/step - loss: 0.8682 - mape: 0.8682 - val_loss: 0.6367 - val_mape: 0.6367\n",
      "Epoch 125/200\n",
      "307/307 [==============================] - 1s 2ms/step - loss: 0.8671 - mape: 0.8671 - val_loss: 0.6150 - val_mape: 0.6150\n",
      "Epoch 126/200\n",
      "307/307 [==============================] - 1s 2ms/step - loss: 0.8669 - mape: 0.8669 - val_loss: 0.6288 - val_mape: 0.6288\n",
      "Epoch 127/200\n",
      "307/307 [==============================] - 1s 2ms/step - loss: 0.8659 - mape: 0.8659 - val_loss: 0.6202 - val_mape: 0.6202\n",
      "Epoch 128/200\n",
      "307/307 [==============================] - 1s 2ms/step - loss: 0.8632 - mape: 0.8632 - val_loss: 0.6160 - val_mape: 0.6160\n",
      "Epoch 129/200\n",
      "307/307 [==============================] - 1s 2ms/step - loss: 0.8471 - mape: 0.8471 - val_loss: 0.6106 - val_mape: 0.6106\n",
      "Epoch 130/200\n",
      "307/307 [==============================] - 1s 2ms/step - loss: 0.8350 - mape: 0.8350 - val_loss: 0.6104 - val_mape: 0.6104\n",
      "Epoch 131/200\n",
      "307/307 [==============================] - 1s 2ms/step - loss: 0.8336 - mape: 0.8336 - val_loss: 0.6100 - val_mape: 0.6100\n",
      "Epoch 132/200\n",
      "307/307 [==============================] - 1s 2ms/step - loss: 0.8327 - mape: 0.8327 - val_loss: 0.6084 - val_mape: 0.6084\n",
      "Epoch 133/200\n",
      "307/307 [==============================] - 1s 2ms/step - loss: 0.8327 - mape: 0.8327 - val_loss: 0.6073 - val_mape: 0.6073\n",
      "Epoch 134/200\n",
      "307/307 [==============================] - 1s 2ms/step - loss: 0.8329 - mape: 0.8329 - val_loss: 0.6069 - val_mape: 0.6069\n",
      "Epoch 135/200\n",
      "307/307 [==============================] - 1s 2ms/step - loss: 0.8312 - mape: 0.8312 - val_loss: 0.6119 - val_mape: 0.6119\n",
      "Epoch 136/200\n",
      "307/307 [==============================] - 1s 2ms/step - loss: 0.8327 - mape: 0.8327 - val_loss: 0.6068 - val_mape: 0.6068\n",
      "Epoch 137/200\n",
      "307/307 [==============================] - 1s 2ms/step - loss: 0.8326 - mape: 0.8326 - val_loss: 0.6092 - val_mape: 0.6092\n",
      "Epoch 138/200\n",
      "307/307 [==============================] - 1s 2ms/step - loss: 0.8322 - mape: 0.8322 - val_loss: 0.6044 - val_mape: 0.6044\n",
      "Epoch 139/200\n",
      "307/307 [==============================] - 1s 2ms/step - loss: 0.8318 - mape: 0.8318 - val_loss: 0.6055 - val_mape: 0.6055\n",
      "Epoch 140/200\n",
      "307/307 [==============================] - 1s 2ms/step - loss: 0.8315 - mape: 0.8315 - val_loss: 0.6040 - val_mape: 0.6040\n",
      "Epoch 141/200\n",
      "307/307 [==============================] - 1s 2ms/step - loss: 0.8305 - mape: 0.8305 - val_loss: 0.6031 - val_mape: 0.6031\n",
      "Epoch 142/200\n",
      "307/307 [==============================] - 1s 2ms/step - loss: 0.8304 - mape: 0.8304 - val_loss: 0.6174 - val_mape: 0.6174\n",
      "Epoch 143/200\n",
      "307/307 [==============================] - 1s 2ms/step - loss: 0.8304 - mape: 0.8304 - val_loss: 0.6153 - val_mape: 0.6153\n",
      "Epoch 144/200\n",
      "307/307 [==============================] - 1s 2ms/step - loss: 0.8300 - mape: 0.8300 - val_loss: 0.6081 - val_mape: 0.6081\n",
      "Epoch 145/200\n",
      "307/307 [==============================] - 1s 2ms/step - loss: 0.8320 - mape: 0.8320 - val_loss: 0.6018 - val_mape: 0.6018\n",
      "Epoch 146/200\n",
      "307/307 [==============================] - 1s 2ms/step - loss: 0.8294 - mape: 0.8294 - val_loss: 0.6056 - val_mape: 0.6056\n",
      "Epoch 147/200\n",
      "307/307 [==============================] - 1s 2ms/step - loss: 0.8287 - mape: 0.8287 - val_loss: 0.6073 - val_mape: 0.6073\n",
      "Epoch 148/200\n",
      "307/307 [==============================] - 1s 2ms/step - loss: 0.8288 - mape: 0.8288 - val_loss: 0.6061 - val_mape: 0.6061\n",
      "Epoch 149/200\n",
      "307/307 [==============================] - 1s 2ms/step - loss: 0.8284 - mape: 0.8284 - val_loss: 0.6098 - val_mape: 0.6098\n",
      "Epoch 150/200\n",
      "307/307 [==============================] - 1s 2ms/step - loss: 0.8286 - mape: 0.8286 - val_loss: 0.5998 - val_mape: 0.5998\n",
      "Epoch 151/200\n",
      "307/307 [==============================] - 1s 2ms/step - loss: 0.8281 - mape: 0.8281 - val_loss: 0.6005 - val_mape: 0.6005\n",
      "Epoch 152/200\n",
      "307/307 [==============================] - 1s 2ms/step - loss: 0.8287 - mape: 0.8287 - val_loss: 0.5993 - val_mape: 0.5993\n",
      "Epoch 153/200\n",
      "307/307 [==============================] - 1s 2ms/step - loss: 0.8280 - mape: 0.8280 - val_loss: 0.5995 - val_mape: 0.5995\n",
      "Epoch 154/200\n",
      "307/307 [==============================] - 1s 2ms/step - loss: 0.8293 - mape: 0.8293 - val_loss: 0.6105 - val_mape: 0.6105\n",
      "Epoch 155/200\n",
      "307/307 [==============================] - 1s 2ms/step - loss: 0.8282 - mape: 0.8282 - val_loss: 0.6001 - val_mape: 0.6001\n",
      "Epoch 156/200\n",
      "307/307 [==============================] - 1s 2ms/step - loss: 0.8271 - mape: 0.8271 - val_loss: 0.5978 - val_mape: 0.5978\n",
      "Epoch 157/200\n",
      "307/307 [==============================] - 1s 2ms/step - loss: 0.8275 - mape: 0.8275 - val_loss: 0.5975 - val_mape: 0.5975\n",
      "Epoch 158/200\n",
      "307/307 [==============================] - 1s 2ms/step - loss: 0.8284 - mape: 0.8284 - val_loss: 0.5980 - val_mape: 0.5980\n",
      "Epoch 159/200\n",
      "307/307 [==============================] - 1s 2ms/step - loss: 0.8268 - mape: 0.8268 - val_loss: 0.6022 - val_mape: 0.6022\n",
      "Epoch 160/200\n",
      "307/307 [==============================] - 1s 2ms/step - loss: 0.8262 - mape: 0.8262 - val_loss: 0.5967 - val_mape: 0.5967\n",
      "Epoch 161/200\n",
      "307/307 [==============================] - 1s 2ms/step - loss: 0.8269 - mape: 0.8269 - val_loss: 0.5967 - val_mape: 0.5967\n",
      "Epoch 162/200\n",
      "307/307 [==============================] - 1s 2ms/step - loss: 0.8278 - mape: 0.8278 - val_loss: 0.6064 - val_mape: 0.6064\n",
      "Epoch 163/200\n",
      "307/307 [==============================] - 1s 2ms/step - loss: 0.8272 - mape: 0.8272 - val_loss: 0.5970 - val_mape: 0.5970\n",
      "Epoch 164/200\n",
      "307/307 [==============================] - 1s 2ms/step - loss: 0.8260 - mape: 0.8260 - val_loss: 0.6023 - val_mape: 0.6023\n",
      "Epoch 165/200\n",
      "307/307 [==============================] - 1s 2ms/step - loss: 0.8260 - mape: 0.8260 - val_loss: 0.5981 - val_mape: 0.5981\n",
      "Epoch 166/200\n",
      "307/307 [==============================] - 1s 2ms/step - loss: 0.8252 - mape: 0.8252 - val_loss: 0.5976 - val_mape: 0.5976\n",
      "Epoch 167/200\n",
      "307/307 [==============================] - 1s 2ms/step - loss: 0.8274 - mape: 0.8274 - val_loss: 0.5976 - val_mape: 0.5976\n",
      "Epoch 168/200\n",
      "307/307 [==============================] - 1s 2ms/step - loss: 0.8248 - mape: 0.8248 - val_loss: 0.5988 - val_mape: 0.5988\n",
      "Epoch 169/200\n",
      "307/307 [==============================] - 1s 2ms/step - loss: 0.8246 - mape: 0.8246 - val_loss: 0.6058 - val_mape: 0.6058\n",
      "Epoch 170/200\n",
      "307/307 [==============================] - 1s 2ms/step - loss: 0.8246 - mape: 0.8246 - val_loss: 0.6100 - val_mape: 0.6100\n",
      "Epoch 171/200\n",
      "307/307 [==============================] - 1s 2ms/step - loss: 0.8241 - mape: 0.8241 - val_loss: 0.6129 - val_mape: 0.6129\n",
      "Epoch 172/200\n",
      "307/307 [==============================] - 1s 2ms/step - loss: 0.8245 - mape: 0.8245 - val_loss: 0.5987 - val_mape: 0.5987\n",
      "Epoch 173/200\n",
      "307/307 [==============================] - 1s 2ms/step - loss: 0.8240 - mape: 0.8240 - val_loss: 0.5944 - val_mape: 0.5944\n",
      "Epoch 174/200\n",
      "307/307 [==============================] - 1s 2ms/step - loss: 0.8236 - mape: 0.8236 - val_loss: 0.6101 - val_mape: 0.6101\n",
      "Epoch 175/200\n",
      "307/307 [==============================] - 1s 2ms/step - loss: 0.8233 - mape: 0.8233 - val_loss: 0.5917 - val_mape: 0.5917\n",
      "Epoch 176/200\n",
      "307/307 [==============================] - 1s 2ms/step - loss: 0.8225 - mape: 0.8225 - val_loss: 0.5922 - val_mape: 0.5922\n",
      "Epoch 177/200\n",
      "307/307 [==============================] - 1s 2ms/step - loss: 0.8150 - mape: 0.8150 - val_loss: 0.5904 - val_mape: 0.5904\n",
      "Epoch 178/200\n",
      "307/307 [==============================] - 1s 2ms/step - loss: 0.8099 - mape: 0.8099 - val_loss: 0.5932 - val_mape: 0.5932\n",
      "Epoch 179/200\n",
      "307/307 [==============================] - 1s 2ms/step - loss: 0.8106 - mape: 0.8106 - val_loss: 0.5910 - val_mape: 0.5910\n",
      "Epoch 180/200\n",
      "307/307 [==============================] - 1s 2ms/step - loss: 0.8113 - mape: 0.8113 - val_loss: 0.5948 - val_mape: 0.5948\n",
      "Epoch 181/200\n",
      "307/307 [==============================] - 1s 2ms/step - loss: 0.8101 - mape: 0.8101 - val_loss: 0.5899 - val_mape: 0.5899\n",
      "Epoch 182/200\n",
      "307/307 [==============================] - 1s 2ms/step - loss: 0.8089 - mape: 0.8089 - val_loss: 0.5906 - val_mape: 0.5906\n",
      "Epoch 183/200\n",
      "307/307 [==============================] - 1s 2ms/step - loss: 0.8108 - mape: 0.8108 - val_loss: 0.5925 - val_mape: 0.5925\n",
      "Epoch 184/200\n",
      "307/307 [==============================] - 1s 2ms/step - loss: 0.8079 - mape: 0.8079 - val_loss: 0.5910 - val_mape: 0.5910\n",
      "Epoch 185/200\n",
      "307/307 [==============================] - 1s 2ms/step - loss: 0.8103 - mape: 0.8103 - val_loss: 0.5895 - val_mape: 0.5895\n",
      "Epoch 186/200\n",
      "307/307 [==============================] - 1s 2ms/step - loss: 0.8093 - mape: 0.8093 - val_loss: 0.5914 - val_mape: 0.5914\n",
      "Epoch 187/200\n",
      "307/307 [==============================] - 1s 2ms/step - loss: 0.8094 - mape: 0.8094 - val_loss: 0.5894 - val_mape: 0.5894\n",
      "Epoch 188/200\n",
      "307/307 [==============================] - 1s 2ms/step - loss: 0.8094 - mape: 0.8094 - val_loss: 0.5904 - val_mape: 0.5904\n",
      "Epoch 189/200\n",
      "307/307 [==============================] - 1s 2ms/step - loss: 0.8084 - mape: 0.8084 - val_loss: 0.5890 - val_mape: 0.5890\n",
      "Epoch 190/200\n",
      "307/307 [==============================] - 1s 2ms/step - loss: 0.8092 - mape: 0.8092 - val_loss: 0.5894 - val_mape: 0.5894\n",
      "Epoch 191/200\n",
      "307/307 [==============================] - 1s 2ms/step - loss: 0.8104 - mape: 0.8104 - val_loss: 0.5905 - val_mape: 0.5905\n",
      "Epoch 192/200\n",
      "307/307 [==============================] - 1s 2ms/step - loss: 0.8098 - mape: 0.8098 - val_loss: 0.5893 - val_mape: 0.5893\n",
      "Epoch 193/200\n",
      "307/307 [==============================] - 1s 2ms/step - loss: 0.8092 - mape: 0.8092 - val_loss: 0.5894 - val_mape: 0.5894\n",
      "Epoch 194/200\n",
      "307/307 [==============================] - 1s 2ms/step - loss: 0.8080 - mape: 0.8080 - val_loss: 0.5892 - val_mape: 0.5892\n",
      "Epoch 195/200\n",
      "307/307 [==============================] - 1s 2ms/step - loss: 0.8088 - mape: 0.8088 - val_loss: 0.5885 - val_mape: 0.5885\n",
      "Epoch 196/200\n",
      "307/307 [==============================] - 1s 2ms/step - loss: 0.8080 - mape: 0.8080 - val_loss: 0.5884 - val_mape: 0.5884\n",
      "Epoch 197/200\n",
      "307/307 [==============================] - 1s 2ms/step - loss: 0.8090 - mape: 0.8090 - val_loss: 0.5886 - val_mape: 0.5886\n",
      "Epoch 198/200\n",
      "307/307 [==============================] - 1s 2ms/step - loss: 0.8090 - mape: 0.8090 - val_loss: 0.5883 - val_mape: 0.5883\n",
      "Epoch 199/200\n",
      "307/307 [==============================] - 1s 2ms/step - loss: 0.8075 - mape: 0.8075 - val_loss: 0.5939 - val_mape: 0.5939\n",
      "Epoch 200/200\n",
      "307/307 [==============================] - 1s 2ms/step - loss: 0.8087 - mape: 0.8087 - val_loss: 0.5907 - val_mape: 0.5907\n"
     ]
    }
   ],
   "source": [
    "model = Sequential()\n",
    "model.add(Bidirectional(SimpleRNN(16,activation='relu',input_dim = 4)))\n",
    "model.add(Dense(1,activation='linear'))\n",
    "ad=optimizers.Adam(learning_rate = 0.000011262424129007364)\n",
    "model.compile(optimizer = ad, loss = 'mape', metrics = ['mape'])\n",
    "model_history=model.fit(trainX, trainY,validation_data=(testX,testY), batch_size = 32, epochs = 200)"
   ]
  },
  {
   "cell_type": "code",
   "execution_count": 34,
   "id": "77c05906",
   "metadata": {
    "id": "77c05906"
   },
   "outputs": [],
   "source": [
    "def model_loss(history):\n",
    "    plt.figure(figsize=(8,4))\n",
    "    plt.plot(history.history['loss'], label='Train Loss')\n",
    "    plt.plot(history.history['val_loss'], label='Test Loss')\n",
    "    plt.title('model loss')\n",
    "    plt.ylabel('loss')\n",
    "    plt.xlabel('epochs')\n",
    "    plt.legend(loc='upper right')\n",
    "    plt.show();"
   ]
  },
  {
   "cell_type": "code",
   "execution_count": 35,
   "id": "6vZ-AXOUurmJ",
   "metadata": {
    "id": "6vZ-AXOUurmJ"
   },
   "outputs": [],
   "source": [
    "train_score = model.evaluate(trainX, trainY,verbose=0)\n",
    "test_score = model.evaluate(testX, testY,verbose=0)"
   ]
  },
  {
   "cell_type": "code",
   "execution_count": 36,
   "id": "45a22c27",
   "metadata": {
    "colab": {
     "base_uri": "https://localhost:8080/",
     "height": 329
    },
    "id": "45a22c27",
    "outputId": "37bcf65b-b094-44db-bd29-c9cb018623d5"
   },
   "outputs": [
    {
     "name": "stdout",
     "output_type": "stream",
     "text": [
      "Train MAPE : 0.81 \n",
      "Test MAPE : 0.59 \n"
     ]
    },
    {
     "data": {
      "image/png": "[encoded data removed]",
      "text/plain": [
       "<Figure size 576x288 with 1 Axes>"
      ]
     },
     "metadata": {
      "needs_background": "light"
     },
     "output_type": "display_data"
    }
   ],
   "source": [
    "train_predict = model.predict(trainX)\n",
    "test_predict = model.predict(testX)\n",
    "\n",
    "# invert predictions\n",
    "train_predict = scaler.inverse_transform(train_predict)\n",
    "trainY = scaler.inverse_transform([trainY])\n",
    "test_predict = scaler.inverse_transform(test_predict)\n",
    "testY = scaler.inverse_transform([testY])\n",
    "print('Train MAPE : %.2f ' % (train_score[1]))\n",
    "print('Test MAPE : %.2f ' % (test_score[1]))\n",
    "model_loss(model_history)"
   ]
  },
  {
   "cell_type": "code",
   "execution_count": 27,
   "id": "dc942f74",
   "metadata": {
    "id": "dc942f74"
   },
   "outputs": [],
   "source": [
    "import seaborn as sns"
   ]
  },
  {
   "cell_type": "code",
   "execution_count": 37,
   "id": "dee9bab8",
   "metadata": {
    "id": "dee9bab8"
   },
   "outputs": [],
   "source": [
    "def prediction_plot(testY, test_predict,look_back):\n",
    "    len_prediction=[x for x in range(9797,10893)]\n",
    "    plt.plot(trainY.reshape(-1,))\n",
    "    plt.plot(len_prediction, testY.reshape(-1,), marker='.', label='actual')\n",
    "    plt.plot(len_prediction, test_predict, 'g', label=\"prediction\")\n",
    "    plt.tight_layout()\n",
    "    sns.despine(top=True)\n",
    "    plt.subplots_adjust(left=0.07)\n",
    "    plt.ylabel('Units', size=15)\n",
    "    plt.xlabel('Time step', size=15)\n",
    "    plt.legend(fontsize=15)\n",
    "    plt.show()"
   ]
  },
  {
   "cell_type": "code",
   "execution_count": 38,
   "id": "363040b5",
   "metadata": {
    "colab": {
     "base_uri": "https://localhost:8080/",
     "height": 604
    },
    "id": "363040b5",
    "outputId": "eb768d5f-2031-4057-9601-0e7f7ee248c1"
   },
   "outputs": [
    {
     "data": {
      "image/png": "[encoded data removed]",
      "text/plain": [
       "<Figure size 1080x576 with 1 Axes>"
      ]
     },
     "metadata": {
      "needs_background": "light"
     },
     "output_type": "display_data"
    }
   ],
   "source": [
    "test_predict = model.predict(testX)\n",
    "test_predict = scaler.inverse_transform(test_predict)\n",
    "prediction_plot(testY, test_predict,look_back)"
   ]
  },
  {
   "cell_type": "code",
   "execution_count": null,
   "id": "f8a7708c",
   "metadata": {
    "id": "f8a7708c"
   },
   "outputs": [],
   "source": []
  }
 ],
 "metadata": {
  "colab": {
   "collapsed_sections": [],
   "name": "gold_price_HPT_RNN_best_bidirectional.ipynb",
   "provenance": []
  },
  "kernelspec": {
   "display_name": "Python 3",
   "language": "python",
   "name": "python3"
  },
  "language_info": {
   "codemirror_mode": {
    "name": "ipython",
    "version": 3
   },
   "file_extension": ".py",
   "mimetype": "text/x-python",
   "name": "python",
   "nbconvert_exporter": "python",
   "pygments_lexer": "ipython3",
   "version": "3.8.8"
  }
 },
 "nbformat": 4,
 "nbformat_minor": 5
}
