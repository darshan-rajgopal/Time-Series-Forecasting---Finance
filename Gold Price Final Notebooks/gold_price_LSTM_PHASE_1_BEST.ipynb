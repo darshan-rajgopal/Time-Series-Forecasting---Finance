{
 "cells": [
  {
   "cell_type": "code",
   "execution_count": null,
   "id": "c2ef9b47",
   "metadata": {
    "id": "c2ef9b47"
   },
   "outputs": [],
   "source": [
    "import numpy as np\n",
    "import pandas as pd\n",
    "from tensorflow.keras.models import Sequential\n",
    "from tensorflow.keras.layers import LSTM\n",
    "from tensorflow.keras.layers import Dense\n",
    "from tensorflow.keras.layers import Flatten\n",
    "import matplotlib.pyplot as plt\n",
    "import warnings\n",
    "warnings.filterwarnings('ignore')\n",
    "%matplotlib inline\n",
    "from sklearn.metrics import mean_absolute_error as mae\n",
    "from pandas.tseries.offsets import BDay"
   ]
  },
  {
   "cell_type": "code",
   "execution_count": null,
   "id": "iGQk9lcRmucZ",
   "metadata": {
    "colab": {
     "base_uri": "https://localhost:8080/"
    },
    "id": "iGQk9lcRmucZ",
    "outputId": "d3a11a5f-b65e-467d-f424-b23ce104c25e"
   },
   "outputs": [
    {
     "name": "stdout",
     "output_type": "stream",
     "text": [
      "Mounted at /content/drive\n"
     ]
    }
   ],
   "source": [
    "from google.colab import drive\n",
    "drive.mount('/content/drive')"
   ]
  },
  {
   "cell_type": "code",
   "execution_count": null,
   "id": "BxDZtfokj6Da",
   "metadata": {
    "colab": {
     "base_uri": "https://localhost:8080/",
     "height": 35
    },
    "id": "BxDZtfokj6Da",
    "outputId": "b20dcdbd-c02a-48ad-a576-4ba9370acae1"
   },
   "outputs": [
    {
     "data": {
      "application/vnd.google.colaboratory.intrinsic+json": {
       "type": "string"
      },
      "text/plain": [
       "'/device:GPU:0'"
      ]
     },
     "execution_count": 5,
     "metadata": {},
     "output_type": "execute_result"
    }
   ],
   "source": [
    "import tensorflow as tf\n",
    "tf.test.gpu_device_name()"
   ]
  },
  {
   "cell_type": "code",
   "execution_count": null,
   "id": "UDt4KrAxj6JS",
   "metadata": {
    "colab": {
     "base_uri": "https://localhost:8080/"
    },
    "id": "UDt4KrAxj6JS",
    "outputId": "be42459a-6cab-4413-ad0b-63649edbb83c"
   },
   "outputs": [
    {
     "data": {
      "text/plain": [
       "[name: \"/device:CPU:0\"\n",
       " device_type: \"CPU\"\n",
       " memory_limit: 268435456\n",
       " locality {\n",
       " }\n",
       " incarnation: 5764866776671871675\n",
       " xla_global_id: -1]"
      ]
     },
     "execution_count": 3,
     "metadata": {},
     "output_type": "execute_result"
    }
   ],
   "source": [
    "from tensorflow.python.client import device_lib\n",
    "device_lib.list_local_devices()"
   ]
  },
  {
   "cell_type": "code",
   "execution_count": null,
   "id": "30d066a0",
   "metadata": {
    "colab": {
     "base_uri": "https://localhost:8080/",
     "height": 478
    },
    "id": "30d066a0",
    "outputId": "57272778-62c7-4fd2-ca0c-71624a2460c1"
   },
   "outputs": [
    {
     "data": {
      "text/html": [
       "\n",
       "  <div id=\"df-5d29e803-b734-4970-99d6-6af12415eb6e\">\n",
       "    <div class=\"colab-df-container\">\n",
       "      <div>\n",
       "<style scoped>\n",
       "    .dataframe tbody tr th:only-of-type {\n",
       "        vertical-align: middle;\n",
       "    }\n",
       "\n",
       "    .dataframe tbody tr th {\n",
       "        vertical-align: top;\n",
       "    }\n",
       "\n",
       "    .dataframe thead th {\n",
       "        text-align: right;\n",
       "    }\n",
       "</style>\n",
       "<table border=\"1\" class=\"dataframe\">\n",
       "  <thead>\n",
       "    <tr style=\"text-align: right;\">\n",
       "      <th></th>\n",
       "      <th>Name</th>\n",
       "      <th>US dollar</th>\n",
       "      <th>Euro</th>\n",
       "      <th>Japanese yen</th>\n",
       "      <th>Pound sterling</th>\n",
       "      <th>Canadian dollar</th>\n",
       "      <th>Swiss franc</th>\n",
       "      <th>Indian rupee</th>\n",
       "      <th>Chinese renmimbi</th>\n",
       "      <th>US dollar.1</th>\n",
       "      <th>Turkish lira</th>\n",
       "      <th>Saudi riyal</th>\n",
       "      <th>Indonesian rupiah</th>\n",
       "      <th>UAE dirham</th>\n",
       "      <th>Thai baht</th>\n",
       "      <th>Vietnamese dong</th>\n",
       "      <th>Egyptian pound</th>\n",
       "      <th>Korean won</th>\n",
       "      <th>Euro.1</th>\n",
       "      <th>Russian ruble</th>\n",
       "      <th>US dollar.2</th>\n",
       "      <th>South African rand</th>\n",
       "      <th>Chinese renmimbi.1</th>\n",
       "      <th>Canadian dollar.1</th>\n",
       "      <th>Australian dollar</th>\n",
       "    </tr>\n",
       "  </thead>\n",
       "  <tbody>\n",
       "    <tr>\n",
       "      <th>0</th>\n",
       "      <td>29-12-1978</td>\n",
       "      <td>226.0</td>\n",
       "      <td>137.1</td>\n",
       "      <td>NaN</td>\n",
       "      <td>110.7</td>\n",
       "      <td>NaN</td>\n",
       "      <td>NaN</td>\n",
       "      <td>NaN</td>\n",
       "      <td>NaN</td>\n",
       "      <td>226.0</td>\n",
       "      <td>NaN</td>\n",
       "      <td>NaN</td>\n",
       "      <td>NaN</td>\n",
       "      <td>NaN</td>\n",
       "      <td>NaN</td>\n",
       "      <td>NaN</td>\n",
       "      <td>NaN</td>\n",
       "      <td>NaN</td>\n",
       "      <td>137.1</td>\n",
       "      <td>NaN</td>\n",
       "      <td>226.0</td>\n",
       "      <td>NaN</td>\n",
       "      <td>NaN</td>\n",
       "      <td>NaN</td>\n",
       "      <td>NaN</td>\n",
       "    </tr>\n",
       "    <tr>\n",
       "      <th>1</th>\n",
       "      <td>01-01-1979</td>\n",
       "      <td>226.0</td>\n",
       "      <td>137.1</td>\n",
       "      <td>NaN</td>\n",
       "      <td>110.7</td>\n",
       "      <td>NaN</td>\n",
       "      <td>NaN</td>\n",
       "      <td>NaN</td>\n",
       "      <td>NaN</td>\n",
       "      <td>226.0</td>\n",
       "      <td>NaN</td>\n",
       "      <td>NaN</td>\n",
       "      <td>NaN</td>\n",
       "      <td>NaN</td>\n",
       "      <td>NaN</td>\n",
       "      <td>NaN</td>\n",
       "      <td>NaN</td>\n",
       "      <td>NaN</td>\n",
       "      <td>137.1</td>\n",
       "      <td>NaN</td>\n",
       "      <td>226.0</td>\n",
       "      <td>NaN</td>\n",
       "      <td>NaN</td>\n",
       "      <td>NaN</td>\n",
       "      <td>NaN</td>\n",
       "    </tr>\n",
       "    <tr>\n",
       "      <th>2</th>\n",
       "      <td>02-01-1979</td>\n",
       "      <td>226.8</td>\n",
       "      <td>137.3</td>\n",
       "      <td>43164.9</td>\n",
       "      <td>111.5</td>\n",
       "      <td>263.7</td>\n",
       "      <td>359.6</td>\n",
       "      <td>1792.9</td>\n",
       "      <td>NaN</td>\n",
       "      <td>226.8</td>\n",
       "      <td>NaN</td>\n",
       "      <td>735.6</td>\n",
       "      <td>138160.5</td>\n",
       "      <td>851.3</td>\n",
       "      <td>4454.6</td>\n",
       "      <td>NaN</td>\n",
       "      <td>NaN</td>\n",
       "      <td>107470.0</td>\n",
       "      <td>137.3</td>\n",
       "      <td>NaN</td>\n",
       "      <td>226.8</td>\n",
       "      <td>194.6</td>\n",
       "      <td>NaN</td>\n",
       "      <td>263.7</td>\n",
       "      <td>193.6</td>\n",
       "    </tr>\n",
       "    <tr>\n",
       "      <th>3</th>\n",
       "      <td>03-01-1979</td>\n",
       "      <td>218.6</td>\n",
       "      <td>134.0</td>\n",
       "      <td>43717.9</td>\n",
       "      <td>108.0</td>\n",
       "      <td>264.4</td>\n",
       "      <td>365.9</td>\n",
       "      <td>1802.2</td>\n",
       "      <td>NaN</td>\n",
       "      <td>218.6</td>\n",
       "      <td>NaN</td>\n",
       "      <td>739.4</td>\n",
       "      <td>138877.0</td>\n",
       "      <td>855.7</td>\n",
       "      <td>4477.7</td>\n",
       "      <td>NaN</td>\n",
       "      <td>NaN</td>\n",
       "      <td>108027.4</td>\n",
       "      <td>134.0</td>\n",
       "      <td>NaN</td>\n",
       "      <td>218.6</td>\n",
       "      <td>192.2</td>\n",
       "      <td>NaN</td>\n",
       "      <td>264.4</td>\n",
       "      <td>193.0</td>\n",
       "    </tr>\n",
       "    <tr>\n",
       "      <th>4</th>\n",
       "      <td>04-01-1979</td>\n",
       "      <td>223.2</td>\n",
       "      <td>136.8</td>\n",
       "      <td>43674.9</td>\n",
       "      <td>110.7</td>\n",
       "      <td>264.1</td>\n",
       "      <td>366.4</td>\n",
       "      <td>1811.7</td>\n",
       "      <td>NaN</td>\n",
       "      <td>223.2</td>\n",
       "      <td>NaN</td>\n",
       "      <td>743.4</td>\n",
       "      <td>139616.3</td>\n",
       "      <td>860.3</td>\n",
       "      <td>4501.5</td>\n",
       "      <td>NaN</td>\n",
       "      <td>NaN</td>\n",
       "      <td>108602.5</td>\n",
       "      <td>136.8</td>\n",
       "      <td>NaN</td>\n",
       "      <td>223.2</td>\n",
       "      <td>193.0</td>\n",
       "      <td>NaN</td>\n",
       "      <td>264.1</td>\n",
       "      <td>194.6</td>\n",
       "    </tr>\n",
       "  </tbody>\n",
       "</table>\n",
       "</div>\n",
       "      <button class=\"colab-df-convert\" onclick=\"convertToInteractive('df-5d29e803-b734-4970-99d6-6af12415eb6e')\"\n",
       "              title=\"Convert this dataframe to an interactive table.\"\n",
       "              style=\"display:none;\">\n",
       "        \n",
       "  <svg xmlns=\"http://www.w3.org/2000/svg\" height=\"24px\"viewBox=\"0 0 24 24\"\n",
       "       width=\"24px\">\n",
       "    <path d=\"M0 0h24v24H0V0z\" fill=\"none\"/>\n",
       "    <path d=\"M18.56 5.44l.94 2.06.94-2.06 2.06-.94-2.06-.94-.94-2.06-.94 2.06-2.06.94zm-11 1L8.5 8.5l.94-2.06 2.06-.94-2.06-.94L8.5 2.5l-.94 2.06-2.06.94zm10 10l.94 2.06.94-2.06 2.06-.94-2.06-.94-.94-2.06-.94 2.06-2.06.94z\"/><path d=\"M17.41 7.96l-1.37-1.37c-.4-.4-.92-.59-1.43-.59-.52 0-1.04.2-1.43.59L10.3 9.45l-7.72 7.72c-.78.78-.78 2.05 0 2.83L4 21.41c.39.39.9.59 1.41.59.51 0 1.02-.2 1.41-.59l7.78-7.78 2.81-2.81c.8-.78.8-2.07 0-2.86zM5.41 20L4 18.59l7.72-7.72 1.47 1.35L5.41 20z\"/>\n",
       "  </svg>\n",
       "      </button>\n",
       "      \n",
       "  <style>\n",
       "    .colab-df-container {\n",
       "      display:flex;\n",
       "      flex-wrap:wrap;\n",
       "      gap: 12px;\n",
       "    }\n",
       "\n",
       "    .colab-df-convert {\n",
       "      background-color: #E8F0FE;\n",
       "      border: none;\n",
       "      border-radius: 50%;\n",
       "      cursor: pointer;\n",
       "      display: none;\n",
       "      fill: #1967D2;\n",
       "      height: 32px;\n",
       "      padding: 0 0 0 0;\n",
       "      width: 32px;\n",
       "    }\n",
       "\n",
       "    .colab-df-convert:hover {\n",
       "      background-color: #E2EBFA;\n",
       "      box-shadow: 0px 1px 2px rgba(60, 64, 67, 0.3), 0px 1px 3px 1px rgba(60, 64, 67, 0.15);\n",
       "      fill: #174EA6;\n",
       "    }\n",
       "\n",
       "    [theme=dark] .colab-df-convert {\n",
       "      background-color: #3B4455;\n",
       "      fill: #D2E3FC;\n",
       "    }\n",
       "\n",
       "    [theme=dark] .colab-df-convert:hover {\n",
       "      background-color: #434B5C;\n",
       "      box-shadow: 0px 1px 3px 1px rgba(0, 0, 0, 0.15);\n",
       "      filter: drop-shadow(0px 1px 2px rgba(0, 0, 0, 0.3));\n",
       "      fill: #FFFFFF;\n",
       "    }\n",
       "  </style>\n",
       "\n",
       "      <script>\n",
       "        const buttonEl =\n",
       "          document.querySelector('#df-5d29e803-b734-4970-99d6-6af12415eb6e button.colab-df-convert');\n",
       "        buttonEl.style.display =\n",
       "          google.colab.kernel.accessAllowed ? 'block' : 'none';\n",
       "\n",
       "        async function convertToInteractive(key) {\n",
       "          const element = document.querySelector('#df-5d29e803-b734-4970-99d6-6af12415eb6e');\n",
       "          const dataTable =\n",
       "            await google.colab.kernel.invokeFunction('convertToInteractive',\n",
       "                                                     [key], {});\n",
       "          if (!dataTable) return;\n",
       "\n",
       "          const docLinkHtml = 'Like what you see? Visit the ' +\n",
       "            '<a target=\"_blank\" href=https://colab.research.google.com/notebooks/data_table.ipynb>data table notebook</a>'\n",
       "            + ' to learn more about interactive tables.';\n",
       "          element.innerHTML = '';\n",
       "          dataTable['output_type'] = 'display_data';\n",
       "          await google.colab.output.renderOutput(dataTable, element);\n",
       "          const docLink = document.createElement('div');\n",
       "          docLink.innerHTML = docLinkHtml;\n",
       "          element.appendChild(docLink);\n",
       "        }\n",
       "      </script>\n",
       "    </div>\n",
       "  </div>\n",
       "  "
      ],
      "text/plain": [
       "         Name  US dollar  ...  Canadian dollar.1  Australian dollar\n",
       "0  29-12-1978      226.0  ...                NaN                NaN\n",
       "1  01-01-1979      226.0  ...                NaN                NaN\n",
       "2  02-01-1979      226.8  ...              263.7              193.6\n",
       "3  03-01-1979      218.6  ...              264.4              193.0\n",
       "4  04-01-1979      223.2  ...              264.1              194.6\n",
       "\n",
       "[5 rows x 25 columns]"
      ]
     },
     "execution_count": 4,
     "metadata": {},
     "output_type": "execute_result"
    }
   ],
   "source": [
    "df_main = pd.read_csv('/content/drive/MyDrive/Colab Notebooks/Financial/Gold_Price_Dataset.csv')\n",
    "df_main.head()"
   ]
  },
  {
   "cell_type": "code",
   "execution_count": null,
   "id": "0482272d",
   "metadata": {
    "colab": {
     "base_uri": "https://localhost:8080/"
    },
    "id": "0482272d",
    "outputId": "beafced1-d945-449d-aa99-2b72668b3035"
   },
   "outputs": [
    {
     "data": {
      "text/plain": [
       "(10901, 25)"
      ]
     },
     "execution_count": 5,
     "metadata": {},
     "output_type": "execute_result"
    }
   ],
   "source": [
    "df_main.shape"
   ]
  },
  {
   "cell_type": "code",
   "execution_count": null,
   "id": "076f1ad3",
   "metadata": {
    "colab": {
     "base_uri": "https://localhost:8080/"
    },
    "id": "076f1ad3",
    "outputId": "cd1a51a6-9cfb-4de6-8929-8416c1c18959"
   },
   "outputs": [
    {
     "name": "stdout",
     "output_type": "stream",
     "text": [
      "<class 'pandas.core.frame.DataFrame'>\n",
      "RangeIndex: 10901 entries, 0 to 10900\n",
      "Data columns (total 25 columns):\n",
      " #   Column              Non-Null Count  Dtype  \n",
      "---  ------              --------------  -----  \n",
      " 0   Name                10901 non-null  object \n",
      " 1   US dollar           10901 non-null  float64\n",
      " 2   Euro                10901 non-null  float64\n",
      " 3   Japanese yen        10899 non-null  float64\n",
      " 4   Pound sterling      10901 non-null  float64\n",
      " 5   Canadian dollar     10899 non-null  float64\n",
      " 6   Swiss franc         10899 non-null  float64\n",
      " 7   Indian rupee        10899 non-null  float64\n",
      " 8   Chinese renmimbi    9330 non-null   float64\n",
      " 9   US dollar.1         10901 non-null  float64\n",
      " 10  Turkish lira        9856 non-null   float64\n",
      " 11  Saudi riyal         10899 non-null  float64\n",
      " 12  Indonesian rupiah   10899 non-null  float64\n",
      " 13  UAE dirham          10899 non-null  float64\n",
      " 14  Thai baht           10899 non-null  float64\n",
      " 15  Vietnamese dong     8050 non-null   float64\n",
      " 16  Egyptian pound      8310 non-null   float64\n",
      " 17  Korean won          10899 non-null  float64\n",
      " 18  Euro.1              10901 non-null  float64\n",
      " 19  Russian ruble       7240 non-null   float64\n",
      " 20  US dollar.2         10901 non-null  float64\n",
      " 21  South African rand  10899 non-null  float64\n",
      " 22  Chinese renmimbi.1  9330 non-null   float64\n",
      " 23  Canadian dollar.1   10899 non-null  float64\n",
      " 24  Australian dollar   10899 non-null  float64\n",
      "dtypes: float64(24), object(1)\n",
      "memory usage: 2.1+ MB\n"
     ]
    }
   ],
   "source": [
    "df_main.info()"
   ]
  },
  {
   "cell_type": "code",
   "execution_count": null,
   "id": "299Ffir6CYSN",
   "metadata": {
    "id": "299Ffir6CYSN"
   },
   "outputs": [],
   "source": [
    "time = pd.date_range(start='12/29/1978',periods=10901,freq=BDay())\n",
    "df_main['time_stamp'] = pd.DataFrame(time)\n",
    "df_main.drop(['Name'],axis=1,inplace=True)\n",
    "df_main = df_main.set_index('time_stamp')"
   ]
  },
  {
   "cell_type": "code",
   "execution_count": null,
   "id": "1CZBnYRqChDE",
   "metadata": {
    "id": "1CZBnYRqChDE"
   },
   "outputs": [],
   "source": [
    "df = df_main[['US dollar']]"
   ]
  },
  {
   "cell_type": "code",
   "execution_count": null,
   "id": "s8v0QApu_eHS",
   "metadata": {
    "colab": {
     "base_uri": "https://localhost:8080/"
    },
    "id": "s8v0QApu_eHS",
    "outputId": "5874e70a-3c09-47ae-8403-f59a3b71477f"
   },
   "outputs": [
    {
     "data": {
      "text/plain": [
       "(10901, 1)"
      ]
     },
     "execution_count": 9,
     "metadata": {},
     "output_type": "execute_result"
    }
   ],
   "source": [
    "df.shape"
   ]
  },
  {
   "cell_type": "code",
   "execution_count": null,
   "id": "-8gUQbCI7Sow",
   "metadata": {
    "colab": {
     "base_uri": "https://localhost:8080/"
    },
    "id": "-8gUQbCI7Sow",
    "outputId": "4daf14ae-3826-42a6-f9c3-27af5e1fb07e"
   },
   "outputs": [
    {
     "data": {
      "text/plain": [
       "US dollar    0\n",
       "dtype: int64"
      ]
     },
     "execution_count": 10,
     "metadata": {},
     "output_type": "execute_result"
    }
   ],
   "source": [
    "df.isnull().sum()"
   ]
  },
  {
   "cell_type": "code",
   "execution_count": null,
   "id": "CqvBttFi7SsL",
   "metadata": {
    "id": "CqvBttFi7SsL"
   },
   "outputs": [],
   "source": [
    "df.columns=['USD']"
   ]
  },
  {
   "cell_type": "code",
   "execution_count": null,
   "id": "oYAsh_OytrPi",
   "metadata": {
    "colab": {
     "base_uri": "https://localhost:8080/",
     "height": 238
    },
    "id": "oYAsh_OytrPi",
    "outputId": "a8907263-1746-4d77-d1b2-36fc67c9767d"
   },
   "outputs": [
    {
     "data": {
      "text/html": [
       "\n",
       "  <div id=\"df-9f30cda1-8bd8-45c1-b3c8-8613be1f774b\">\n",
       "    <div class=\"colab-df-container\">\n",
       "      <div>\n",
       "<style scoped>\n",
       "    .dataframe tbody tr th:only-of-type {\n",
       "        vertical-align: middle;\n",
       "    }\n",
       "\n",
       "    .dataframe tbody tr th {\n",
       "        vertical-align: top;\n",
       "    }\n",
       "\n",
       "    .dataframe thead th {\n",
       "        text-align: right;\n",
       "    }\n",
       "</style>\n",
       "<table border=\"1\" class=\"dataframe\">\n",
       "  <thead>\n",
       "    <tr style=\"text-align: right;\">\n",
       "      <th></th>\n",
       "      <th>USD</th>\n",
       "    </tr>\n",
       "    <tr>\n",
       "      <th>time_stamp</th>\n",
       "      <th></th>\n",
       "    </tr>\n",
       "  </thead>\n",
       "  <tbody>\n",
       "    <tr>\n",
       "      <th>1978-12-29</th>\n",
       "      <td>226.0</td>\n",
       "    </tr>\n",
       "    <tr>\n",
       "      <th>1979-01-01</th>\n",
       "      <td>226.0</td>\n",
       "    </tr>\n",
       "    <tr>\n",
       "      <th>1979-01-02</th>\n",
       "      <td>226.8</td>\n",
       "    </tr>\n",
       "    <tr>\n",
       "      <th>1979-01-03</th>\n",
       "      <td>218.6</td>\n",
       "    </tr>\n",
       "    <tr>\n",
       "      <th>1979-01-04</th>\n",
       "      <td>223.2</td>\n",
       "    </tr>\n",
       "  </tbody>\n",
       "</table>\n",
       "</div>\n",
       "      <button class=\"colab-df-convert\" onclick=\"convertToInteractive('df-9f30cda1-8bd8-45c1-b3c8-8613be1f774b')\"\n",
       "              title=\"Convert this dataframe to an interactive table.\"\n",
       "              style=\"display:none;\">\n",
       "        \n",
       "  <svg xmlns=\"http://www.w3.org/2000/svg\" height=\"24px\"viewBox=\"0 0 24 24\"\n",
       "       width=\"24px\">\n",
       "    <path d=\"M0 0h24v24H0V0z\" fill=\"none\"/>\n",
       "    <path d=\"M18.56 5.44l.94 2.06.94-2.06 2.06-.94-2.06-.94-.94-2.06-.94 2.06-2.06.94zm-11 1L8.5 8.5l.94-2.06 2.06-.94-2.06-.94L8.5 2.5l-.94 2.06-2.06.94zm10 10l.94 2.06.94-2.06 2.06-.94-2.06-.94-.94-2.06-.94 2.06-2.06.94z\"/><path d=\"M17.41 7.96l-1.37-1.37c-.4-.4-.92-.59-1.43-.59-.52 0-1.04.2-1.43.59L10.3 9.45l-7.72 7.72c-.78.78-.78 2.05 0 2.83L4 21.41c.39.39.9.59 1.41.59.51 0 1.02-.2 1.41-.59l7.78-7.78 2.81-2.81c.8-.78.8-2.07 0-2.86zM5.41 20L4 18.59l7.72-7.72 1.47 1.35L5.41 20z\"/>\n",
       "  </svg>\n",
       "      </button>\n",
       "      \n",
       "  <style>\n",
       "    .colab-df-container {\n",
       "      display:flex;\n",
       "      flex-wrap:wrap;\n",
       "      gap: 12px;\n",
       "    }\n",
       "\n",
       "    .colab-df-convert {\n",
       "      background-color: #E8F0FE;\n",
       "      border: none;\n",
       "      border-radius: 50%;\n",
       "      cursor: pointer;\n",
       "      display: none;\n",
       "      fill: #1967D2;\n",
       "      height: 32px;\n",
       "      padding: 0 0 0 0;\n",
       "      width: 32px;\n",
       "    }\n",
       "\n",
       "    .colab-df-convert:hover {\n",
       "      background-color: #E2EBFA;\n",
       "      box-shadow: 0px 1px 2px rgba(60, 64, 67, 0.3), 0px 1px 3px 1px rgba(60, 64, 67, 0.15);\n",
       "      fill: #174EA6;\n",
       "    }\n",
       "\n",
       "    [theme=dark] .colab-df-convert {\n",
       "      background-color: #3B4455;\n",
       "      fill: #D2E3FC;\n",
       "    }\n",
       "\n",
       "    [theme=dark] .colab-df-convert:hover {\n",
       "      background-color: #434B5C;\n",
       "      box-shadow: 0px 1px 3px 1px rgba(0, 0, 0, 0.15);\n",
       "      filter: drop-shadow(0px 1px 2px rgba(0, 0, 0, 0.3));\n",
       "      fill: #FFFFFF;\n",
       "    }\n",
       "  </style>\n",
       "\n",
       "      <script>\n",
       "        const buttonEl =\n",
       "          document.querySelector('#df-9f30cda1-8bd8-45c1-b3c8-8613be1f774b button.colab-df-convert');\n",
       "        buttonEl.style.display =\n",
       "          google.colab.kernel.accessAllowed ? 'block' : 'none';\n",
       "\n",
       "        async function convertToInteractive(key) {\n",
       "          const element = document.querySelector('#df-9f30cda1-8bd8-45c1-b3c8-8613be1f774b');\n",
       "          const dataTable =\n",
       "            await google.colab.kernel.invokeFunction('convertToInteractive',\n",
       "                                                     [key], {});\n",
       "          if (!dataTable) return;\n",
       "\n",
       "          const docLinkHtml = 'Like what you see? Visit the ' +\n",
       "            '<a target=\"_blank\" href=https://colab.research.google.com/notebooks/data_table.ipynb>data table notebook</a>'\n",
       "            + ' to learn more about interactive tables.';\n",
       "          element.innerHTML = '';\n",
       "          dataTable['output_type'] = 'display_data';\n",
       "          await google.colab.output.renderOutput(dataTable, element);\n",
       "          const docLink = document.createElement('div');\n",
       "          docLink.innerHTML = docLinkHtml;\n",
       "          element.appendChild(docLink);\n",
       "        }\n",
       "      </script>\n",
       "    </div>\n",
       "  </div>\n",
       "  "
      ],
      "text/plain": [
       "              USD\n",
       "time_stamp       \n",
       "1978-12-29  226.0\n",
       "1979-01-01  226.0\n",
       "1979-01-02  226.8\n",
       "1979-01-03  218.6\n",
       "1979-01-04  223.2"
      ]
     },
     "execution_count": 12,
     "metadata": {},
     "output_type": "execute_result"
    }
   ],
   "source": [
    "df.head()"
   ]
  },
  {
   "cell_type": "code",
   "execution_count": null,
   "id": "PVfreeEkE1aG",
   "metadata": {
    "colab": {
     "base_uri": "https://localhost:8080/",
     "height": 238
    },
    "id": "PVfreeEkE1aG",
    "outputId": "fa27498a-34ef-410a-a077-193f3c4b37cf"
   },
   "outputs": [
    {
     "data": {
      "text/html": [
       "\n",
       "  <div id=\"df-80c15640-cc0b-40de-ab15-308412d098f3\">\n",
       "    <div class=\"colab-df-container\">\n",
       "      <div>\n",
       "<style scoped>\n",
       "    .dataframe tbody tr th:only-of-type {\n",
       "        vertical-align: middle;\n",
       "    }\n",
       "\n",
       "    .dataframe tbody tr th {\n",
       "        vertical-align: top;\n",
       "    }\n",
       "\n",
       "    .dataframe thead th {\n",
       "        text-align: right;\n",
       "    }\n",
       "</style>\n",
       "<table border=\"1\" class=\"dataframe\">\n",
       "  <thead>\n",
       "    <tr style=\"text-align: right;\">\n",
       "      <th></th>\n",
       "      <th>USD</th>\n",
       "    </tr>\n",
       "    <tr>\n",
       "      <th>time_stamp</th>\n",
       "      <th></th>\n",
       "    </tr>\n",
       "  </thead>\n",
       "  <tbody>\n",
       "    <tr>\n",
       "      <th>2020-10-05</th>\n",
       "      <td>1909.6</td>\n",
       "    </tr>\n",
       "    <tr>\n",
       "      <th>2020-10-06</th>\n",
       "      <td>1913.4</td>\n",
       "    </tr>\n",
       "    <tr>\n",
       "      <th>2020-10-07</th>\n",
       "      <td>1884.5</td>\n",
       "    </tr>\n",
       "    <tr>\n",
       "      <th>2020-10-08</th>\n",
       "      <td>1887.5</td>\n",
       "    </tr>\n",
       "    <tr>\n",
       "      <th>2020-10-09</th>\n",
       "      <td>1923.3</td>\n",
       "    </tr>\n",
       "  </tbody>\n",
       "</table>\n",
       "</div>\n",
       "      <button class=\"colab-df-convert\" onclick=\"convertToInteractive('df-80c15640-cc0b-40de-ab15-308412d098f3')\"\n",
       "              title=\"Convert this dataframe to an interactive table.\"\n",
       "              style=\"display:none;\">\n",
       "        \n",
       "  <svg xmlns=\"http://www.w3.org/2000/svg\" height=\"24px\"viewBox=\"0 0 24 24\"\n",
       "       width=\"24px\">\n",
       "    <path d=\"M0 0h24v24H0V0z\" fill=\"none\"/>\n",
       "    <path d=\"M18.56 5.44l.94 2.06.94-2.06 2.06-.94-2.06-.94-.94-2.06-.94 2.06-2.06.94zm-11 1L8.5 8.5l.94-2.06 2.06-.94-2.06-.94L8.5 2.5l-.94 2.06-2.06.94zm10 10l.94 2.06.94-2.06 2.06-.94-2.06-.94-.94-2.06-.94 2.06-2.06.94z\"/><path d=\"M17.41 7.96l-1.37-1.37c-.4-.4-.92-.59-1.43-.59-.52 0-1.04.2-1.43.59L10.3 9.45l-7.72 7.72c-.78.78-.78 2.05 0 2.83L4 21.41c.39.39.9.59 1.41.59.51 0 1.02-.2 1.41-.59l7.78-7.78 2.81-2.81c.8-.78.8-2.07 0-2.86zM5.41 20L4 18.59l7.72-7.72 1.47 1.35L5.41 20z\"/>\n",
       "  </svg>\n",
       "      </button>\n",
       "      \n",
       "  <style>\n",
       "    .colab-df-container {\n",
       "      display:flex;\n",
       "      flex-wrap:wrap;\n",
       "      gap: 12px;\n",
       "    }\n",
       "\n",
       "    .colab-df-convert {\n",
       "      background-color: #E8F0FE;\n",
       "      border: none;\n",
       "      border-radius: 50%;\n",
       "      cursor: pointer;\n",
       "      display: none;\n",
       "      fill: #1967D2;\n",
       "      height: 32px;\n",
       "      padding: 0 0 0 0;\n",
       "      width: 32px;\n",
       "    }\n",
       "\n",
       "    .colab-df-convert:hover {\n",
       "      background-color: #E2EBFA;\n",
       "      box-shadow: 0px 1px 2px rgba(60, 64, 67, 0.3), 0px 1px 3px 1px rgba(60, 64, 67, 0.15);\n",
       "      fill: #174EA6;\n",
       "    }\n",
       "\n",
       "    [theme=dark] .colab-df-convert {\n",
       "      background-color: #3B4455;\n",
       "      fill: #D2E3FC;\n",
       "    }\n",
       "\n",
       "    [theme=dark] .colab-df-convert:hover {\n",
       "      background-color: #434B5C;\n",
       "      box-shadow: 0px 1px 3px 1px rgba(0, 0, 0, 0.15);\n",
       "      filter: drop-shadow(0px 1px 2px rgba(0, 0, 0, 0.3));\n",
       "      fill: #FFFFFF;\n",
       "    }\n",
       "  </style>\n",
       "\n",
       "      <script>\n",
       "        const buttonEl =\n",
       "          document.querySelector('#df-80c15640-cc0b-40de-ab15-308412d098f3 button.colab-df-convert');\n",
       "        buttonEl.style.display =\n",
       "          google.colab.kernel.accessAllowed ? 'block' : 'none';\n",
       "\n",
       "        async function convertToInteractive(key) {\n",
       "          const element = document.querySelector('#df-80c15640-cc0b-40de-ab15-308412d098f3');\n",
       "          const dataTable =\n",
       "            await google.colab.kernel.invokeFunction('convertToInteractive',\n",
       "                                                     [key], {});\n",
       "          if (!dataTable) return;\n",
       "\n",
       "          const docLinkHtml = 'Like what you see? Visit the ' +\n",
       "            '<a target=\"_blank\" href=https://colab.research.google.com/notebooks/data_table.ipynb>data table notebook</a>'\n",
       "            + ' to learn more about interactive tables.';\n",
       "          element.innerHTML = '';\n",
       "          dataTable['output_type'] = 'display_data';\n",
       "          await google.colab.output.renderOutput(dataTable, element);\n",
       "          const docLink = document.createElement('div');\n",
       "          docLink.innerHTML = docLinkHtml;\n",
       "          element.appendChild(docLink);\n",
       "        }\n",
       "      </script>\n",
       "    </div>\n",
       "  </div>\n",
       "  "
      ],
      "text/plain": [
       "               USD\n",
       "time_stamp        \n",
       "2020-10-05  1909.6\n",
       "2020-10-06  1913.4\n",
       "2020-10-07  1884.5\n",
       "2020-10-08  1887.5\n",
       "2020-10-09  1923.3"
      ]
     },
     "execution_count": 13,
     "metadata": {},
     "output_type": "execute_result"
    }
   ],
   "source": [
    "df.tail()"
   ]
  },
  {
   "cell_type": "code",
   "execution_count": null,
   "id": "yBDUaFhPzMMb",
   "metadata": {
    "id": "yBDUaFhPzMMb"
   },
   "outputs": [],
   "source": [
    "plt.rcParams['figure.figsize'] = [15,8]"
   ]
  },
  {
   "cell_type": "code",
   "execution_count": null,
   "id": "cIgSM89EzBTw",
   "metadata": {
    "colab": {
     "base_uri": "https://localhost:8080/",
     "height": 523
    },
    "id": "cIgSM89EzBTw",
    "outputId": "80fa7765-1000-47ab-cf55-730974970392"
   },
   "outputs": [
    {
     "data": {
      "image/png": "[encoded data removed]",
      "text/plain": [
       "<Figure size 1080x576 with 1 Axes>"
      ]
     },
     "metadata": {},
     "output_type": "display_data"
    }
   ],
   "source": [
    "plt.plot(df,color='orange')\n",
    "plt.title('Daily Gold Price',fontsize=20)\n",
    "plt.xlabel('Date',fontsize=15)\n",
    "plt.ylabel('Units',fontsize=15)\n",
    "plt.show()"
   ]
  },
  {
   "cell_type": "code",
   "execution_count": null,
   "id": "bf59d3e0",
   "metadata": {
    "id": "bf59d3e0"
   },
   "outputs": [],
   "source": [
    "def convert2matrix(data_arr, look_back):\n",
    "    X, Y =[], []\n",
    "    for i in range(len(data_arr)-look_back):\n",
    "        d=i+look_back  \n",
    "        X.append(data_arr[i:d,0])\n",
    "        Y.append(data_arr[d,0])\n",
    "    return np.array(X), np.array(Y)"
   ]
  },
  {
   "cell_type": "code",
   "execution_count": null,
   "id": "5CBL1GHqurmE",
   "metadata": {
    "id": "5CBL1GHqurmE"
   },
   "outputs": [],
   "source": [
    "from sklearn.preprocessing import MinMaxScaler\n",
    "#create numpy.ndarray \n",
    "df['USD'] = df['USD'].astype(np.float32)\n",
    "df_arr = df.values\n",
    "df_arr = np.reshape(df_arr, (-1, 1))\n",
    "scaler = MinMaxScaler(feature_range=(0.1, 1))\n",
    "df_arr = scaler.fit_transform(df_arr)"
   ]
  },
  {
   "cell_type": "code",
   "execution_count": null,
   "id": "1cea6c5f",
   "metadata": {
    "id": "1cea6c5f"
   },
   "outputs": [],
   "source": [
    "#Split data set into testing dataset and train dataset\n",
    "train_size = 9801\n",
    "train, test =df_arr[0:train_size,:], df_arr[train_size:len(df_arr),:]\n",
    "# setup look_back window \n",
    "look_back = 4\n",
    "#convert dataset into right shape in order to input into the DNN\n",
    "trainX, trainY = convert2matrix(train, look_back)\n",
    "testX, testY = convert2matrix(test, look_back)\n",
    "trainX = np.reshape(trainX, (trainX.shape[0], 1, trainX.shape[1]))\n",
    "testX = np.reshape(testX, (testX.shape[0], 1, testX.shape[1]))"
   ]
  },
  {
   "cell_type": "code",
   "execution_count": null,
   "id": "c7d46c39",
   "metadata": {
    "colab": {
     "base_uri": "https://localhost:8080/"
    },
    "id": "c7d46c39",
    "outputId": "04fe0e31-c0bb-4636-d6d3-238003d1e523"
   },
   "outputs": [
    {
     "name": "stdout",
     "output_type": "stream",
     "text": [
      "(9797, 1, 4)\n",
      "(9797,)\n",
      "(1096, 1, 4)\n",
      "(1096,)\n"
     ]
    }
   ],
   "source": [
    "print(trainX.shape)\n",
    "print(trainY.shape)\n",
    "print(testX.shape)\n",
    "print(testY.shape)"
   ]
  },
  {
   "cell_type": "code",
   "execution_count": null,
   "id": "GIc1nRcCuP3G",
   "metadata": {
    "colab": {
     "base_uri": "https://localhost:8080/"
    },
    "id": "GIc1nRcCuP3G",
    "outputId": "1433e0ea-11d0-44dc-9c78-7133ac022a24"
   },
   "outputs": [
    {
     "name": "stdout",
     "output_type": "stream",
     "text": [
      "\u001b[?25l\r",
      "\u001b[K     |███▍                            | 10 kB 21.8 MB/s eta 0:00:01\r",
      "\u001b[K     |██████▊                         | 20 kB 25.5 MB/s eta 0:00:01\r",
      "\u001b[K     |██████████                      | 30 kB 28.5 MB/s eta 0:00:01\r",
      "\u001b[K     |█████████████▍                  | 40 kB 31.3 MB/s eta 0:00:01\r",
      "\u001b[K     |████████████████▊               | 51 kB 34.4 MB/s eta 0:00:01\r",
      "\u001b[K     |████████████████████            | 61 kB 37.9 MB/s eta 0:00:01\r",
      "\u001b[K     |███████████████████████▍        | 71 kB 32.1 MB/s eta 0:00:01\r",
      "\u001b[K     |██████████████████████████▊     | 81 kB 21.2 MB/s eta 0:00:01\r",
      "\u001b[K     |██████████████████████████████  | 92 kB 22.7 MB/s eta 0:00:01\r",
      "\u001b[K     |████████████████████████████████| 98 kB 5.8 MB/s \n",
      "\u001b[?25h"
     ]
    }
   ],
   "source": [
    "!pip install -q -U keras-tuner"
   ]
  },
  {
   "cell_type": "code",
   "execution_count": null,
   "id": "M5te5ih0uP6u",
   "metadata": {
    "id": "M5te5ih0uP6u"
   },
   "outputs": [],
   "source": [
    "import pandas as pd\n",
    "from tensorflow import keras\n",
    "from tensorflow.keras import layers\n",
    "from keras_tuner.tuners import RandomSearch\n",
    "from tensorflow.keras.models import Sequential\n",
    "from tensorflow.keras.layers import LSTM\n",
    "from tensorflow.keras.layers import Dense,Dropout,SimpleRNN\n",
    "from tensorflow.keras.layers import Flatten\n",
    "import matplotlib.pyplot as plt"
   ]
  },
  {
   "cell_type": "code",
   "execution_count": null,
   "id": "rYiJC5hXuP_e",
   "metadata": {
    "id": "rYiJC5hXuP_e"
   },
   "outputs": [],
   "source": [
    "def build_model(hp):\n",
    "    model = keras.Sequential()\n",
    "    model.add(LSTM(hp.Int('rnn_layer',min_value=8,max_value=256,step=8), activation=\"relu\",input_shape=(1,look_back),recurrent_dropout = hp.Choice(\"first_recurrent_dropout\",[0.2,0.3,0.4],default=0.2)))\n",
    "    model.add(Dense(hp.Int('dense_layer',min_value=8,max_value=256,step=8),activation=\"relu\"))\n",
    "    model.add(Dropout(hp.Float('Dropout_rate',min_value=0,max_value=0.5,step=0.1)))\n",
    "    model.add(layers.Dense(1, activation='linear'))\n",
    "    model.compile(\n",
    "        optimizer=keras.optimizers.Adam(\n",
    "             hp.Float('learning_rate', min_value=1e-4, max_value=1e-1, sampling=\"log\")),\n",
    "        loss='mape',\n",
    "        metrics=['mape'])\n",
    "    return model"
   ]
  },
  {
   "cell_type": "code",
   "execution_count": null,
   "id": "2h_gRerjuQCT",
   "metadata": {
    "id": "2h_gRerjuQCT"
   },
   "outputs": [],
   "source": [
    "tuner = RandomSearch(\n",
    "    build_model,\n",
    "    objective='val_mape',\n",
    "    max_trials=10,\n",
    "    executions_per_trial=1,\n",
    "    directory='project',\n",
    "    project_name='loa_em_3')"
   ]
  },
  {
   "cell_type": "code",
   "execution_count": null,
   "id": "Dg5AHN3guQFu",
   "metadata": {
    "colab": {
     "base_uri": "https://localhost:8080/"
    },
    "id": "Dg5AHN3guQFu",
    "outputId": "5fd0ded7-391b-409f-f50f-812e08502473"
   },
   "outputs": [
    {
     "name": "stdout",
     "output_type": "stream",
     "text": [
      "Search space summary\n",
      "Default search space size: 5\n",
      "rnn_layer (Int)\n",
      "{'default': None, 'conditions': [], 'min_value': 8, 'max_value': 256, 'step': 8, 'sampling': None}\n",
      "first_recurrent_dropout (Choice)\n",
      "{'default': 0.2, 'conditions': [], 'values': [0.2, 0.3, 0.4], 'ordered': True}\n",
      "dense_layer (Int)\n",
      "{'default': None, 'conditions': [], 'min_value': 8, 'max_value': 256, 'step': 8, 'sampling': None}\n",
      "Dropout_rate (Float)\n",
      "{'default': 0.0, 'conditions': [], 'min_value': 0.0, 'max_value': 0.5, 'step': 0.1, 'sampling': None}\n",
      "learning_rate (Float)\n",
      "{'default': 0.0001, 'conditions': [], 'min_value': 0.0001, 'max_value': 0.1, 'step': None, 'sampling': 'log'}\n"
     ]
    }
   ],
   "source": [
    "tuner.search_space_summary()"
   ]
  },
  {
   "cell_type": "code",
   "execution_count": null,
   "id": "TiBXdF0K8Gpr",
   "metadata": {
    "colab": {
     "background_save": true,
     "base_uri": "https://localhost:8080/"
    },
    "id": "TiBXdF0K8Gpr",
    "outputId": "7b57b858-c51a-446d-aed4-98800b3b36d7"
   },
   "outputs": [
    {
     "name": "stdout",
     "output_type": "stream",
     "text": [
      "Trial 10 Complete [00h 08m 07s]\n",
      "val_mape: 0.5916268825531006\n",
      "\n",
      "Best val_mape So Far: 0.5724546909332275\n",
      "Total elapsed time: 01h 00m 05s\n",
      "INFO:tensorflow:Oracle triggered exit\n"
     ]
    }
   ],
   "source": [
    "tuner.search(trainX, trainY,\n",
    "             epochs=200,\n",
    "             batch_size=32,\n",
    "             validation_data=(testX, testY))"
   ]
  },
  {
   "cell_type": "code",
   "execution_count": 27,
   "id": "VXXGH_RK8GsD",
   "metadata": {
    "colab": {
     "base_uri": "https://localhost:8080/"
    },
    "id": "VXXGH_RK8GsD",
    "outputId": "45f30cc2-14fd-48b6-9f5f-6c88e4e246c0"
   },
   "outputs": [
    {
     "name": "stdout",
     "output_type": "stream",
     "text": [
      "Results summary\n",
      "Results in project/loa_em_3\n",
      "Showing 10 best trials\n",
      "Objective(name='val_mape', direction='min')\n",
      "Trial summary\n",
      "Hyperparameters:\n",
      "rnn_layer: 64\n",
      "first_recurrent_dropout: 0.2\n",
      "dense_layer: 72\n",
      "Dropout_rate: 0.0\n",
      "learning_rate: 0.001123741948168883\n",
      "Score: 0.5724546909332275\n",
      "Trial summary\n",
      "Hyperparameters:\n",
      "rnn_layer: 192\n",
      "first_recurrent_dropout: 0.3\n",
      "dense_layer: 144\n",
      "Dropout_rate: 0.1\n",
      "learning_rate: 0.0002610893532202307\n",
      "Score: 0.5916268825531006\n",
      "Trial summary\n",
      "Hyperparameters:\n",
      "rnn_layer: 88\n",
      "first_recurrent_dropout: 0.3\n",
      "dense_layer: 72\n",
      "Dropout_rate: 0.1\n",
      "learning_rate: 0.0012803204028293482\n",
      "Score: 0.5926401019096375\n",
      "Trial summary\n",
      "Hyperparameters:\n",
      "rnn_layer: 152\n",
      "first_recurrent_dropout: 0.4\n",
      "dense_layer: 152\n",
      "Dropout_rate: 0.4\n",
      "learning_rate: 0.0029717811720334567\n",
      "Score: 0.5976554751396179\n",
      "Trial summary\n",
      "Hyperparameters:\n",
      "rnn_layer: 64\n",
      "first_recurrent_dropout: 0.2\n",
      "dense_layer: 88\n",
      "Dropout_rate: 0.2\n",
      "learning_rate: 0.0073532321854386795\n",
      "Score: 0.6026126146316528\n",
      "Trial summary\n",
      "Hyperparameters:\n",
      "rnn_layer: 16\n",
      "first_recurrent_dropout: 0.4\n",
      "dense_layer: 128\n",
      "Dropout_rate: 0.1\n",
      "learning_rate: 0.00044395582196841624\n",
      "Score: 0.6073046922683716\n",
      "Trial summary\n",
      "Hyperparameters:\n",
      "rnn_layer: 16\n",
      "first_recurrent_dropout: 0.3\n",
      "dense_layer: 232\n",
      "Dropout_rate: 0.1\n",
      "learning_rate: 0.019515193071161903\n",
      "Score: 0.6351466774940491\n",
      "Trial summary\n",
      "Hyperparameters:\n",
      "rnn_layer: 168\n",
      "first_recurrent_dropout: 0.2\n",
      "dense_layer: 200\n",
      "Dropout_rate: 0.4\n",
      "learning_rate: 0.024206135267773626\n",
      "Score: 0.6743482947349548\n",
      "Trial summary\n",
      "Hyperparameters:\n",
      "rnn_layer: 208\n",
      "first_recurrent_dropout: 0.4\n",
      "dense_layer: 24\n",
      "Dropout_rate: 0.2\n",
      "learning_rate: 0.04663219257760953\n",
      "Score: 0.7133942246437073\n",
      "Trial summary\n",
      "Hyperparameters:\n",
      "rnn_layer: 16\n",
      "first_recurrent_dropout: 0.4\n",
      "dense_layer: 8\n",
      "Dropout_rate: 0.30000000000000004\n",
      "learning_rate: 0.00013768736261195804\n",
      "Score: 16.458566665649414\n"
     ]
    }
   ],
   "source": [
    "tuner.results_summary()"
   ]
  },
  {
   "cell_type": "code",
   "execution_count": 28,
   "id": "FBpLenJ_DZMX",
   "metadata": {
    "id": "FBpLenJ_DZMX"
   },
   "outputs": [],
   "source": [
    "from warnings import filterwarnings\n",
    "filterwarnings('ignore')"
   ]
  },
  {
   "cell_type": "code",
   "execution_count": 29,
   "id": "eL-a8rAv8Gvg",
   "metadata": {
    "colab": {
     "base_uri": "https://localhost:8080/"
    },
    "id": "eL-a8rAv8Gvg",
    "outputId": "96c60de3-0f7e-4bf8-de8f-5bdc4c880ec8"
   },
   "outputs": [
    {
     "name": "stdout",
     "output_type": "stream",
     "text": [
      "Model: \"sequential\"\n",
      "_________________________________________________________________\n",
      " Layer (type)                Output Shape              Param #   \n",
      "=================================================================\n",
      " lstm (LSTM)                 (None, 64)                17664     \n",
      "                                                                 \n",
      " dense (Dense)               (None, 72)                4680      \n",
      "                                                                 \n",
      " dropout (Dropout)           (None, 72)                0         \n",
      "                                                                 \n",
      " dense_1 (Dense)             (None, 1)                 73        \n",
      "                                                                 \n",
      "=================================================================\n",
      "Total params: 22,417\n",
      "Trainable params: 22,417\n",
      "Non-trainable params: 0\n",
      "_________________________________________________________________\n"
     ]
    }
   ],
   "source": [
    "models = tuner.get_best_models(num_models=2)\n",
    "best_model = models[0]\n",
    "# Build the model.\n",
    "# Needed for `Sequential` without specified `input_shape`.\n",
    "best_model.build(input_shape=(None, 4))\n",
    "best_model.summary()"
   ]
  },
  {
   "cell_type": "code",
   "execution_count": 30,
   "id": "ovKDjDHZEmLV",
   "metadata": {
    "id": "ovKDjDHZEmLV"
   },
   "outputs": [],
   "source": [
    "from tensorflow.keras import optimizers\n",
    "from tensorflow.keras.callbacks import EarlyStopping"
   ]
  },
  {
   "cell_type": "code",
   "execution_count": 31,
   "id": "9NTj0UnjLqZa",
   "metadata": {
    "colab": {
     "base_uri": "https://localhost:8080/"
    },
    "id": "9NTj0UnjLqZa",
    "outputId": "422a3e5b-355c-4ade-ce37-63cb21f6d52b"
   },
   "outputs": [
    {
     "name": "stdout",
     "output_type": "stream",
     "text": [
      "Epoch 1/200\n",
      "307/307 [==============================] - 4s 5ms/step - loss: 94.0989 - mape: 94.0989 - val_loss: 93.7095 - val_mape: 93.7095\n",
      "Epoch 2/200\n",
      "307/307 [==============================] - 1s 4ms/step - loss: 78.9507 - mape: 78.9507 - val_loss: 85.6907 - val_mape: 85.6907\n",
      "Epoch 3/200\n",
      "307/307 [==============================] - 1s 4ms/step - loss: 63.7960 - mape: 63.7960 - val_loss: 76.9601 - val_mape: 76.9601\n",
      "Epoch 4/200\n",
      "307/307 [==============================] - 1s 4ms/step - loss: 47.5978 - mape: 47.5978 - val_loss: 67.3351 - val_mape: 67.3351\n",
      "Epoch 5/200\n",
      "307/307 [==============================] - 1s 4ms/step - loss: 30.5132 - mape: 30.5132 - val_loss: 57.3990 - val_mape: 57.3990\n",
      "Epoch 6/200\n",
      "307/307 [==============================] - 1s 4ms/step - loss: 21.6301 - mape: 21.6301 - val_loss: 50.8361 - val_mape: 50.8361\n",
      "Epoch 7/200\n",
      "307/307 [==============================] - 1s 4ms/step - loss: 19.5547 - mape: 19.5547 - val_loss: 47.3380 - val_mape: 47.3380\n",
      "Epoch 8/200\n",
      "307/307 [==============================] - 1s 4ms/step - loss: 18.7703 - mape: 18.7703 - val_loss: 45.1139 - val_mape: 45.1139\n",
      "Epoch 9/200\n",
      "307/307 [==============================] - 1s 4ms/step - loss: 18.0094 - mape: 18.0094 - val_loss: 42.8560 - val_mape: 42.8560\n",
      "Epoch 10/200\n",
      "307/307 [==============================] - 1s 4ms/step - loss: 17.1481 - mape: 17.1481 - val_loss: 40.1790 - val_mape: 40.1790\n",
      "Epoch 11/200\n",
      "307/307 [==============================] - 1s 4ms/step - loss: 16.1599 - mape: 16.1599 - val_loss: 37.2042 - val_mape: 37.2042\n",
      "Epoch 12/200\n",
      "307/307 [==============================] - 1s 4ms/step - loss: 15.0273 - mape: 15.0273 - val_loss: 33.8116 - val_mape: 33.8116\n",
      "Epoch 13/200\n",
      "307/307 [==============================] - 1s 4ms/step - loss: 13.7381 - mape: 13.7381 - val_loss: 30.1939 - val_mape: 30.1939\n",
      "Epoch 14/200\n",
      "307/307 [==============================] - 1s 4ms/step - loss: 12.2711 - mape: 12.2711 - val_loss: 26.1449 - val_mape: 26.1449\n",
      "Epoch 15/200\n",
      "307/307 [==============================] - 1s 4ms/step - loss: 10.5963 - mape: 10.5963 - val_loss: 21.2747 - val_mape: 21.2747\n",
      "Epoch 16/200\n",
      "307/307 [==============================] - 1s 4ms/step - loss: 8.7016 - mape: 8.7016 - val_loss: 15.7986 - val_mape: 15.7986\n",
      "Epoch 17/200\n",
      "307/307 [==============================] - 1s 4ms/step - loss: 6.5737 - mape: 6.5737 - val_loss: 9.6533 - val_mape: 9.6533\n",
      "Epoch 18/200\n",
      "307/307 [==============================] - 1s 4ms/step - loss: 4.2351 - mape: 4.2351 - val_loss: 3.2907 - val_mape: 3.2907\n",
      "Epoch 19/200\n",
      "307/307 [==============================] - 1s 4ms/step - loss: 2.3680 - mape: 2.3680 - val_loss: 1.4216 - val_mape: 1.4216\n",
      "Epoch 20/200\n",
      "307/307 [==============================] - 1s 4ms/step - loss: 1.8492 - mape: 1.8492 - val_loss: 1.5325 - val_mape: 1.5325\n",
      "Epoch 21/200\n",
      "307/307 [==============================] - 1s 4ms/step - loss: 1.6790 - mape: 1.6790 - val_loss: 1.7157 - val_mape: 1.7157\n",
      "Epoch 22/200\n",
      "307/307 [==============================] - 1s 4ms/step - loss: 1.5613 - mape: 1.5613 - val_loss: 1.7810 - val_mape: 1.7810\n",
      "Epoch 23/200\n",
      "307/307 [==============================] - 1s 4ms/step - loss: 1.4744 - mape: 1.4744 - val_loss: 1.6925 - val_mape: 1.6925\n",
      "Epoch 24/200\n",
      "307/307 [==============================] - 1s 4ms/step - loss: 1.4041 - mape: 1.4041 - val_loss: 1.5716 - val_mape: 1.5716\n",
      "Epoch 25/200\n",
      "307/307 [==============================] - 1s 4ms/step - loss: 1.3378 - mape: 1.3378 - val_loss: 1.4167 - val_mape: 1.4167\n",
      "Epoch 26/200\n",
      "307/307 [==============================] - 1s 4ms/step - loss: 1.2829 - mape: 1.2829 - val_loss: 1.3545 - val_mape: 1.3545\n",
      "Epoch 27/200\n",
      "307/307 [==============================] - 1s 4ms/step - loss: 1.2470 - mape: 1.2470 - val_loss: 1.3140 - val_mape: 1.3140\n",
      "Epoch 28/200\n",
      "307/307 [==============================] - 1s 4ms/step - loss: 1.2109 - mape: 1.2109 - val_loss: 1.2220 - val_mape: 1.2220\n",
      "Epoch 29/200\n",
      "307/307 [==============================] - 1s 4ms/step - loss: 1.1895 - mape: 1.1895 - val_loss: 1.2135 - val_mape: 1.2135\n",
      "Epoch 30/200\n",
      "307/307 [==============================] - 1s 4ms/step - loss: 1.1767 - mape: 1.1767 - val_loss: 1.1622 - val_mape: 1.1622\n",
      "Epoch 31/200\n",
      "307/307 [==============================] - 1s 4ms/step - loss: 1.1651 - mape: 1.1651 - val_loss: 1.1411 - val_mape: 1.1411\n",
      "Epoch 32/200\n",
      "307/307 [==============================] - 1s 4ms/step - loss: 1.1556 - mape: 1.1556 - val_loss: 1.1150 - val_mape: 1.1150\n",
      "Epoch 33/200\n",
      "307/307 [==============================] - 1s 4ms/step - loss: 1.1459 - mape: 1.1459 - val_loss: 1.0860 - val_mape: 1.0860\n",
      "Epoch 34/200\n",
      "307/307 [==============================] - 1s 4ms/step - loss: 1.1362 - mape: 1.1362 - val_loss: 1.0718 - val_mape: 1.0718\n",
      "Epoch 35/200\n",
      "307/307 [==============================] - 1s 4ms/step - loss: 1.1290 - mape: 1.1290 - val_loss: 1.0471 - val_mape: 1.0471\n",
      "Epoch 36/200\n",
      "307/307 [==============================] - 1s 4ms/step - loss: 1.1239 - mape: 1.1239 - val_loss: 1.0272 - val_mape: 1.0272\n",
      "Epoch 37/200\n",
      "307/307 [==============================] - 1s 4ms/step - loss: 1.1161 - mape: 1.1161 - val_loss: 1.0087 - val_mape: 1.0087\n",
      "Epoch 38/200\n",
      "307/307 [==============================] - 1s 4ms/step - loss: 1.1116 - mape: 1.1116 - val_loss: 0.9957 - val_mape: 0.9957\n",
      "Epoch 39/200\n",
      "307/307 [==============================] - 1s 4ms/step - loss: 1.1063 - mape: 1.1063 - val_loss: 0.9757 - val_mape: 0.9757\n",
      "Epoch 40/200\n",
      "307/307 [==============================] - 1s 4ms/step - loss: 1.1019 - mape: 1.1019 - val_loss: 0.9680 - val_mape: 0.9680\n",
      "Epoch 41/200\n",
      "307/307 [==============================] - 1s 4ms/step - loss: 1.0985 - mape: 1.0985 - val_loss: 0.9491 - val_mape: 0.9491\n",
      "Epoch 42/200\n",
      "307/307 [==============================] - 1s 4ms/step - loss: 1.0954 - mape: 1.0954 - val_loss: 0.9376 - val_mape: 0.9376\n",
      "Epoch 43/200\n",
      "307/307 [==============================] - 1s 5ms/step - loss: 1.0925 - mape: 1.0925 - val_loss: 0.9310 - val_mape: 0.9310\n",
      "Epoch 44/200\n",
      "307/307 [==============================] - 1s 4ms/step - loss: 1.0879 - mape: 1.0879 - val_loss: 0.9169 - val_mape: 0.9169\n",
      "Epoch 45/200\n",
      "307/307 [==============================] - 1s 4ms/step - loss: 1.0863 - mape: 1.0863 - val_loss: 0.9065 - val_mape: 0.9065\n",
      "Epoch 46/200\n",
      "307/307 [==============================] - 1s 4ms/step - loss: 1.0832 - mape: 1.0832 - val_loss: 0.9105 - val_mape: 0.9105\n",
      "Epoch 47/200\n",
      "307/307 [==============================] - 1s 4ms/step - loss: 1.0826 - mape: 1.0826 - val_loss: 0.8936 - val_mape: 0.8936\n",
      "Epoch 48/200\n",
      "307/307 [==============================] - 1s 4ms/step - loss: 1.0796 - mape: 1.0796 - val_loss: 0.8878 - val_mape: 0.8878\n",
      "Epoch 49/200\n",
      "307/307 [==============================] - 1s 4ms/step - loss: 1.0754 - mape: 1.0754 - val_loss: 0.8733 - val_mape: 0.8733\n",
      "Epoch 50/200\n",
      "307/307 [==============================] - 1s 4ms/step - loss: 1.0747 - mape: 1.0747 - val_loss: 0.8749 - val_mape: 0.8749\n",
      "Epoch 51/200\n",
      "307/307 [==============================] - 1s 4ms/step - loss: 1.0724 - mape: 1.0724 - val_loss: 0.8615 - val_mape: 0.8615\n",
      "Epoch 52/200\n",
      "307/307 [==============================] - 1s 4ms/step - loss: 1.0706 - mape: 1.0706 - val_loss: 0.8581 - val_mape: 0.8581\n",
      "Epoch 53/200\n",
      "307/307 [==============================] - 1s 4ms/step - loss: 1.0696 - mape: 1.0696 - val_loss: 0.8560 - val_mape: 0.8560\n",
      "Epoch 54/200\n",
      "307/307 [==============================] - 1s 4ms/step - loss: 1.0673 - mape: 1.0673 - val_loss: 0.8480 - val_mape: 0.8480\n",
      "Epoch 55/200\n",
      "307/307 [==============================] - 1s 4ms/step - loss: 1.0669 - mape: 1.0669 - val_loss: 0.8496 - val_mape: 0.8496\n",
      "Epoch 56/200\n",
      "307/307 [==============================] - 1s 4ms/step - loss: 1.0639 - mape: 1.0639 - val_loss: 0.8554 - val_mape: 0.8554\n",
      "Epoch 57/200\n",
      "307/307 [==============================] - 1s 4ms/step - loss: 1.0635 - mape: 1.0635 - val_loss: 0.8344 - val_mape: 0.8344\n",
      "Epoch 58/200\n",
      "307/307 [==============================] - 1s 4ms/step - loss: 1.0631 - mape: 1.0631 - val_loss: 0.8574 - val_mape: 0.8574\n",
      "Epoch 59/200\n",
      "307/307 [==============================] - 1s 4ms/step - loss: 1.0605 - mape: 1.0605 - val_loss: 0.8498 - val_mape: 0.8498\n",
      "Epoch 60/200\n",
      "307/307 [==============================] - 1s 4ms/step - loss: 1.0602 - mape: 1.0602 - val_loss: 0.8224 - val_mape: 0.8224\n",
      "Epoch 61/200\n",
      "307/307 [==============================] - 1s 4ms/step - loss: 1.0584 - mape: 1.0584 - val_loss: 0.8305 - val_mape: 0.8305\n",
      "Epoch 62/200\n",
      "307/307 [==============================] - 1s 4ms/step - loss: 1.0572 - mape: 1.0572 - val_loss: 0.8233 - val_mape: 0.8233\n",
      "Epoch 63/200\n",
      "307/307 [==============================] - 1s 4ms/step - loss: 1.0563 - mape: 1.0563 - val_loss: 0.8140 - val_mape: 0.8140\n",
      "Epoch 64/200\n",
      "307/307 [==============================] - 1s 4ms/step - loss: 1.0550 - mape: 1.0550 - val_loss: 0.8116 - val_mape: 0.8116\n",
      "Epoch 65/200\n",
      "307/307 [==============================] - 1s 4ms/step - loss: 1.0548 - mape: 1.0548 - val_loss: 0.8088 - val_mape: 0.8088\n",
      "Epoch 66/200\n",
      "307/307 [==============================] - 1s 4ms/step - loss: 1.0541 - mape: 1.0541 - val_loss: 0.8136 - val_mape: 0.8136\n",
      "Epoch 67/200\n",
      "307/307 [==============================] - 1s 4ms/step - loss: 1.0512 - mape: 1.0512 - val_loss: 0.8085 - val_mape: 0.8085\n",
      "Epoch 68/200\n",
      "307/307 [==============================] - 1s 4ms/step - loss: 1.0505 - mape: 1.0505 - val_loss: 0.8353 - val_mape: 0.8353\n",
      "Epoch 69/200\n",
      "307/307 [==============================] - 1s 4ms/step - loss: 1.0502 - mape: 1.0502 - val_loss: 0.8013 - val_mape: 0.8013\n",
      "Epoch 70/200\n",
      "307/307 [==============================] - 1s 4ms/step - loss: 1.0495 - mape: 1.0495 - val_loss: 0.8042 - val_mape: 0.8042\n",
      "Epoch 71/200\n",
      "307/307 [==============================] - 1s 4ms/step - loss: 1.0484 - mape: 1.0484 - val_loss: 0.7979 - val_mape: 0.7979\n",
      "Epoch 72/200\n",
      "307/307 [==============================] - 1s 4ms/step - loss: 1.0489 - mape: 1.0489 - val_loss: 0.8056 - val_mape: 0.8056\n",
      "Epoch 73/200\n",
      "307/307 [==============================] - 1s 4ms/step - loss: 1.0483 - mape: 1.0483 - val_loss: 0.8083 - val_mape: 0.8083\n",
      "Epoch 74/200\n",
      "307/307 [==============================] - 1s 4ms/step - loss: 1.0466 - mape: 1.0466 - val_loss: 0.8006 - val_mape: 0.8006\n",
      "Epoch 75/200\n",
      "307/307 [==============================] - 1s 4ms/step - loss: 1.0449 - mape: 1.0449 - val_loss: 0.7919 - val_mape: 0.7919\n",
      "Epoch 76/200\n",
      "307/307 [==============================] - 1s 4ms/step - loss: 1.0424 - mape: 1.0424 - val_loss: 0.8078 - val_mape: 0.8078\n",
      "Epoch 77/200\n",
      "307/307 [==============================] - 1s 4ms/step - loss: 1.0411 - mape: 1.0411 - val_loss: 0.7954 - val_mape: 0.7954\n",
      "Epoch 78/200\n",
      "307/307 [==============================] - 1s 4ms/step - loss: 1.0409 - mape: 1.0409 - val_loss: 0.7880 - val_mape: 0.7880\n",
      "Epoch 79/200\n",
      "307/307 [==============================] - 1s 4ms/step - loss: 1.0386 - mape: 1.0386 - val_loss: 0.7877 - val_mape: 0.7877\n",
      "Epoch 80/200\n",
      "307/307 [==============================] - 1s 4ms/step - loss: 1.0389 - mape: 1.0389 - val_loss: 0.7921 - val_mape: 0.7921\n",
      "Epoch 81/200\n",
      "307/307 [==============================] - 1s 4ms/step - loss: 1.0377 - mape: 1.0377 - val_loss: 0.7907 - val_mape: 0.7907\n",
      "Epoch 82/200\n",
      "307/307 [==============================] - 1s 4ms/step - loss: 1.0367 - mape: 1.0367 - val_loss: 0.7887 - val_mape: 0.7887\n",
      "Epoch 83/200\n",
      "307/307 [==============================] - 1s 5ms/step - loss: 1.0350 - mape: 1.0350 - val_loss: 0.7901 - val_mape: 0.7901\n",
      "Epoch 84/200\n",
      "307/307 [==============================] - 1s 4ms/step - loss: 1.0347 - mape: 1.0347 - val_loss: 0.7818 - val_mape: 0.7818\n",
      "Epoch 85/200\n",
      "307/307 [==============================] - 1s 4ms/step - loss: 1.0351 - mape: 1.0351 - val_loss: 0.7801 - val_mape: 0.7801\n",
      "Epoch 86/200\n",
      "307/307 [==============================] - 1s 4ms/step - loss: 1.0341 - mape: 1.0341 - val_loss: 0.7878 - val_mape: 0.7878\n",
      "Epoch 87/200\n",
      "307/307 [==============================] - 1s 4ms/step - loss: 1.0324 - mape: 1.0324 - val_loss: 0.7806 - val_mape: 0.7806\n",
      "Epoch 88/200\n",
      "307/307 [==============================] - 1s 4ms/step - loss: 1.0295 - mape: 1.0295 - val_loss: 0.7840 - val_mape: 0.7840\n",
      "Epoch 89/200\n",
      "307/307 [==============================] - 1s 4ms/step - loss: 1.0306 - mape: 1.0306 - val_loss: 0.7791 - val_mape: 0.7791\n",
      "Epoch 90/200\n",
      "307/307 [==============================] - 1s 4ms/step - loss: 1.0305 - mape: 1.0305 - val_loss: 0.7753 - val_mape: 0.7753\n",
      "Epoch 91/200\n",
      "307/307 [==============================] - 1s 4ms/step - loss: 1.0271 - mape: 1.0271 - val_loss: 0.7791 - val_mape: 0.7791\n",
      "Epoch 92/200\n",
      "307/307 [==============================] - 1s 4ms/step - loss: 1.0272 - mape: 1.0272 - val_loss: 0.7751 - val_mape: 0.7751\n",
      "Epoch 93/200\n",
      "307/307 [==============================] - 1s 4ms/step - loss: 1.0268 - mape: 1.0268 - val_loss: 0.7727 - val_mape: 0.7727\n",
      "Epoch 94/200\n",
      "307/307 [==============================] - 1s 4ms/step - loss: 1.0271 - mape: 1.0271 - val_loss: 0.7718 - val_mape: 0.7718\n",
      "Epoch 95/200\n",
      "307/307 [==============================] - 1s 4ms/step - loss: 1.0249 - mape: 1.0249 - val_loss: 0.7718 - val_mape: 0.7718\n",
      "Epoch 96/200\n",
      "307/307 [==============================] - 1s 4ms/step - loss: 1.0266 - mape: 1.0266 - val_loss: 0.7748 - val_mape: 0.7748\n",
      "Epoch 97/200\n",
      "307/307 [==============================] - 1s 4ms/step - loss: 1.0253 - mape: 1.0253 - val_loss: 0.7724 - val_mape: 0.7724\n",
      "Epoch 98/200\n",
      "307/307 [==============================] - 1s 4ms/step - loss: 1.0248 - mape: 1.0248 - val_loss: 0.8141 - val_mape: 0.8141\n",
      "Epoch 99/200\n",
      "307/307 [==============================] - 1s 4ms/step - loss: 1.0218 - mape: 1.0218 - val_loss: 0.7784 - val_mape: 0.7784\n",
      "Epoch 100/200\n",
      "307/307 [==============================] - 1s 4ms/step - loss: 1.0217 - mape: 1.0217 - val_loss: 0.7739 - val_mape: 0.7739\n",
      "Epoch 101/200\n",
      "307/307 [==============================] - 1s 4ms/step - loss: 1.0218 - mape: 1.0218 - val_loss: 0.7711 - val_mape: 0.7711\n",
      "Epoch 102/200\n",
      "307/307 [==============================] - 1s 4ms/step - loss: 1.0203 - mape: 1.0203 - val_loss: 0.7679 - val_mape: 0.7679\n",
      "Epoch 103/200\n",
      "307/307 [==============================] - 1s 4ms/step - loss: 1.0190 - mape: 1.0190 - val_loss: 0.7637 - val_mape: 0.7637\n",
      "Epoch 104/200\n",
      "307/307 [==============================] - 1s 4ms/step - loss: 1.0206 - mape: 1.0206 - val_loss: 0.7619 - val_mape: 0.7619\n",
      "Epoch 105/200\n",
      "307/307 [==============================] - 1s 4ms/step - loss: 1.0185 - mape: 1.0185 - val_loss: 0.7697 - val_mape: 0.7697\n",
      "Epoch 106/200\n",
      "307/307 [==============================] - 1s 4ms/step - loss: 1.0162 - mape: 1.0162 - val_loss: 0.7802 - val_mape: 0.7802\n",
      "Epoch 107/200\n",
      "307/307 [==============================] - 1s 4ms/step - loss: 1.0158 - mape: 1.0158 - val_loss: 0.7593 - val_mape: 0.7593\n",
      "Epoch 108/200\n",
      "307/307 [==============================] - 1s 4ms/step - loss: 1.0139 - mape: 1.0139 - val_loss: 0.7593 - val_mape: 0.7593\n",
      "Epoch 109/200\n",
      "307/307 [==============================] - 1s 4ms/step - loss: 1.0141 - mape: 1.0141 - val_loss: 0.7573 - val_mape: 0.7573\n",
      "Epoch 110/200\n",
      "307/307 [==============================] - 1s 4ms/step - loss: 1.0143 - mape: 1.0143 - val_loss: 0.7620 - val_mape: 0.7620\n",
      "Epoch 111/200\n",
      "307/307 [==============================] - 1s 4ms/step - loss: 1.0136 - mape: 1.0136 - val_loss: 0.7606 - val_mape: 0.7606\n",
      "Epoch 112/200\n",
      "307/307 [==============================] - 1s 4ms/step - loss: 1.0126 - mape: 1.0126 - val_loss: 0.7544 - val_mape: 0.7544\n",
      "Epoch 113/200\n",
      "307/307 [==============================] - 1s 4ms/step - loss: 1.0103 - mape: 1.0103 - val_loss: 0.7550 - val_mape: 0.7550\n",
      "Epoch 114/200\n",
      "307/307 [==============================] - 1s 4ms/step - loss: 1.0113 - mape: 1.0113 - val_loss: 0.7542 - val_mape: 0.7542\n",
      "Epoch 115/200\n",
      "307/307 [==============================] - 1s 4ms/step - loss: 1.0126 - mape: 1.0126 - val_loss: 0.7538 - val_mape: 0.7538\n",
      "Epoch 116/200\n",
      "307/307 [==============================] - 1s 4ms/step - loss: 1.0093 - mape: 1.0093 - val_loss: 0.7553 - val_mape: 0.7553\n",
      "Epoch 117/200\n",
      "307/307 [==============================] - 1s 4ms/step - loss: 1.0095 - mape: 1.0095 - val_loss: 0.7637 - val_mape: 0.7637\n",
      "Epoch 118/200\n",
      "307/307 [==============================] - 1s 4ms/step - loss: 1.0071 - mape: 1.0071 - val_loss: 0.7540 - val_mape: 0.7540\n",
      "Epoch 119/200\n",
      "307/307 [==============================] - 1s 4ms/step - loss: 1.0055 - mape: 1.0055 - val_loss: 0.7495 - val_mape: 0.7495\n",
      "Epoch 120/200\n",
      "307/307 [==============================] - 1s 4ms/step - loss: 1.0069 - mape: 1.0069 - val_loss: 0.7620 - val_mape: 0.7620\n",
      "Epoch 121/200\n",
      "307/307 [==============================] - 1s 4ms/step - loss: 1.0064 - mape: 1.0064 - val_loss: 0.7472 - val_mape: 0.7472\n",
      "Epoch 122/200\n",
      "307/307 [==============================] - 1s 4ms/step - loss: 1.0045 - mape: 1.0045 - val_loss: 0.7477 - val_mape: 0.7477\n",
      "Epoch 123/200\n",
      "307/307 [==============================] - 1s 4ms/step - loss: 1.0032 - mape: 1.0032 - val_loss: 0.7466 - val_mape: 0.7466\n",
      "Epoch 124/200\n",
      "307/307 [==============================] - 1s 4ms/step - loss: 1.0024 - mape: 1.0024 - val_loss: 0.7473 - val_mape: 0.7473\n",
      "Epoch 125/200\n",
      "307/307 [==============================] - 1s 4ms/step - loss: 1.0018 - mape: 1.0018 - val_loss: 0.7425 - val_mape: 0.7425\n",
      "Epoch 126/200\n",
      "307/307 [==============================] - 1s 5ms/step - loss: 1.0022 - mape: 1.0022 - val_loss: 0.7450 - val_mape: 0.7450\n",
      "Epoch 127/200\n",
      "307/307 [==============================] - 1s 4ms/step - loss: 1.0019 - mape: 1.0019 - val_loss: 0.7429 - val_mape: 0.7429\n",
      "Epoch 128/200\n",
      "307/307 [==============================] - 1s 4ms/step - loss: 0.9983 - mape: 0.9983 - val_loss: 0.7413 - val_mape: 0.7413\n",
      "Epoch 129/200\n",
      "307/307 [==============================] - 1s 4ms/step - loss: 0.9976 - mape: 0.9976 - val_loss: 0.7395 - val_mape: 0.7395\n",
      "Epoch 130/200\n",
      "307/307 [==============================] - 1s 5ms/step - loss: 0.9974 - mape: 0.9974 - val_loss: 0.7720 - val_mape: 0.7720\n",
      "Epoch 131/200\n",
      "307/307 [==============================] - 1s 4ms/step - loss: 0.9965 - mape: 0.9965 - val_loss: 0.7386 - val_mape: 0.7386\n",
      "Epoch 132/200\n",
      "307/307 [==============================] - 1s 4ms/step - loss: 0.9963 - mape: 0.9963 - val_loss: 0.7381 - val_mape: 0.7381\n",
      "Epoch 133/200\n",
      "307/307 [==============================] - 1s 4ms/step - loss: 0.9952 - mape: 0.9952 - val_loss: 0.7360 - val_mape: 0.7360\n",
      "Epoch 134/200\n",
      "307/307 [==============================] - 1s 4ms/step - loss: 0.9958 - mape: 0.9958 - val_loss: 0.7463 - val_mape: 0.7463\n",
      "Epoch 135/200\n",
      "307/307 [==============================] - 1s 4ms/step - loss: 0.9948 - mape: 0.9948 - val_loss: 0.7378 - val_mape: 0.7378\n",
      "Epoch 136/200\n",
      "307/307 [==============================] - 1s 4ms/step - loss: 0.9935 - mape: 0.9935 - val_loss: 0.7370 - val_mape: 0.7370\n",
      "Epoch 137/200\n",
      "307/307 [==============================] - 1s 4ms/step - loss: 0.9937 - mape: 0.9937 - val_loss: 0.7322 - val_mape: 0.7322\n",
      "Epoch 138/200\n",
      "307/307 [==============================] - 1s 4ms/step - loss: 0.9921 - mape: 0.9921 - val_loss: 0.7382 - val_mape: 0.7382\n",
      "Epoch 139/200\n",
      "307/307 [==============================] - 1s 4ms/step - loss: 0.9920 - mape: 0.9920 - val_loss: 0.7359 - val_mape: 0.7359\n",
      "Epoch 140/200\n",
      "307/307 [==============================] - 1s 4ms/step - loss: 0.9905 - mape: 0.9905 - val_loss: 0.7302 - val_mape: 0.7302\n",
      "Epoch 141/200\n",
      "307/307 [==============================] - 1s 4ms/step - loss: 0.9903 - mape: 0.9903 - val_loss: 0.7311 - val_mape: 0.7311\n",
      "Epoch 142/200\n",
      "307/307 [==============================] - 1s 4ms/step - loss: 0.9907 - mape: 0.9907 - val_loss: 0.7283 - val_mape: 0.7283\n",
      "Epoch 143/200\n",
      "307/307 [==============================] - 1s 4ms/step - loss: 0.9905 - mape: 0.9905 - val_loss: 0.7282 - val_mape: 0.7282\n",
      "Epoch 144/200\n",
      "307/307 [==============================] - 1s 4ms/step - loss: 0.9888 - mape: 0.9888 - val_loss: 0.7291 - val_mape: 0.7291\n",
      "Epoch 145/200\n",
      "307/307 [==============================] - 1s 5ms/step - loss: 0.9880 - mape: 0.9880 - val_loss: 0.7273 - val_mape: 0.7273\n",
      "Epoch 146/200\n",
      "307/307 [==============================] - 1s 4ms/step - loss: 0.9876 - mape: 0.9876 - val_loss: 0.7257 - val_mape: 0.7257\n",
      "Epoch 147/200\n",
      "307/307 [==============================] - 1s 4ms/step - loss: 0.9844 - mape: 0.9844 - val_loss: 0.7303 - val_mape: 0.7303\n",
      "Epoch 148/200\n",
      "307/307 [==============================] - 1s 4ms/step - loss: 0.9840 - mape: 0.9840 - val_loss: 0.7346 - val_mape: 0.7346\n",
      "Epoch 149/200\n",
      "307/307 [==============================] - 1s 4ms/step - loss: 0.9875 - mape: 0.9875 - val_loss: 0.7254 - val_mape: 0.7254\n",
      "Epoch 150/200\n",
      "307/307 [==============================] - 1s 4ms/step - loss: 0.9838 - mape: 0.9838 - val_loss: 0.7240 - val_mape: 0.7240\n",
      "Epoch 151/200\n",
      "307/307 [==============================] - 1s 4ms/step - loss: 0.9809 - mape: 0.9809 - val_loss: 0.7216 - val_mape: 0.7216\n",
      "Epoch 152/200\n",
      "307/307 [==============================] - 1s 4ms/step - loss: 0.9832 - mape: 0.9832 - val_loss: 0.7271 - val_mape: 0.7271\n",
      "Epoch 153/200\n",
      "307/307 [==============================] - 1s 4ms/step - loss: 0.9814 - mape: 0.9814 - val_loss: 0.7312 - val_mape: 0.7312\n",
      "Epoch 154/200\n",
      "307/307 [==============================] - 1s 4ms/step - loss: 0.9810 - mape: 0.9810 - val_loss: 0.7213 - val_mape: 0.7213\n",
      "Epoch 155/200\n",
      "307/307 [==============================] - 1s 4ms/step - loss: 0.9804 - mape: 0.9804 - val_loss: 0.7201 - val_mape: 0.7201\n",
      "Epoch 156/200\n",
      "307/307 [==============================] - 1s 4ms/step - loss: 0.9797 - mape: 0.9797 - val_loss: 0.7405 - val_mape: 0.7405\n",
      "Epoch 157/200\n",
      "307/307 [==============================] - 1s 4ms/step - loss: 0.9785 - mape: 0.9785 - val_loss: 0.7191 - val_mape: 0.7191\n",
      "Epoch 158/200\n",
      "307/307 [==============================] - 1s 4ms/step - loss: 0.9772 - mape: 0.9772 - val_loss: 0.7167 - val_mape: 0.7167\n",
      "Epoch 159/200\n",
      "307/307 [==============================] - 1s 5ms/step - loss: 0.9792 - mape: 0.9792 - val_loss: 0.7512 - val_mape: 0.7512\n",
      "Epoch 160/200\n",
      "307/307 [==============================] - 1s 5ms/step - loss: 0.9773 - mape: 0.9773 - val_loss: 0.7160 - val_mape: 0.7160\n",
      "Epoch 161/200\n",
      "307/307 [==============================] - 1s 4ms/step - loss: 0.9758 - mape: 0.9758 - val_loss: 0.7237 - val_mape: 0.7237\n",
      "Epoch 162/200\n",
      "307/307 [==============================] - 1s 4ms/step - loss: 0.9756 - mape: 0.9756 - val_loss: 0.7174 - val_mape: 0.7174\n",
      "Epoch 163/200\n",
      "307/307 [==============================] - 1s 4ms/step - loss: 0.9744 - mape: 0.9744 - val_loss: 0.7211 - val_mape: 0.7211\n",
      "Epoch 164/200\n",
      "307/307 [==============================] - 1s 4ms/step - loss: 0.9737 - mape: 0.9737 - val_loss: 0.7212 - val_mape: 0.7212\n",
      "Epoch 165/200\n",
      "307/307 [==============================] - 1s 4ms/step - loss: 0.9739 - mape: 0.9739 - val_loss: 0.7132 - val_mape: 0.7132\n",
      "Epoch 166/200\n",
      "307/307 [==============================] - 1s 4ms/step - loss: 0.9743 - mape: 0.9743 - val_loss: 0.7228 - val_mape: 0.7228\n",
      "Epoch 167/200\n",
      "307/307 [==============================] - 1s 4ms/step - loss: 0.9721 - mape: 0.9721 - val_loss: 0.7100 - val_mape: 0.7100\n",
      "Epoch 168/200\n",
      "307/307 [==============================] - 1s 5ms/step - loss: 0.9722 - mape: 0.9722 - val_loss: 0.7108 - val_mape: 0.7108\n",
      "Epoch 169/200\n",
      "307/307 [==============================] - 1s 4ms/step - loss: 0.9706 - mape: 0.9706 - val_loss: 0.7115 - val_mape: 0.7115\n",
      "Epoch 170/200\n",
      "307/307 [==============================] - 1s 4ms/step - loss: 0.9713 - mape: 0.9713 - val_loss: 0.7172 - val_mape: 0.7172\n",
      "Epoch 171/200\n",
      "307/307 [==============================] - 1s 5ms/step - loss: 0.9692 - mape: 0.9692 - val_loss: 0.7136 - val_mape: 0.7136\n",
      "Epoch 172/200\n",
      "307/307 [==============================] - 1s 4ms/step - loss: 0.9709 - mape: 0.9709 - val_loss: 0.7282 - val_mape: 0.7282\n",
      "Epoch 173/200\n",
      "307/307 [==============================] - 1s 4ms/step - loss: 0.9688 - mape: 0.9688 - val_loss: 0.7117 - val_mape: 0.7117\n",
      "Epoch 174/200\n",
      "307/307 [==============================] - 1s 4ms/step - loss: 0.9679 - mape: 0.9679 - val_loss: 0.7062 - val_mape: 0.7062\n",
      "Epoch 175/200\n",
      "307/307 [==============================] - 1s 4ms/step - loss: 0.9689 - mape: 0.9689 - val_loss: 0.7056 - val_mape: 0.7056\n",
      "Epoch 176/200\n",
      "307/307 [==============================] - 1s 4ms/step - loss: 0.9646 - mape: 0.9646 - val_loss: 0.7040 - val_mape: 0.7040\n",
      "Epoch 177/200\n",
      "307/307 [==============================] - 1s 4ms/step - loss: 0.9648 - mape: 0.9648 - val_loss: 0.7045 - val_mape: 0.7045\n",
      "Epoch 178/200\n",
      "307/307 [==============================] - 1s 4ms/step - loss: 0.9652 - mape: 0.9652 - val_loss: 0.7025 - val_mape: 0.7025\n",
      "Epoch 179/200\n",
      "307/307 [==============================] - 1s 4ms/step - loss: 0.9647 - mape: 0.9647 - val_loss: 0.7038 - val_mape: 0.7038\n",
      "Epoch 180/200\n",
      "307/307 [==============================] - 1s 4ms/step - loss: 0.9637 - mape: 0.9637 - val_loss: 0.7046 - val_mape: 0.7046\n",
      "Epoch 181/200\n",
      "307/307 [==============================] - 1s 4ms/step - loss: 0.9624 - mape: 0.9624 - val_loss: 0.7009 - val_mape: 0.7009\n",
      "Epoch 182/200\n",
      "307/307 [==============================] - 1s 5ms/step - loss: 0.9610 - mape: 0.9610 - val_loss: 0.7016 - val_mape: 0.7016\n",
      "Epoch 183/200\n",
      "307/307 [==============================] - 1s 4ms/step - loss: 0.9620 - mape: 0.9620 - val_loss: 0.7005 - val_mape: 0.7005\n",
      "Epoch 184/200\n",
      "307/307 [==============================] - 1s 5ms/step - loss: 0.9618 - mape: 0.9618 - val_loss: 0.7082 - val_mape: 0.7082\n",
      "Epoch 185/200\n",
      "307/307 [==============================] - 1s 4ms/step - loss: 0.9587 - mape: 0.9587 - val_loss: 0.6979 - val_mape: 0.6979\n",
      "Epoch 186/200\n",
      "307/307 [==============================] - 1s 4ms/step - loss: 0.9594 - mape: 0.9594 - val_loss: 0.7124 - val_mape: 0.7124\n",
      "Epoch 187/200\n",
      "307/307 [==============================] - 1s 4ms/step - loss: 0.9609 - mape: 0.9609 - val_loss: 0.7013 - val_mape: 0.7013\n",
      "Epoch 188/200\n",
      "307/307 [==============================] - 1s 4ms/step - loss: 0.9601 - mape: 0.9601 - val_loss: 0.6956 - val_mape: 0.6956\n",
      "Epoch 189/200\n",
      "307/307 [==============================] - 1s 4ms/step - loss: 0.9595 - mape: 0.9595 - val_loss: 0.6952 - val_mape: 0.6952\n",
      "Epoch 190/200\n",
      "307/307 [==============================] - 1s 4ms/step - loss: 0.9575 - mape: 0.9575 - val_loss: 0.6965 - val_mape: 0.6965\n",
      "Epoch 191/200\n",
      "307/307 [==============================] - 1s 4ms/step - loss: 0.9556 - mape: 0.9556 - val_loss: 0.6959 - val_mape: 0.6959\n",
      "Epoch 192/200\n",
      "307/307 [==============================] - 1s 4ms/step - loss: 0.9564 - mape: 0.9564 - val_loss: 0.6955 - val_mape: 0.6955\n",
      "Epoch 193/200\n",
      "307/307 [==============================] - 1s 4ms/step - loss: 0.9567 - mape: 0.9567 - val_loss: 0.6985 - val_mape: 0.6985\n",
      "Epoch 194/200\n",
      "307/307 [==============================] - 1s 4ms/step - loss: 0.9554 - mape: 0.9554 - val_loss: 0.6971 - val_mape: 0.6971\n",
      "Epoch 195/200\n",
      "307/307 [==============================] - 1s 4ms/step - loss: 0.9541 - mape: 0.9541 - val_loss: 0.6929 - val_mape: 0.6929\n",
      "Epoch 196/200\n",
      "307/307 [==============================] - 1s 4ms/step - loss: 0.9533 - mape: 0.9533 - val_loss: 0.7036 - val_mape: 0.7036\n",
      "Epoch 197/200\n",
      "307/307 [==============================] - 1s 4ms/step - loss: 0.9538 - mape: 0.9538 - val_loss: 0.6916 - val_mape: 0.6916\n",
      "Epoch 198/200\n",
      "307/307 [==============================] - 1s 4ms/step - loss: 0.9504 - mape: 0.9504 - val_loss: 0.7080 - val_mape: 0.7080\n",
      "Epoch 199/200\n",
      "307/307 [==============================] - 1s 4ms/step - loss: 0.9515 - mape: 0.9515 - val_loss: 0.6904 - val_mape: 0.6904\n",
      "Epoch 200/200\n",
      "307/307 [==============================] - 1s 4ms/step - loss: 0.9508 - mape: 0.9508 - val_loss: 0.6880 - val_mape: 0.6880\n"
     ]
    }
   ],
   "source": [
    "model = Sequential()\n",
    "model.add(LSTM(64,activation='relu',input_dim = 4,recurrent_dropout=0.2))\n",
    "model.add(Dense(72,activation='relu'))\n",
    "model.add(Dense(1,activation='linear'))\n",
    "ad=optimizers.Adam(learning_rate = 0.000011262424129007364)\n",
    "model.compile(optimizer = ad, loss = 'mape', metrics = ['mape'])\n",
    "model_history=model.fit(trainX, trainY,validation_data=(testX,testY), batch_size = 32, epochs = 200)"
   ]
  },
  {
   "cell_type": "code",
   "execution_count": 32,
   "id": "77c05906",
   "metadata": {
    "id": "77c05906"
   },
   "outputs": [],
   "source": [
    "def model_loss(history):\n",
    "    plt.figure(figsize=(8,4))\n",
    "    plt.plot(history.history['loss'], label='Train Loss')\n",
    "    plt.plot(history.history['val_loss'], label='Test Loss')\n",
    "    plt.title('model loss')\n",
    "    plt.ylabel('loss')\n",
    "    plt.xlabel('epochs')\n",
    "    plt.legend(loc='upper right')\n",
    "    plt.show();"
   ]
  },
  {
   "cell_type": "code",
   "execution_count": 33,
   "id": "6vZ-AXOUurmJ",
   "metadata": {
    "id": "6vZ-AXOUurmJ"
   },
   "outputs": [],
   "source": [
    "train_score = model.evaluate(trainX, trainY,verbose=0)\n",
    "test_score = model.evaluate(testX, testY,verbose=0)"
   ]
  },
  {
   "cell_type": "code",
   "execution_count": 34,
   "id": "45a22c27",
   "metadata": {
    "colab": {
     "base_uri": "https://localhost:8080/",
     "height": 329
    },
    "id": "45a22c27",
    "outputId": "d9c7b6f0-653f-4741-fb34-5ec3780494bc"
   },
   "outputs": [
    {
     "name": "stdout",
     "output_type": "stream",
     "text": [
      "Train MAPE : 0.95 \n",
      "Test MAPE : 0.69 \n"
     ]
    },
    {
     "data": {
      "image/png": "[encoded data removed]",
      "text/plain": [
       "<Figure size 576x288 with 1 Axes>"
      ]
     },
     "metadata": {
      "needs_background": "light"
     },
     "output_type": "display_data"
    }
   ],
   "source": [
    "train_predict = model.predict(trainX)\n",
    "test_predict = model.predict(testX)\n",
    "\n",
    "# invert predictions\n",
    "train_predict = scaler.inverse_transform(train_predict)\n",
    "trainY = scaler.inverse_transform([trainY])\n",
    "test_predict = scaler.inverse_transform(test_predict)\n",
    "testY = scaler.inverse_transform([testY])\n",
    "print('Train MAPE : %.2f ' % (train_score[1]))\n",
    "print('Test MAPE : %.2f ' % (test_score[1]))\n",
    "model_loss(model_history)"
   ]
  },
  {
   "cell_type": "code",
   "execution_count": 35,
   "id": "dc942f74",
   "metadata": {
    "id": "dc942f74"
   },
   "outputs": [],
   "source": [
    "import seaborn as sns"
   ]
  },
  {
   "cell_type": "code",
   "execution_count": 36,
   "id": "dee9bab8",
   "metadata": {
    "id": "dee9bab8"
   },
   "outputs": [],
   "source": [
    "def prediction_plot(testY, test_predict,look_back):\n",
    "    len_prediction=[x for x in range(9797,10893)]\n",
    "    plt.plot(trainY.reshape(-1,))\n",
    "    plt.plot(len_prediction, testY.reshape(-1,), marker='.', label='actual')\n",
    "    plt.plot(len_prediction, test_predict, 'g', label=\"prediction\")\n",
    "    plt.tight_layout()\n",
    "    sns.despine(top=True)\n",
    "    plt.subplots_adjust(left=0.07)\n",
    "    plt.ylabel('Units', size=15)\n",
    "    plt.xlabel('Time step', size=15)\n",
    "    plt.legend(fontsize=15)\n",
    "    plt.show()"
   ]
  },
  {
   "cell_type": "code",
   "execution_count": 37,
   "id": "363040b5",
   "metadata": {
    "colab": {
     "base_uri": "https://localhost:8080/",
     "height": 604
    },
    "id": "363040b5",
    "outputId": "a1b089da-8002-4d80-dffb-58a9e8fcbdda"
   },
   "outputs": [
    {
     "data": {
      "image/png": "[encoded data removed]",
      "text/plain": [
       "<Figure size 1080x576 with 1 Axes>"
      ]
     },
     "metadata": {
      "needs_background": "light"
     },
     "output_type": "display_data"
    }
   ],
   "source": [
    "test_predict = model.predict(testX)\n",
    "test_predict = scaler.inverse_transform(test_predict)\n",
    "prediction_plot(testY, test_predict,look_back)"
   ]
  },
  {
   "cell_type": "code",
   "execution_count": null,
   "id": "f8a7708c",
   "metadata": {
    "id": "f8a7708c"
   },
   "outputs": [],
   "source": []
  }
 ],
 "metadata": {
  "colab": {
   "collapsed_sections": [],
   "name": "gold_price_HPT_LSTM.ipynb",
   "provenance": []
  },
  "kernelspec": {
   "display_name": "Python 3",
   "language": "python",
   "name": "python3"
  },
  "language_info": {
   "codemirror_mode": {
    "name": "ipython",
    "version": 3
   },
   "file_extension": ".py",
   "mimetype": "text/x-python",
   "name": "python",
   "nbconvert_exporter": "python",
   "pygments_lexer": "ipython3",
   "version": "3.8.8"
  }
 },
 "nbformat": 4,
 "nbformat_minor": 5
}
